{
 "cells": [
  {
   "cell_type": "code",
   "execution_count": 1,
   "metadata": {},
   "outputs": [
    {
     "name": "stdout",
     "output_type": "stream",
     "text": [
      "Acquire.py Loaded Successfully\n",
      "Prep.py Loaded Successfully\n",
      "Prep.py Loaded Successfully\n",
      "Wrangle.py Loaded Successfully\n"
     ]
    }
   ],
   "source": [
    "import pandas as pd\n",
    "import matplotlib.pyplot as plt\n",
    "import seaborn as sns\n",
    "import numpy as np\n",
    "import prep_plays\n",
    "import wrangle_plays_data\n",
    "from scipy import stats\n",
    "pd.set_option('display.max_columns', None)"
   ]
  },
  {
   "cell_type": "code",
   "execution_count": 2,
   "metadata": {},
   "outputs": [],
   "source": [
    "df = prep_plays.prep_plays_data()"
   ]
  },
  {
   "cell_type": "code",
   "execution_count": 3,
   "metadata": {},
   "outputs": [
    {
     "data": {
      "text/plain": [
       "(17001, 30)"
      ]
     },
     "execution_count": 3,
     "metadata": {},
     "output_type": "execute_result"
    }
   ],
   "source": [
    "df.shape"
   ]
  },
  {
   "cell_type": "code",
   "execution_count": 4,
   "metadata": {},
   "outputs": [
    {
     "data": {
      "text/plain": [
       "playDescription           0\n",
       "quarter                   0\n",
       "down                      0\n",
       "yardsToGo                 0\n",
       "team_by_comp_yds          0\n",
       "defendersInTheBox         0\n",
       "numberOfPassRushers       0\n",
       "QB_under_pressure         0\n",
       "gameClock                 0\n",
       "absoluteYardlineNumber    0\n",
       "epa                       0\n",
       "pass_stopped              0\n",
       "playResult                0\n",
       "RB                        0\n",
       "TE                        0\n",
       "WR                        0\n",
       "DL                        0\n",
       "LB                        0\n",
       "DB                        0\n",
       "EMPTY                     0\n",
       "I_FORM                    0\n",
       "JUMBO                     0\n",
       "PISTOL                    0\n",
       "SHOTGUN                   0\n",
       "SINGLEBACK                0\n",
       "WILDCAT                   0\n",
       "four_three                0\n",
       "three_four                0\n",
       "nickel                    0\n",
       "dime                      0\n",
       "dtype: int64"
      ]
     },
     "execution_count": 4,
     "metadata": {},
     "output_type": "execute_result"
    }
   ],
   "source": [
    "df.isnull().sum()"
   ]
  },
  {
   "cell_type": "code",
   "execution_count": 5,
   "metadata": {},
   "outputs": [
    {
     "data": {
      "text/html": [
       "<div>\n",
       "<style scoped>\n",
       "    .dataframe tbody tr th:only-of-type {\n",
       "        vertical-align: middle;\n",
       "    }\n",
       "\n",
       "    .dataframe tbody tr th {\n",
       "        vertical-align: top;\n",
       "    }\n",
       "\n",
       "    .dataframe thead th {\n",
       "        text-align: right;\n",
       "    }\n",
       "</style>\n",
       "<table border=\"1\" class=\"dataframe\">\n",
       "  <thead>\n",
       "    <tr style=\"text-align: right;\">\n",
       "      <th></th>\n",
       "      <th>playDescription</th>\n",
       "      <th>quarter</th>\n",
       "      <th>down</th>\n",
       "      <th>yardsToGo</th>\n",
       "      <th>team_by_comp_yds</th>\n",
       "      <th>defendersInTheBox</th>\n",
       "      <th>numberOfPassRushers</th>\n",
       "      <th>QB_under_pressure</th>\n",
       "      <th>gameClock</th>\n",
       "      <th>absoluteYardlineNumber</th>\n",
       "      <th>epa</th>\n",
       "      <th>pass_stopped</th>\n",
       "      <th>playResult</th>\n",
       "      <th>RB</th>\n",
       "      <th>TE</th>\n",
       "      <th>WR</th>\n",
       "      <th>DL</th>\n",
       "      <th>LB</th>\n",
       "      <th>DB</th>\n",
       "      <th>EMPTY</th>\n",
       "      <th>I_FORM</th>\n",
       "      <th>JUMBO</th>\n",
       "      <th>PISTOL</th>\n",
       "      <th>SHOTGUN</th>\n",
       "      <th>SINGLEBACK</th>\n",
       "      <th>WILDCAT</th>\n",
       "      <th>four_three</th>\n",
       "      <th>three_four</th>\n",
       "      <th>nickel</th>\n",
       "      <th>dime</th>\n",
       "    </tr>\n",
       "  </thead>\n",
       "  <tbody>\n",
       "    <tr>\n",
       "      <th>0</th>\n",
       "      <td>(15:00) M.Ryan pass short right to J.Jones pus...</td>\n",
       "      <td>1</td>\n",
       "      <td>1</td>\n",
       "      <td>15</td>\n",
       "      <td>3</td>\n",
       "      <td>7.0</td>\n",
       "      <td>4.0</td>\n",
       "      <td>0.0</td>\n",
       "      <td>15:00:00</td>\n",
       "      <td>90.0</td>\n",
       "      <td>0.261827</td>\n",
       "      <td>0</td>\n",
       "      <td>10</td>\n",
       "      <td>2</td>\n",
       "      <td>1</td>\n",
       "      <td>2</td>\n",
       "      <td>4</td>\n",
       "      <td>2</td>\n",
       "      <td>5</td>\n",
       "      <td>0</td>\n",
       "      <td>1</td>\n",
       "      <td>0</td>\n",
       "      <td>0</td>\n",
       "      <td>0</td>\n",
       "      <td>0</td>\n",
       "      <td>0</td>\n",
       "      <td>0</td>\n",
       "      <td>0</td>\n",
       "      <td>1</td>\n",
       "      <td>0</td>\n",
       "    </tr>\n",
       "    <tr>\n",
       "      <th>1</th>\n",
       "      <td>(13:10) M.Ryan pass incomplete short right to ...</td>\n",
       "      <td>1</td>\n",
       "      <td>1</td>\n",
       "      <td>10</td>\n",
       "      <td>3</td>\n",
       "      <td>7.0</td>\n",
       "      <td>4.0</td>\n",
       "      <td>0.0</td>\n",
       "      <td>13:10:00</td>\n",
       "      <td>49.0</td>\n",
       "      <td>-0.372360</td>\n",
       "      <td>1</td>\n",
       "      <td>0</td>\n",
       "      <td>1</td>\n",
       "      <td>1</td>\n",
       "      <td>3</td>\n",
       "      <td>4</td>\n",
       "      <td>2</td>\n",
       "      <td>5</td>\n",
       "      <td>0</td>\n",
       "      <td>0</td>\n",
       "      <td>0</td>\n",
       "      <td>0</td>\n",
       "      <td>0</td>\n",
       "      <td>1</td>\n",
       "      <td>0</td>\n",
       "      <td>0</td>\n",
       "      <td>0</td>\n",
       "      <td>1</td>\n",
       "      <td>0</td>\n",
       "    </tr>\n",
       "    <tr>\n",
       "      <th>2</th>\n",
       "      <td>(13:05) (Shotgun) M.Ryan pass incomplete short...</td>\n",
       "      <td>1</td>\n",
       "      <td>2</td>\n",
       "      <td>10</td>\n",
       "      <td>3</td>\n",
       "      <td>6.0</td>\n",
       "      <td>4.0</td>\n",
       "      <td>0.0</td>\n",
       "      <td>13:05:00</td>\n",
       "      <td>49.0</td>\n",
       "      <td>-0.702779</td>\n",
       "      <td>1</td>\n",
       "      <td>0</td>\n",
       "      <td>2</td>\n",
       "      <td>1</td>\n",
       "      <td>2</td>\n",
       "      <td>4</td>\n",
       "      <td>2</td>\n",
       "      <td>5</td>\n",
       "      <td>0</td>\n",
       "      <td>0</td>\n",
       "      <td>0</td>\n",
       "      <td>0</td>\n",
       "      <td>1</td>\n",
       "      <td>0</td>\n",
       "      <td>0</td>\n",
       "      <td>0</td>\n",
       "      <td>0</td>\n",
       "      <td>1</td>\n",
       "      <td>0</td>\n",
       "    </tr>\n",
       "    <tr>\n",
       "      <th>3</th>\n",
       "      <td>(13:01) (Shotgun) M.Ryan pass deep left to J.J...</td>\n",
       "      <td>1</td>\n",
       "      <td>3</td>\n",
       "      <td>10</td>\n",
       "      <td>3</td>\n",
       "      <td>6.0</td>\n",
       "      <td>5.0</td>\n",
       "      <td>1.0</td>\n",
       "      <td>13:01:00</td>\n",
       "      <td>49.0</td>\n",
       "      <td>3.047530</td>\n",
       "      <td>0</td>\n",
       "      <td>33</td>\n",
       "      <td>1</td>\n",
       "      <td>1</td>\n",
       "      <td>3</td>\n",
       "      <td>4</td>\n",
       "      <td>1</td>\n",
       "      <td>6</td>\n",
       "      <td>0</td>\n",
       "      <td>0</td>\n",
       "      <td>0</td>\n",
       "      <td>0</td>\n",
       "      <td>1</td>\n",
       "      <td>0</td>\n",
       "      <td>0</td>\n",
       "      <td>0</td>\n",
       "      <td>0</td>\n",
       "      <td>0</td>\n",
       "      <td>1</td>\n",
       "    </tr>\n",
       "    <tr>\n",
       "      <th>4</th>\n",
       "      <td>(10:59) (Shotgun) M.Ryan pass incomplete short...</td>\n",
       "      <td>1</td>\n",
       "      <td>3</td>\n",
       "      <td>1</td>\n",
       "      <td>3</td>\n",
       "      <td>8.0</td>\n",
       "      <td>6.0</td>\n",
       "      <td>0.0</td>\n",
       "      <td>10:59:00</td>\n",
       "      <td>11.0</td>\n",
       "      <td>-0.842272</td>\n",
       "      <td>1</td>\n",
       "      <td>0</td>\n",
       "      <td>2</td>\n",
       "      <td>3</td>\n",
       "      <td>0</td>\n",
       "      <td>6</td>\n",
       "      <td>3</td>\n",
       "      <td>2</td>\n",
       "      <td>0</td>\n",
       "      <td>0</td>\n",
       "      <td>0</td>\n",
       "      <td>0</td>\n",
       "      <td>1</td>\n",
       "      <td>0</td>\n",
       "      <td>0</td>\n",
       "      <td>0</td>\n",
       "      <td>0</td>\n",
       "      <td>0</td>\n",
       "      <td>0</td>\n",
       "    </tr>\n",
       "  </tbody>\n",
       "</table>\n",
       "</div>"
      ],
      "text/plain": [
       "                                     playDescription  quarter  down  \\\n",
       "0  (15:00) M.Ryan pass short right to J.Jones pus...        1     1   \n",
       "1  (13:10) M.Ryan pass incomplete short right to ...        1     1   \n",
       "2  (13:05) (Shotgun) M.Ryan pass incomplete short...        1     2   \n",
       "3  (13:01) (Shotgun) M.Ryan pass deep left to J.J...        1     3   \n",
       "4  (10:59) (Shotgun) M.Ryan pass incomplete short...        1     3   \n",
       "\n",
       "   yardsToGo  team_by_comp_yds  defendersInTheBox  numberOfPassRushers  \\\n",
       "0         15                 3                7.0                  4.0   \n",
       "1         10                 3                7.0                  4.0   \n",
       "2         10                 3                6.0                  4.0   \n",
       "3         10                 3                6.0                  5.0   \n",
       "4          1                 3                8.0                  6.0   \n",
       "\n",
       "  QB_under_pressure gameClock  absoluteYardlineNumber       epa  pass_stopped  \\\n",
       "0               0.0  15:00:00                    90.0  0.261827             0   \n",
       "1               0.0  13:10:00                    49.0 -0.372360             1   \n",
       "2               0.0  13:05:00                    49.0 -0.702779             1   \n",
       "3               1.0  13:01:00                    49.0  3.047530             0   \n",
       "4               0.0  10:59:00                    11.0 -0.842272             1   \n",
       "\n",
       "   playResult RB TE WR  DL  LB  DB  EMPTY  I_FORM  JUMBO  PISTOL  SHOTGUN  \\\n",
       "0          10  2  1  2   4   2   5      0       1      0       0        0   \n",
       "1           0  1  1  3   4   2   5      0       0      0       0        0   \n",
       "2           0  2  1  2   4   2   5      0       0      0       0        1   \n",
       "3          33  1  1  3   4   1   6      0       0      0       0        1   \n",
       "4           0  2  3  0   6   3   2      0       0      0       0        1   \n",
       "\n",
       "   SINGLEBACK  WILDCAT  four_three  three_four  nickel  dime  \n",
       "0           0        0           0           0       1     0  \n",
       "1           1        0           0           0       1     0  \n",
       "2           0        0           0           0       1     0  \n",
       "3           0        0           0           0       0     1  \n",
       "4           0        0           0           0       0     0  "
      ]
     },
     "execution_count": 5,
     "metadata": {},
     "output_type": "execute_result"
    }
   ],
   "source": [
    "df.head()"
   ]
  },
  {
   "cell_type": "code",
   "execution_count": 6,
   "metadata": {},
   "outputs": [],
   "source": [
    "df = df[df.defendersInTheBox > 2]\n",
    "df = df[df.defendersInTheBox < 8]\n",
    "df = df[df.numberOfPassRushers < 7]\n",
    "df = df[df.numberOfPassRushers > 2]"
   ]
  },
  {
   "cell_type": "code",
   "execution_count": 7,
   "metadata": {},
   "outputs": [
    {
     "data": {
      "text/plain": [
       "0    10136\n",
       "1     5372\n",
       "Name: pass_stopped, dtype: int64"
      ]
     },
     "execution_count": 7,
     "metadata": {},
     "output_type": "execute_result"
    }
   ],
   "source": [
    "df.pass_stopped.value_counts()"
   ]
  },
  {
   "cell_type": "code",
   "execution_count": 8,
   "metadata": {},
   "outputs": [
    {
     "data": {
      "text/plain": [
       "Index(['playDescription', 'quarter', 'down', 'yardsToGo', 'team_by_comp_yds',\n",
       "       'defendersInTheBox', 'numberOfPassRushers', 'QB_under_pressure',\n",
       "       'gameClock', 'absoluteYardlineNumber', 'epa', 'pass_stopped',\n",
       "       'playResult', 'RB', 'TE', 'WR', 'DL', 'LB', 'DB', 'EMPTY', 'I_FORM',\n",
       "       'JUMBO', 'PISTOL', 'SHOTGUN', 'SINGLEBACK', 'WILDCAT', 'four_three',\n",
       "       'three_four', 'nickel', 'dime'],\n",
       "      dtype='object')"
      ]
     },
     "execution_count": 8,
     "metadata": {},
     "output_type": "execute_result"
    }
   ],
   "source": [
    "df.columns"
   ]
  },
  {
   "cell_type": "code",
   "execution_count": 9,
   "metadata": {},
   "outputs": [
    {
     "data": {
      "text/plain": [
       "0    (15:00) M.Ryan pass short right to J.Jones pushed ob at ATL 30 for 10 yards (M.Jenkins).\n",
       "1    (13:10) M.Ryan pass incomplete short right to C.Ridley (J.Mills, J.Hicks).              \n",
       "2    (13:05) (Shotgun) M.Ryan pass incomplete short left to D.Freeman.                       \n",
       "3    (13:01) (Shotgun) M.Ryan pass deep left to J.Jones to PHI 6 for 33 yards (R.Darby).     \n",
       "5    (10:10) (Shotgun) N.Foles pass short left to N.Agholor to PHI 8 for 4 yards (R.Alford). \n",
       "Name: playDescription, dtype: object"
      ]
     },
     "execution_count": 9,
     "metadata": {},
     "output_type": "execute_result"
    }
   ],
   "source": [
    "pd.set_option('display.max_colwidth', -1)\n",
    "df.playDescription.head()"
   ]
  },
  {
   "cell_type": "code",
   "execution_count": 10,
   "metadata": {},
   "outputs": [],
   "source": [
    "X_train, y_train, X_validate, y_validate, X_test, y_test = wrangle_plays_data.train_validate_test(df)"
   ]
  },
  {
   "cell_type": "code",
   "execution_count": 11,
   "metadata": {},
   "outputs": [
    {
     "data": {
      "text/html": [
       "<div>\n",
       "<style scoped>\n",
       "    .dataframe tbody tr th:only-of-type {\n",
       "        vertical-align: middle;\n",
       "    }\n",
       "\n",
       "    .dataframe tbody tr th {\n",
       "        vertical-align: top;\n",
       "    }\n",
       "\n",
       "    .dataframe thead th {\n",
       "        text-align: right;\n",
       "    }\n",
       "</style>\n",
       "<table border=\"1\" class=\"dataframe\">\n",
       "  <thead>\n",
       "    <tr style=\"text-align: right;\">\n",
       "      <th></th>\n",
       "      <th>quarter</th>\n",
       "      <th>down</th>\n",
       "      <th>yardsToGo</th>\n",
       "      <th>team_by_comp_yds</th>\n",
       "      <th>defendersInTheBox</th>\n",
       "      <th>numberOfPassRushers</th>\n",
       "      <th>QB_under_pressure</th>\n",
       "      <th>absoluteYardlineNumber</th>\n",
       "      <th>epa</th>\n",
       "      <th>playResult</th>\n",
       "      <th>RB</th>\n",
       "      <th>TE</th>\n",
       "      <th>WR</th>\n",
       "      <th>DL</th>\n",
       "      <th>LB</th>\n",
       "      <th>DB</th>\n",
       "      <th>EMPTY</th>\n",
       "      <th>I_FORM</th>\n",
       "      <th>JUMBO</th>\n",
       "      <th>PISTOL</th>\n",
       "      <th>SHOTGUN</th>\n",
       "      <th>SINGLEBACK</th>\n",
       "      <th>WILDCAT</th>\n",
       "      <th>four_three</th>\n",
       "      <th>three_four</th>\n",
       "      <th>nickel</th>\n",
       "      <th>dime</th>\n",
       "    </tr>\n",
       "  </thead>\n",
       "  <tbody>\n",
       "    <tr>\n",
       "      <th>2044</th>\n",
       "      <td>3</td>\n",
       "      <td>2</td>\n",
       "      <td>7</td>\n",
       "      <td>22</td>\n",
       "      <td>7.0</td>\n",
       "      <td>4.0</td>\n",
       "      <td>0.0</td>\n",
       "      <td>84.0</td>\n",
       "      <td>1.024401</td>\n",
       "      <td>7</td>\n",
       "      <td>1</td>\n",
       "      <td>2</td>\n",
       "      <td>2</td>\n",
       "      <td>4</td>\n",
       "      <td>3</td>\n",
       "      <td>4</td>\n",
       "      <td>0</td>\n",
       "      <td>0</td>\n",
       "      <td>0</td>\n",
       "      <td>0</td>\n",
       "      <td>1</td>\n",
       "      <td>0</td>\n",
       "      <td>0</td>\n",
       "      <td>1</td>\n",
       "      <td>0</td>\n",
       "      <td>0</td>\n",
       "      <td>0</td>\n",
       "    </tr>\n",
       "    <tr>\n",
       "      <th>3062</th>\n",
       "      <td>3</td>\n",
       "      <td>1</td>\n",
       "      <td>10</td>\n",
       "      <td>20</td>\n",
       "      <td>7.0</td>\n",
       "      <td>4.0</td>\n",
       "      <td>0.0</td>\n",
       "      <td>65.0</td>\n",
       "      <td>-0.091884</td>\n",
       "      <td>5</td>\n",
       "      <td>1</td>\n",
       "      <td>2</td>\n",
       "      <td>2</td>\n",
       "      <td>3</td>\n",
       "      <td>4</td>\n",
       "      <td>4</td>\n",
       "      <td>0</td>\n",
       "      <td>0</td>\n",
       "      <td>0</td>\n",
       "      <td>0</td>\n",
       "      <td>1</td>\n",
       "      <td>0</td>\n",
       "      <td>0</td>\n",
       "      <td>0</td>\n",
       "      <td>1</td>\n",
       "      <td>0</td>\n",
       "      <td>0</td>\n",
       "    </tr>\n",
       "    <tr>\n",
       "      <th>14975</th>\n",
       "      <td>2</td>\n",
       "      <td>1</td>\n",
       "      <td>10</td>\n",
       "      <td>6</td>\n",
       "      <td>6.0</td>\n",
       "      <td>4.0</td>\n",
       "      <td>0.0</td>\n",
       "      <td>32.0</td>\n",
       "      <td>-0.247160</td>\n",
       "      <td>3</td>\n",
       "      <td>1</td>\n",
       "      <td>1</td>\n",
       "      <td>3</td>\n",
       "      <td>3</td>\n",
       "      <td>3</td>\n",
       "      <td>5</td>\n",
       "      <td>0</td>\n",
       "      <td>0</td>\n",
       "      <td>0</td>\n",
       "      <td>0</td>\n",
       "      <td>1</td>\n",
       "      <td>0</td>\n",
       "      <td>0</td>\n",
       "      <td>0</td>\n",
       "      <td>0</td>\n",
       "      <td>1</td>\n",
       "      <td>0</td>\n",
       "    </tr>\n",
       "    <tr>\n",
       "      <th>23</th>\n",
       "      <td>2</td>\n",
       "      <td>2</td>\n",
       "      <td>9</td>\n",
       "      <td>3</td>\n",
       "      <td>6.0</td>\n",
       "      <td>4.0</td>\n",
       "      <td>0.0</td>\n",
       "      <td>60.0</td>\n",
       "      <td>1.651961</td>\n",
       "      <td>23</td>\n",
       "      <td>1</td>\n",
       "      <td>1</td>\n",
       "      <td>3</td>\n",
       "      <td>4</td>\n",
       "      <td>2</td>\n",
       "      <td>5</td>\n",
       "      <td>0</td>\n",
       "      <td>0</td>\n",
       "      <td>0</td>\n",
       "      <td>0</td>\n",
       "      <td>0</td>\n",
       "      <td>1</td>\n",
       "      <td>0</td>\n",
       "      <td>0</td>\n",
       "      <td>0</td>\n",
       "      <td>1</td>\n",
       "      <td>0</td>\n",
       "    </tr>\n",
       "    <tr>\n",
       "      <th>9461</th>\n",
       "      <td>1</td>\n",
       "      <td>2</td>\n",
       "      <td>9</td>\n",
       "      <td>6</td>\n",
       "      <td>7.0</td>\n",
       "      <td>3.0</td>\n",
       "      <td>1.0</td>\n",
       "      <td>101.0</td>\n",
       "      <td>0.178302</td>\n",
       "      <td>7</td>\n",
       "      <td>1</td>\n",
       "      <td>2</td>\n",
       "      <td>2</td>\n",
       "      <td>4</td>\n",
       "      <td>2</td>\n",
       "      <td>5</td>\n",
       "      <td>0</td>\n",
       "      <td>0</td>\n",
       "      <td>0</td>\n",
       "      <td>0</td>\n",
       "      <td>0</td>\n",
       "      <td>1</td>\n",
       "      <td>0</td>\n",
       "      <td>0</td>\n",
       "      <td>0</td>\n",
       "      <td>1</td>\n",
       "      <td>0</td>\n",
       "    </tr>\n",
       "  </tbody>\n",
       "</table>\n",
       "</div>"
      ],
      "text/plain": [
       "       quarter  down  yardsToGo  team_by_comp_yds  defendersInTheBox  \\\n",
       "2044   3        2     7          22                7.0                 \n",
       "3062   3        1     10         20                7.0                 \n",
       "14975  2        1     10         6                 6.0                 \n",
       "23     2        2     9          3                 6.0                 \n",
       "9461   1        2     9          6                 7.0                 \n",
       "\n",
       "       numberOfPassRushers QB_under_pressure  absoluteYardlineNumber  \\\n",
       "2044   4.0                  0.0               84.0                     \n",
       "3062   4.0                  0.0               65.0                     \n",
       "14975  4.0                  0.0               32.0                     \n",
       "23     4.0                  0.0               60.0                     \n",
       "9461   3.0                  1.0               101.0                    \n",
       "\n",
       "            epa  playResult RB TE WR  DL  LB  DB  EMPTY  I_FORM  JUMBO  \\\n",
       "2044   1.024401  7           1  2  2  4   3   4   0      0       0       \n",
       "3062  -0.091884  5           1  2  2  3   4   4   0      0       0       \n",
       "14975 -0.247160  3           1  1  3  3   3   5   0      0       0       \n",
       "23     1.651961  23          1  1  3  4   2   5   0      0       0       \n",
       "9461   0.178302  7           1  2  2  4   2   5   0      0       0       \n",
       "\n",
       "       PISTOL  SHOTGUN  SINGLEBACK  WILDCAT  four_three  three_four  nickel  \\\n",
       "2044   0       1        0           0        1           0           0        \n",
       "3062   0       1        0           0        0           1           0        \n",
       "14975  0       1        0           0        0           0           1        \n",
       "23     0       0        1           0        0           0           1        \n",
       "9461   0       0        1           0        0           0           1        \n",
       "\n",
       "       dime  \n",
       "2044   0     \n",
       "3062   0     \n",
       "14975  0     \n",
       "23     0     \n",
       "9461   0     "
      ]
     },
     "execution_count": 11,
     "metadata": {},
     "output_type": "execute_result"
    }
   ],
   "source": [
    "X_train.head()"
   ]
  },
  {
   "cell_type": "code",
   "execution_count": 12,
   "metadata": {},
   "outputs": [],
   "source": [
    "X_train_scaled, X_validate_scaled, X_test_scaled = wrangle_plays_data.min_max_scale(X_train, X_validate, X_test)"
   ]
  },
  {
   "cell_type": "code",
   "execution_count": 13,
   "metadata": {},
   "outputs": [
    {
     "data": {
      "text/html": [
       "<div>\n",
       "<style scoped>\n",
       "    .dataframe tbody tr th:only-of-type {\n",
       "        vertical-align: middle;\n",
       "    }\n",
       "\n",
       "    .dataframe tbody tr th {\n",
       "        vertical-align: top;\n",
       "    }\n",
       "\n",
       "    .dataframe thead th {\n",
       "        text-align: right;\n",
       "    }\n",
       "</style>\n",
       "<table border=\"1\" class=\"dataframe\">\n",
       "  <thead>\n",
       "    <tr style=\"text-align: right;\">\n",
       "      <th></th>\n",
       "      <th>quarter</th>\n",
       "      <th>yardsToGo</th>\n",
       "      <th>numberOfPassRushers</th>\n",
       "      <th>QB_under_pressure</th>\n",
       "      <th>epa</th>\n",
       "      <th>DL</th>\n",
       "      <th>DB</th>\n",
       "    </tr>\n",
       "  </thead>\n",
       "  <tbody>\n",
       "    <tr>\n",
       "      <th>2044</th>\n",
       "      <td>0.50</td>\n",
       "      <td>0.150</td>\n",
       "      <td>0.333333</td>\n",
       "      <td>0.0</td>\n",
       "      <td>0.665664</td>\n",
       "      <td>0.8</td>\n",
       "      <td>0.25</td>\n",
       "    </tr>\n",
       "    <tr>\n",
       "      <th>3062</th>\n",
       "      <td>0.50</td>\n",
       "      <td>0.225</td>\n",
       "      <td>0.333333</td>\n",
       "      <td>0.0</td>\n",
       "      <td>0.605722</td>\n",
       "      <td>0.6</td>\n",
       "      <td>0.25</td>\n",
       "    </tr>\n",
       "    <tr>\n",
       "      <th>14975</th>\n",
       "      <td>0.25</td>\n",
       "      <td>0.225</td>\n",
       "      <td>0.333333</td>\n",
       "      <td>0.0</td>\n",
       "      <td>0.597384</td>\n",
       "      <td>0.6</td>\n",
       "      <td>0.50</td>\n",
       "    </tr>\n",
       "    <tr>\n",
       "      <th>23</th>\n",
       "      <td>0.25</td>\n",
       "      <td>0.200</td>\n",
       "      <td>0.333333</td>\n",
       "      <td>0.0</td>\n",
       "      <td>0.699363</td>\n",
       "      <td>0.8</td>\n",
       "      <td>0.50</td>\n",
       "    </tr>\n",
       "    <tr>\n",
       "      <th>9461</th>\n",
       "      <td>0.00</td>\n",
       "      <td>0.200</td>\n",
       "      <td>0.000000</td>\n",
       "      <td>1.0</td>\n",
       "      <td>0.620231</td>\n",
       "      <td>0.8</td>\n",
       "      <td>0.50</td>\n",
       "    </tr>\n",
       "    <tr>\n",
       "      <th>...</th>\n",
       "      <td>...</td>\n",
       "      <td>...</td>\n",
       "      <td>...</td>\n",
       "      <td>...</td>\n",
       "      <td>...</td>\n",
       "      <td>...</td>\n",
       "      <td>...</td>\n",
       "    </tr>\n",
       "    <tr>\n",
       "      <th>8993</th>\n",
       "      <td>0.75</td>\n",
       "      <td>0.225</td>\n",
       "      <td>0.333333</td>\n",
       "      <td>0.0</td>\n",
       "      <td>0.586106</td>\n",
       "      <td>0.8</td>\n",
       "      <td>0.25</td>\n",
       "    </tr>\n",
       "    <tr>\n",
       "      <th>15233</th>\n",
       "      <td>0.50</td>\n",
       "      <td>0.225</td>\n",
       "      <td>0.000000</td>\n",
       "      <td>1.0</td>\n",
       "      <td>0.555249</td>\n",
       "      <td>0.4</td>\n",
       "      <td>1.00</td>\n",
       "    </tr>\n",
       "    <tr>\n",
       "      <th>9062</th>\n",
       "      <td>0.50</td>\n",
       "      <td>0.225</td>\n",
       "      <td>0.666667</td>\n",
       "      <td>0.0</td>\n",
       "      <td>0.561580</td>\n",
       "      <td>0.6</td>\n",
       "      <td>0.50</td>\n",
       "    </tr>\n",
       "    <tr>\n",
       "      <th>8756</th>\n",
       "      <td>0.25</td>\n",
       "      <td>0.225</td>\n",
       "      <td>0.333333</td>\n",
       "      <td>1.0</td>\n",
       "      <td>0.583832</td>\n",
       "      <td>0.8</td>\n",
       "      <td>0.25</td>\n",
       "    </tr>\n",
       "    <tr>\n",
       "      <th>6264</th>\n",
       "      <td>0.75</td>\n",
       "      <td>0.200</td>\n",
       "      <td>0.666667</td>\n",
       "      <td>1.0</td>\n",
       "      <td>0.520077</td>\n",
       "      <td>0.4</td>\n",
       "      <td>0.50</td>\n",
       "    </tr>\n",
       "  </tbody>\n",
       "</table>\n",
       "<p>6513 rows × 7 columns</p>\n",
       "</div>"
      ],
      "text/plain": [
       "       quarter  yardsToGo  numberOfPassRushers  QB_under_pressure       epa  \\\n",
       "2044   0.50     0.150      0.333333             0.0                0.665664   \n",
       "3062   0.50     0.225      0.333333             0.0                0.605722   \n",
       "14975  0.25     0.225      0.333333             0.0                0.597384   \n",
       "23     0.25     0.200      0.333333             0.0                0.699363   \n",
       "9461   0.00     0.200      0.000000             1.0                0.620231   \n",
       "...     ...       ...           ...             ...                     ...   \n",
       "8993   0.75     0.225      0.333333             0.0                0.586106   \n",
       "15233  0.50     0.225      0.000000             1.0                0.555249   \n",
       "9062   0.50     0.225      0.666667             0.0                0.561580   \n",
       "8756   0.25     0.225      0.333333             1.0                0.583832   \n",
       "6264   0.75     0.200      0.666667             1.0                0.520077   \n",
       "\n",
       "        DL    DB  \n",
       "2044   0.8  0.25  \n",
       "3062   0.6  0.25  \n",
       "14975  0.6  0.50  \n",
       "23     0.8  0.50  \n",
       "9461   0.8  0.50  \n",
       "...    ...   ...  \n",
       "8993   0.8  0.25  \n",
       "15233  0.4  1.00  \n",
       "9062   0.6  0.50  \n",
       "8756   0.8  0.25  \n",
       "6264   0.4  0.50  \n",
       "\n",
       "[6513 rows x 7 columns]"
      ]
     },
     "execution_count": 13,
     "metadata": {},
     "output_type": "execute_result"
    }
   ],
   "source": [
    "X_train_scaled"
   ]
  },
  {
   "cell_type": "code",
   "execution_count": 14,
   "metadata": {},
   "outputs": [
    {
     "data": {
      "text/plain": [
       "0.0    5837\n",
       "1.0    676 \n",
       "Name: QB_under_pressure, dtype: int64"
      ]
     },
     "execution_count": 14,
     "metadata": {},
     "output_type": "execute_result"
    }
   ],
   "source": [
    "X_train.QB_under_pressure.value_counts()"
   ]
  },
  {
   "cell_type": "code",
   "execution_count": 15,
   "metadata": {},
   "outputs": [
    {
     "data": {
      "text/plain": [
       "<matplotlib.axes._subplots.AxesSubplot at 0x7fed8bc94be0>"
      ]
     },
     "execution_count": 15,
     "metadata": {},
     "output_type": "execute_result"
    },
    {
     "data": {
      "image/png": "[encoded data removed]",
      "text/plain": [
       "<Figure size 792x648 with 2 Axes>"
      ]
     },
     "metadata": {
      "needs_background": "light"
     },
     "output_type": "display_data"
    }
   ],
   "source": [
    "corr = df.corr()\n",
    "# Generate a mask for the upper triangle\n",
    "mask = np.triu(np.ones_like(corr, dtype=bool))\n",
    "# Set up the matplotlib figure\n",
    "f, ax = plt.subplots(figsize=(11, 9))\n",
    "# Generate a custom diverging colormap\n",
    "cmap = sns.diverging_palette(500, 20, as_cmap=True)\n",
    "# Draw the heatmap with the mask and correct aspect ratio\n",
    "sns.heatmap(corr, mask=mask, cmap=cmap, vmax=.3, center=0,\n",
    "            square=True, linewidths=.5, cbar_kws={\"shrink\": .5})"
   ]
  },
  {
   "cell_type": "code",
   "execution_count": 16,
   "metadata": {},
   "outputs": [
    {
     "data": {
      "text/plain": [
       "Text(0.5, 15.0, '')"
      ]
     },
     "execution_count": 16,
     "metadata": {},
     "output_type": "execute_result"
    },
    {
     "data": {
      "image/png": "[encoded data removed]",
      "text/plain": [
       "<Figure size 432x288 with 2 Axes>"
      ]
     },
     "metadata": {
      "needs_background": "light"
     },
     "output_type": "display_data"
    }
   ],
   "source": [
    "# Create crosstab of data I want to visualize\n",
    "crosstab = pd.crosstab(df.pass_stopped, df.QB_under_pressure)\n",
    "# Visualizes heatmap to see differences in values\n",
    "sns.heatmap(crosstab, annot= True, cmap= 'Reds', fmt= 'd')\n",
    "\n",
    "plt.title('Passes by QB Under Pressure')\n",
    "locs, labels = plt.yticks()\n",
    "plt.yticks(locs, ('Not Stopped', 'Stopped'))\n",
    "plt.xticks(locs, ('Not Under Pressure', 'Under Pressure'))\n",
    "plt.ylabel('')\n",
    "plt.xlabel('')"
   ]
  },
  {
   "cell_type": "code",
   "execution_count": 17,
   "metadata": {},
   "outputs": [
    {
     "data": {
      "text/plain": [
       "0.35"
      ]
     },
     "execution_count": 17,
     "metadata": {},
     "output_type": "execute_result"
    }
   ],
   "source": [
    "incompletion_rate = (((df.pass_stopped == 1).sum()) / (df.pass_stopped.count())).round(2)\n",
    "incompletion_rate"
   ]
  },
  {
   "cell_type": "code",
   "execution_count": 18,
   "metadata": {},
   "outputs": [
    {
     "name": "stdout",
     "output_type": "stream",
     "text": [
      "Comparing If Schemes And QB Pressure Impact Incompletion Rate\n"
     ]
    },
    {
     "data": {
      "image/png": "[encoded data removed]",
      "text/plain": [
       "<Figure size 1440x288 with 5 Axes>"
      ]
     },
     "metadata": {
      "needs_background": "light"
     },
     "output_type": "display_data"
    }
   ],
   "source": [
    "# List all the questions\n",
    "features = ['QB_under_pressure','dime', 'four_three','three_four', 'nickel']\n",
    "\n",
    "# subplot each questions side by side\n",
    "# adding a line to measure where average autism rating is\n",
    "_, ax = plt.subplots(nrows=1, ncols=5, figsize=(20, 4), sharey=True)\n",
    "for i, feature in enumerate(features):\n",
    "    sns.barplot(feature, 'pass_stopped', data=df, ax=ax[i], alpha=.8)\n",
    "    ax[i].set_xlabel('')\n",
    "    ax[i].set_ylabel('Incomplete Rate')\n",
    "    ax[i].set_title(feature)\n",
    "    ax[i].axhline(incompletion_rate, ls='--', color='grey')\n",
    "print('Comparing If Schemes And QB Pressure Impact Incompletion Rate')"
   ]
  },
  {
   "cell_type": "markdown",
   "metadata": {},
   "source": [
    "## Conclusion\n",
    "- Dime and Nickel have a closer to 50/50 chance of stopping the pass over 3-4 and 4-3 defensive schemes based on the data"
   ]
  },
  {
   "cell_type": "markdown",
   "metadata": {},
   "source": [
    "## Hypothesis 1"
   ]
  },
  {
   "cell_type": "markdown",
   "metadata": {},
   "source": [
    "H0: There is no difference in stopped passes between nickel defense and average nickel defense\n",
    "\n",
    "Ha: There is a difference in stopped passes between nickel defense and average nickel defense"
   ]
  },
  {
   "cell_type": "code",
   "execution_count": 19,
   "metadata": {},
   "outputs": [
    {
     "name": "stdout",
     "output_type": "stream",
     "text": [
      "t = -0.28\n",
      "p = 0.782991605027464565580430644331499934196472167968750000000000000000000000000000000000000000\n",
      "Our p-value is less than our alpha: False\n"
     ]
    }
   ],
   "source": [
    "alpha= .05\n",
    "stopped_pass = df[df.pass_stopped == 1]\n",
    "t, p = stats.ttest_1samp(stopped_pass.nickel, df.nickel.mean())\n",
    "\n",
    "print(f't = {t:.2f}')\n",
    "print(f'p = {p:.90f}')\n",
    "print(f'Our p-value is less than our alpha: {p < alpha}')"
   ]
  },
  {
   "cell_type": "markdown",
   "metadata": {},
   "source": [
    "## Hypothesis 2"
   ]
  },
  {
   "cell_type": "markdown",
   "metadata": {},
   "source": [
    "H0: There is no difference in stopped passes between dime defense and average dime defense\n",
    "\n",
    "Ha: There is a difference in stopped passes between dime defense and average dime defense"
   ]
  },
  {
   "cell_type": "code",
   "execution_count": 20,
   "metadata": {},
   "outputs": [
    {
     "name": "stdout",
     "output_type": "stream",
     "text": [
      "t = 2.62\n",
      "p = 0.008717020046651535736259575060103088617324829101562500000000000000000000000000000000000000\n",
      "Our p-value is less than our alpha: True\n"
     ]
    }
   ],
   "source": [
    "alpha= .05\n",
    "stopped_pass = df[df.pass_stopped == 1]\n",
    "t, p = stats.ttest_1samp(stopped_pass.dime, df.dime.mean())\n",
    "\n",
    "print(f't = {t:.2f}')\n",
    "print(f'p = {p:.90f}')\n",
    "print(f'Our p-value is less than our alpha: {p < alpha}')"
   ]
  },
  {
   "cell_type": "markdown",
   "metadata": {},
   "source": [
    "## Hypothesis 3"
   ]
  },
  {
   "cell_type": "markdown",
   "metadata": {},
   "source": [
    "H0: There is no difference in stopped passes between 3-4 defense and average 3-4 defense\n",
    "\n",
    "Ha: There is a difference in stopped passes between 3-4 defense and average 3-4 defense"
   ]
  },
  {
   "cell_type": "code",
   "execution_count": 21,
   "metadata": {},
   "outputs": [
    {
     "name": "stdout",
     "output_type": "stream",
     "text": [
      "t = -1.52\n",
      "p = 0.129058781499397839942488985798263456672430038452148437500000000000000000000000000000000000\n",
      "Our p-value is less than our alpha: False\n"
     ]
    }
   ],
   "source": [
    "alpha= .05\n",
    "stopped_pass = df[df.pass_stopped == 1]\n",
    "t, p = stats.ttest_1samp(stopped_pass.three_four, df.three_four.mean())\n",
    "\n",
    "print(f't = {t:.2f}')\n",
    "print(f'p = {p:.90f}')\n",
    "print(f'Our p-value is less than our alpha: {p < alpha}')"
   ]
  },
  {
   "cell_type": "markdown",
   "metadata": {},
   "source": [
    "## Hypothesis 4"
   ]
  },
  {
   "cell_type": "markdown",
   "metadata": {},
   "source": [
    "H0: There is no difference in stopped passes between 4-3 defense and average 4-3 defense\n",
    "\n",
    "Ha: There is a difference in stopped passes between 4-3 defense and average 4-3 defense"
   ]
  },
  {
   "cell_type": "code",
   "execution_count": 22,
   "metadata": {},
   "outputs": [
    {
     "name": "stdout",
     "output_type": "stream",
     "text": [
      "t = -3.42\n",
      "p = 0.000630989323397577474804298613975106491125188767910003662109375000000000000000000000000000\n",
      "Our p-value is less than our alpha: True\n"
     ]
    }
   ],
   "source": [
    "alpha= .05\n",
    "stopped_pass = df[df.pass_stopped == 1]\n",
    "t, p = stats.ttest_1samp(stopped_pass.four_three, df.four_three.mean())\n",
    "\n",
    "print(f't = {t:.2f}')\n",
    "print(f'p = {p:.90f}')\n",
    "print(f'Our p-value is less than our alpha: {p < alpha}')"
   ]
  },
  {
   "cell_type": "markdown",
   "metadata": {},
   "source": [
    "## Hypothesis 5"
   ]
  },
  {
   "cell_type": "markdown",
   "metadata": {},
   "source": [
    "H0: A defense stopping a pass is independent of QB pressure\n",
    "\n",
    "Ha: A defense stopping a pass is not independent of QB pressure"
   ]
  },
  {
   "cell_type": "code",
   "execution_count": 23,
   "metadata": {},
   "outputs": [
    {
     "name": "stdout",
     "output_type": "stream",
     "text": [
      "Our p-value is 0.000000000000000000000000000000000000000000000000000795260261393692992112209408856699085203.\n",
      "Our p-value is less than our alpha: True\n"
     ]
    }
   ],
   "source": [
    "crosstab = pd.crosstab(df.pass_stopped, df.QB_under_pressure)\n",
    "Chi2, p, degf, expected = stats.chi2_contingency(crosstab)\n",
    "print(f'Our p-value is {p:.90f}.')\n",
    "print(f'Our p-value is less than our alpha: {p < alpha}')"
   ]
  },
  {
   "cell_type": "markdown",
   "metadata": {},
   "source": [
    "## Hypothesis 6"
   ]
  },
  {
   "cell_type": "markdown",
   "metadata": {},
   "source": [
    "H0: A defense stopping a pass is independent of which down it is\n",
    "\n",
    "Ha: A defense stopping a pass is not independent of which down it is"
   ]
  },
  {
   "cell_type": "code",
   "execution_count": 24,
   "metadata": {},
   "outputs": [
    {
     "name": "stdout",
     "output_type": "stream",
     "text": [
      "Our p-value is 0.000000000000000000382783099847716665830683424503268983750123485646079746561043499752940988.\n",
      "Our p-value is less than our alpha: True\n"
     ]
    }
   ],
   "source": [
    "crosstab = pd.crosstab(df.pass_stopped, df.down)\n",
    "Chi2, p, degf, expected = stats.chi2_contingency(crosstab)\n",
    "print(f'Our p-value is {p:.90f}.')\n",
    "print(f'Our p-value is less than our alpha: {p < alpha}')"
   ]
  },
  {
   "cell_type": "markdown",
   "metadata": {},
   "source": [
    "# Modeling"
   ]
  },
  {
   "cell_type": "code",
   "execution_count": 25,
   "metadata": {},
   "outputs": [],
   "source": [
    "# Import the functions I will need for modeling\n",
    "from sklearn.metrics import classification_report, confusion_matrix, precision_score, recall_score, accuracy_score\n",
    "from sklearn.metrics import confusion_matrix\n",
    "from sklearn.tree import DecisionTreeClassifier\n",
    "from sklearn.metrics import mean_squared_error, explained_variance_score\n",
    "from sklearn.ensemble import RandomForestClassifier"
   ]
  },
  {
   "cell_type": "code",
   "execution_count": 26,
   "metadata": {},
   "outputs": [
    {
     "data": {
      "text/plain": [
       "0.35"
      ]
     },
     "execution_count": 26,
     "metadata": {},
     "output_type": "execute_result"
    }
   ],
   "source": [
    "# Establish our baseline\n",
    "baseline = ((df.pass_stopped == 1).sum() / df.pass_stopped.count()).round(2)\n",
    "baseline"
   ]
  },
  {
   "cell_type": "markdown",
   "metadata": {},
   "source": [
    "## Feature Engineering"
   ]
  },
  {
   "cell_type": "code",
   "execution_count": 27,
   "metadata": {},
   "outputs": [],
   "source": [
    "from sklearn.feature_selection import RFE\n",
    "from sklearn.linear_model import LogisticRegression"
   ]
  },
  {
   "cell_type": "code",
   "execution_count": 28,
   "metadata": {},
   "outputs": [],
   "source": [
    "## Assessing the RFE using a linear regression model\n",
    "lr =  LogisticRegression(random_state=123)\n",
    "\n",
    "rfe = RFE(lr, 10)\n",
    "lm_X_rfe_train = rfe.fit_transform(X_train_scaled,y_train)\n",
    "lm_X_rfe_val = rfe.transform(X_validate_scaled)\n",
    "lm_X_rfe_test = rfe.transform(X_test_scaled)"
   ]
  },
  {
   "cell_type": "code",
   "execution_count": 29,
   "metadata": {},
   "outputs": [
    {
     "name": "stdout",
     "output_type": "stream",
     "text": [
      "selected 7 features: quarter, yardsToGo, numberOfPassRushers, QB_under_pressure, epa, DL, DB\n"
     ]
    }
   ],
   "source": [
    "## Here we want to filter through and return only the best features\n",
    "mask = rfe.support_ \n",
    "rfe_features = X_train_scaled.columns[mask]\n",
    "print(f'selected {len(rfe_features)} features:', ', '.join(rfe_features))"
   ]
  },
  {
   "cell_type": "code",
   "execution_count": 30,
   "metadata": {},
   "outputs": [],
   "source": [
    "# assign random forest to a variable\n",
    "def random_forest(leaf, depth, estimator):\n",
    "    rf = RandomForestClassifier(bootstrap=True, \n",
    "                            class_weight=None, \n",
    "                            criterion='gini',\n",
    "                            min_samples_leaf=leaf,\n",
    "                            n_estimators=estimator,\n",
    "                            max_depth=depth, \n",
    "                            random_state=123)\n",
    "    \n",
    "    print('---------------------------- Train -------------------------------')\n",
    "    \n",
    "    # fit train data\n",
    "    rf.fit(X_train_scaled, y_train)\n",
    "    # assign predicitons\n",
    "    y_pred = rf.predict(X_train_scaled)\n",
    "    # assign probabilities\n",
    "    y_pred_proba = rf.predict_proba(X_train_scaled)\n",
    "    print('Accuracy of random forest classifier on training set: {:.2f}'\n",
    "         .format(rf.score(X_train_scaled, y_train)))\n",
    "    print('Training Data Matrix')\n",
    "    print(confusion_matrix(y_train, y_pred))\n",
    "    # print report\n",
    "    print('Training Data Report')\n",
    "    print(classification_report(y_train, y_pred))\n",
    "    \n",
    "    print('---------------------------- Validate -------------------------------')\n",
    "    \n",
    "    # assign predicitions\n",
    "    y_pred = rf.predict(X_validate_scaled)\n",
    "    # assign probabilities\n",
    "    y_pred_proba = rf.predict_proba(X_validate_scaled)\n",
    "    print('Accuracy of random forest classifier on validate set: {:.2f}'\n",
    "         .format(rf.score(X_validate_scaled, y_validate)))\n",
    "    print('Training Data Matrix')\n",
    "    print(confusion_matrix(y_validate, y_pred))\n",
    "    # print report\n",
    "    print('Training Data Report')\n",
    "    print(classification_report(y_validate, y_pred))\n",
    "    \n",
    "    print('--------------------- Important Features ---------------------------')\n",
    "    feature_importances = pd.DataFrame(rf.feature_importances_,\n",
    "                                   index = X_train_scaled.columns,\n",
    "                                    columns=['importance']).sort_values('importance',ascending=False)\n",
    "    return random_forest, feature_importances\n",
    "    "
   ]
  },
  {
   "cell_type": "code",
   "execution_count": 31,
   "metadata": {},
   "outputs": [
    {
     "name": "stdout",
     "output_type": "stream",
     "text": [
      "---------------------------- Train -------------------------------\n",
      "Accuracy of random forest classifier on training set: 0.87\n",
      "Training Data Matrix\n",
      "[[3549  708]\n",
      " [ 149 2107]]\n",
      "Training Data Report\n",
      "              precision    recall  f1-score   support\n",
      "\n",
      "           0       0.96      0.83      0.89      4257\n",
      "           1       0.75      0.93      0.83      2256\n",
      "\n",
      "    accuracy                           0.87      6513\n",
      "   macro avg       0.85      0.88      0.86      6513\n",
      "weighted avg       0.89      0.87      0.87      6513\n",
      "\n",
      "---------------------------- Validate -------------------------------\n",
      "Accuracy of random forest classifier on validate set: 0.85\n",
      "Training Data Matrix\n",
      "[[2293  545]\n",
      " [ 125 1379]]\n",
      "Training Data Report\n",
      "              precision    recall  f1-score   support\n",
      "\n",
      "           0       0.95      0.81      0.87      2838\n",
      "           1       0.72      0.92      0.80      1504\n",
      "\n",
      "    accuracy                           0.85      4342\n",
      "   macro avg       0.83      0.86      0.84      4342\n",
      "weighted avg       0.87      0.85      0.85      4342\n",
      "\n",
      "--------------------- Important Features ---------------------------\n"
     ]
    },
    {
     "data": {
      "text/plain": [
       "(<function __main__.random_forest(leaf, depth, estimator)>,\n",
       "                      importance\n",
       " epa                  0.879350  \n",
       " yardsToGo            0.051200  \n",
       " QB_under_pressure    0.018204  \n",
       " numberOfPassRushers  0.015162  \n",
       " quarter              0.013787  \n",
       " DL                   0.011665  \n",
       " DB                   0.010633  )"
      ]
     },
     "execution_count": 31,
     "metadata": {},
     "output_type": "execute_result"
    }
   ],
   "source": [
    "random_forest(4, 9, 100)"
   ]
  },
  {
   "cell_type": "code",
   "execution_count": 32,
   "metadata": {},
   "outputs": [
    {
     "name": "stdout",
     "output_type": "stream",
     "text": [
      "---------------------------- Train -------------------------------\n",
      "Accuracy of random forest classifier on training set: 0.88\n",
      "Training Data Matrix\n",
      "[[3660  597]\n",
      " [ 156 2100]]\n",
      "Training Data Report\n",
      "              precision    recall  f1-score   support\n",
      "\n",
      "           0       0.96      0.86      0.91      4257\n",
      "           1       0.78      0.93      0.85      2256\n",
      "\n",
      "    accuracy                           0.88      6513\n",
      "   macro avg       0.87      0.90      0.88      6513\n",
      "weighted avg       0.90      0.88      0.89      6513\n",
      "\n",
      "---------------------------- Validate -------------------------------\n",
      "Accuracy of random forest classifier on validate set: 0.85\n",
      "Training Data Matrix\n",
      "[[2355  483]\n",
      " [ 163 1341]]\n",
      "Training Data Report\n",
      "              precision    recall  f1-score   support\n",
      "\n",
      "           0       0.94      0.83      0.88      2838\n",
      "           1       0.74      0.89      0.81      1504\n",
      "\n",
      "    accuracy                           0.85      4342\n",
      "   macro avg       0.84      0.86      0.84      4342\n",
      "weighted avg       0.87      0.85      0.85      4342\n",
      "\n",
      "--------------------- Important Features ---------------------------\n"
     ]
    },
    {
     "data": {
      "text/plain": [
       "(<function __main__.random_forest(leaf, depth, estimator)>,\n",
       "                      importance\n",
       " epa                  0.870153  \n",
       " yardsToGo            0.054045  \n",
       " quarter              0.018936  \n",
       " QB_under_pressure    0.016257  \n",
       " DL                   0.014600  \n",
       " numberOfPassRushers  0.013645  \n",
       " DB                   0.012363  )"
      ]
     },
     "execution_count": 32,
     "metadata": {},
     "output_type": "execute_result"
    }
   ],
   "source": [
    "random_forest(8, 15, 100)"
   ]
  },
  {
   "cell_type": "code",
   "execution_count": 33,
   "metadata": {},
   "outputs": [],
   "source": [
    "import MVP"
   ]
  },
  {
   "cell_type": "code",
   "execution_count": 34,
   "metadata": {},
   "outputs": [
    {
     "name": "stdout",
     "output_type": "stream",
     "text": [
      "---------------------------- Train -------------------------------\n",
      "Accuracy of random forest classifier on training set: 0.89\n",
      "Training Data Matrix\n",
      "[[4025  617]\n",
      " [ 172 2326]]\n",
      "Training Data Report\n",
      "              precision    recall  f1-score   support\n",
      "\n",
      "           0       0.96      0.87      0.91      4642\n",
      "           1       0.79      0.93      0.85      2498\n",
      "\n",
      "    accuracy                           0.89      7140\n",
      "   macro avg       0.87      0.90      0.88      7140\n",
      "weighted avg       0.90      0.89      0.89      7140\n",
      "\n",
      "---------------------------- Validate -------------------------------\n",
      "Accuracy of random forest classifier on validate set: 0.86\n",
      "Validate Data Matrix\n",
      "[[2577  518]\n",
      " [ 148 1517]]\n",
      "Validate Data Report\n",
      "              precision    recall  f1-score   support\n",
      "\n",
      "           0       0.95      0.83      0.89      3095\n",
      "           1       0.75      0.91      0.82      1665\n",
      "\n",
      "    accuracy                           0.86      4760\n",
      "   macro avg       0.85      0.87      0.85      4760\n",
      "weighted avg       0.88      0.86      0.86      4760\n",
      "\n",
      "---------------------------- Test -------------------------------\n",
      "Accuracy of random forest classifier on test set: 0.85\n",
      "Test Data Matrix\n",
      "[[2738  579]\n",
      " [ 187 1597]]\n",
      "Test Data Report\n",
      "              precision    recall  f1-score   support\n",
      "\n",
      "           0       0.94      0.83      0.88      3317\n",
      "           1       0.73      0.90      0.81      1784\n",
      "\n",
      "    accuracy                           0.85      5101\n",
      "   macro avg       0.83      0.86      0.84      5101\n",
      "weighted avg       0.87      0.85      0.85      5101\n",
      "\n",
      "--------------------- Important Features ---------------------------\n"
     ]
    },
    {
     "data": {
      "text/plain": [
       "(<function MVP.MVP()>,\n",
       "                      importance\n",
       " epa                  0.866636  \n",
       " yardsToGo            0.053530  \n",
       " numberOfPassRushers  0.024579  \n",
       " quarter              0.016113  \n",
       " QB_under_pressure    0.015485  \n",
       " DL                   0.012571  \n",
       " DB                   0.011085  )"
      ]
     },
     "execution_count": 34,
     "metadata": {},
     "output_type": "execute_result"
    }
   ],
   "source": [
    "MVP.MVP()"
   ]
  },
  {
   "cell_type": "code",
   "execution_count": null,
   "metadata": {},
   "outputs": [],
   "source": []
  },
  {
   "cell_type": "code",
   "execution_count": null,
   "metadata": {},
   "outputs": [],
   "source": []
  }
 ],
 "metadata": {
  "kernelspec": {
   "display_name": "Python 3",
   "language": "python",
   "name": "python3"
  },
  "language_info": {
   "codemirror_mode": {
    "name": "ipython",
    "version": 3
   },
   "file_extension": ".py",
   "mimetype": "text/x-python",
   "name": "python",
   "nbconvert_exporter": "python",
   "pygments_lexer": "ipython3",
   "version": "3.8.3"
  }
 },
 "nbformat": 4,
 "nbformat_minor": 4
}
