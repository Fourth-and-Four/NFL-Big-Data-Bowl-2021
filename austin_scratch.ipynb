{
 "cells": [
  {
   "cell_type": "code",
   "execution_count": 1,
   "metadata": {},
   "outputs": [
    {
     "name": "stdout",
     "output_type": "stream",
     "text": [
      "Acquire.py Loaded Successfully\n",
      "Prep.py Loaded Successfully\n",
      "Wrangle.py Loaded Successfully\n"
     ]
    }
   ],
   "source": [
    "import pandas as pd\n",
    "import matplotlib.pyplot as plt\n",
    "import seaborn as sns\n",
    "import numpy as np\n",
    "import prep_plays\n",
    "import wrangle_plays_data\n",
    "from scipy import stats\n",
    "pd.set_option('display.max_columns', None)"
   ]
  },
  {
   "cell_type": "code",
   "execution_count": 2,
   "metadata": {},
   "outputs": [],
   "source": [
    "df = prep_plays.prep_plays_data()"
   ]
  },
  {
   "cell_type": "code",
   "execution_count": 3,
   "metadata": {},
   "outputs": [
    {
     "data": {
      "text/plain": [
       "(17001, 30)"
      ]
     },
     "execution_count": 3,
     "metadata": {},
     "output_type": "execute_result"
    }
   ],
   "source": [
    "df.shape"
   ]
  },
  {
   "cell_type": "code",
   "execution_count": 4,
   "metadata": {},
   "outputs": [
    {
     "data": {
      "text/plain": [
       "playDescription           0\n",
       "quarter                   0\n",
       "down                      0\n",
       "yardsToGo                 0\n",
       "team_by_comp_yds          0\n",
       "defendersInTheBox         0\n",
       "numberOfPassRushers       0\n",
       "QB_under_pressure         0\n",
       "gameClock                 0\n",
       "absoluteYardlineNumber    0\n",
       "epa                       0\n",
       "pass_stopped              0\n",
       "playResult                0\n",
       "RB                        0\n",
       "TE                        0\n",
       "WR                        0\n",
       "DL                        0\n",
       "LB                        0\n",
       "DB                        0\n",
       "EMPTY                     0\n",
       "I_FORM                    0\n",
       "JUMBO                     0\n",
       "PISTOL                    0\n",
       "SHOTGUN                   0\n",
       "SINGLEBACK                0\n",
       "WILDCAT                   0\n",
       "four_three                0\n",
       "three_four                0\n",
       "nickel                    0\n",
       "dime                      0\n",
       "dtype: int64"
      ]
     },
     "execution_count": 4,
     "metadata": {},
     "output_type": "execute_result"
    }
   ],
   "source": [
    "df.isnull().sum()"
   ]
  },
  {
   "cell_type": "code",
   "execution_count": 5,
   "metadata": {},
   "outputs": [
    {
     "data": {
      "text/html": [
       "<div>\n",
       "<style scoped>\n",
       "    .dataframe tbody tr th:only-of-type {\n",
       "        vertical-align: middle;\n",
       "    }\n",
       "\n",
       "    .dataframe tbody tr th {\n",
       "        vertical-align: top;\n",
       "    }\n",
       "\n",
       "    .dataframe thead th {\n",
       "        text-align: right;\n",
       "    }\n",
       "</style>\n",
       "<table border=\"1\" class=\"dataframe\">\n",
       "  <thead>\n",
       "    <tr style=\"text-align: right;\">\n",
       "      <th></th>\n",
       "      <th>playDescription</th>\n",
       "      <th>quarter</th>\n",
       "      <th>down</th>\n",
       "      <th>yardsToGo</th>\n",
       "      <th>team_by_comp_yds</th>\n",
       "      <th>defendersInTheBox</th>\n",
       "      <th>numberOfPassRushers</th>\n",
       "      <th>QB_under_pressure</th>\n",
       "      <th>gameClock</th>\n",
       "      <th>absoluteYardlineNumber</th>\n",
       "      <th>epa</th>\n",
       "      <th>pass_stopped</th>\n",
       "      <th>playResult</th>\n",
       "      <th>RB</th>\n",
       "      <th>TE</th>\n",
       "      <th>WR</th>\n",
       "      <th>DL</th>\n",
       "      <th>LB</th>\n",
       "      <th>DB</th>\n",
       "      <th>EMPTY</th>\n",
       "      <th>I_FORM</th>\n",
       "      <th>JUMBO</th>\n",
       "      <th>PISTOL</th>\n",
       "      <th>SHOTGUN</th>\n",
       "      <th>SINGLEBACK</th>\n",
       "      <th>WILDCAT</th>\n",
       "      <th>four_three</th>\n",
       "      <th>three_four</th>\n",
       "      <th>nickel</th>\n",
       "      <th>dime</th>\n",
       "    </tr>\n",
       "  </thead>\n",
       "  <tbody>\n",
       "    <tr>\n",
       "      <th>0</th>\n",
       "      <td>(15:00) M.Ryan pass short right to J.Jones pus...</td>\n",
       "      <td>1</td>\n",
       "      <td>1</td>\n",
       "      <td>15</td>\n",
       "      <td>3</td>\n",
       "      <td>7.0</td>\n",
       "      <td>4.0</td>\n",
       "      <td>0.0</td>\n",
       "      <td>15:00:00</td>\n",
       "      <td>90.0</td>\n",
       "      <td>0.261827</td>\n",
       "      <td>0</td>\n",
       "      <td>10</td>\n",
       "      <td>2</td>\n",
       "      <td>1</td>\n",
       "      <td>2</td>\n",
       "      <td>4</td>\n",
       "      <td>2</td>\n",
       "      <td>5</td>\n",
       "      <td>0</td>\n",
       "      <td>1</td>\n",
       "      <td>0</td>\n",
       "      <td>0</td>\n",
       "      <td>0</td>\n",
       "      <td>0</td>\n",
       "      <td>0</td>\n",
       "      <td>0</td>\n",
       "      <td>0</td>\n",
       "      <td>1</td>\n",
       "      <td>0</td>\n",
       "    </tr>\n",
       "    <tr>\n",
       "      <th>1</th>\n",
       "      <td>(13:10) M.Ryan pass incomplete short right to ...</td>\n",
       "      <td>1</td>\n",
       "      <td>1</td>\n",
       "      <td>10</td>\n",
       "      <td>3</td>\n",
       "      <td>7.0</td>\n",
       "      <td>4.0</td>\n",
       "      <td>0.0</td>\n",
       "      <td>13:10:00</td>\n",
       "      <td>49.0</td>\n",
       "      <td>-0.372360</td>\n",
       "      <td>1</td>\n",
       "      <td>0</td>\n",
       "      <td>1</td>\n",
       "      <td>1</td>\n",
       "      <td>3</td>\n",
       "      <td>4</td>\n",
       "      <td>2</td>\n",
       "      <td>5</td>\n",
       "      <td>0</td>\n",
       "      <td>0</td>\n",
       "      <td>0</td>\n",
       "      <td>0</td>\n",
       "      <td>0</td>\n",
       "      <td>1</td>\n",
       "      <td>0</td>\n",
       "      <td>0</td>\n",
       "      <td>0</td>\n",
       "      <td>1</td>\n",
       "      <td>0</td>\n",
       "    </tr>\n",
       "    <tr>\n",
       "      <th>2</th>\n",
       "      <td>(13:05) (Shotgun) M.Ryan pass incomplete short...</td>\n",
       "      <td>1</td>\n",
       "      <td>2</td>\n",
       "      <td>10</td>\n",
       "      <td>3</td>\n",
       "      <td>6.0</td>\n",
       "      <td>4.0</td>\n",
       "      <td>0.0</td>\n",
       "      <td>13:05:00</td>\n",
       "      <td>49.0</td>\n",
       "      <td>-0.702779</td>\n",
       "      <td>1</td>\n",
       "      <td>0</td>\n",
       "      <td>2</td>\n",
       "      <td>1</td>\n",
       "      <td>2</td>\n",
       "      <td>4</td>\n",
       "      <td>2</td>\n",
       "      <td>5</td>\n",
       "      <td>0</td>\n",
       "      <td>0</td>\n",
       "      <td>0</td>\n",
       "      <td>0</td>\n",
       "      <td>1</td>\n",
       "      <td>0</td>\n",
       "      <td>0</td>\n",
       "      <td>0</td>\n",
       "      <td>0</td>\n",
       "      <td>1</td>\n",
       "      <td>0</td>\n",
       "    </tr>\n",
       "    <tr>\n",
       "      <th>3</th>\n",
       "      <td>(13:01) (Shotgun) M.Ryan pass deep left to J.J...</td>\n",
       "      <td>1</td>\n",
       "      <td>3</td>\n",
       "      <td>10</td>\n",
       "      <td>3</td>\n",
       "      <td>6.0</td>\n",
       "      <td>5.0</td>\n",
       "      <td>1.0</td>\n",
       "      <td>13:01:00</td>\n",
       "      <td>49.0</td>\n",
       "      <td>3.047530</td>\n",
       "      <td>0</td>\n",
       "      <td>33</td>\n",
       "      <td>1</td>\n",
       "      <td>1</td>\n",
       "      <td>3</td>\n",
       "      <td>4</td>\n",
       "      <td>1</td>\n",
       "      <td>6</td>\n",
       "      <td>0</td>\n",
       "      <td>0</td>\n",
       "      <td>0</td>\n",
       "      <td>0</td>\n",
       "      <td>1</td>\n",
       "      <td>0</td>\n",
       "      <td>0</td>\n",
       "      <td>0</td>\n",
       "      <td>0</td>\n",
       "      <td>0</td>\n",
       "      <td>1</td>\n",
       "    </tr>\n",
       "    <tr>\n",
       "      <th>4</th>\n",
       "      <td>(10:59) (Shotgun) M.Ryan pass incomplete short...</td>\n",
       "      <td>1</td>\n",
       "      <td>3</td>\n",
       "      <td>1</td>\n",
       "      <td>3</td>\n",
       "      <td>8.0</td>\n",
       "      <td>6.0</td>\n",
       "      <td>0.0</td>\n",
       "      <td>10:59:00</td>\n",
       "      <td>11.0</td>\n",
       "      <td>-0.842272</td>\n",
       "      <td>1</td>\n",
       "      <td>0</td>\n",
       "      <td>2</td>\n",
       "      <td>3</td>\n",
       "      <td>0</td>\n",
       "      <td>6</td>\n",
       "      <td>3</td>\n",
       "      <td>2</td>\n",
       "      <td>0</td>\n",
       "      <td>0</td>\n",
       "      <td>0</td>\n",
       "      <td>0</td>\n",
       "      <td>1</td>\n",
       "      <td>0</td>\n",
       "      <td>0</td>\n",
       "      <td>0</td>\n",
       "      <td>0</td>\n",
       "      <td>0</td>\n",
       "      <td>0</td>\n",
       "    </tr>\n",
       "  </tbody>\n",
       "</table>\n",
       "</div>"
      ],
      "text/plain": [
       "                                     playDescription  quarter  down  \\\n",
       "0  (15:00) M.Ryan pass short right to J.Jones pus...        1     1   \n",
       "1  (13:10) M.Ryan pass incomplete short right to ...        1     1   \n",
       "2  (13:05) (Shotgun) M.Ryan pass incomplete short...        1     2   \n",
       "3  (13:01) (Shotgun) M.Ryan pass deep left to J.J...        1     3   \n",
       "4  (10:59) (Shotgun) M.Ryan pass incomplete short...        1     3   \n",
       "\n",
       "   yardsToGo  team_by_comp_yds  defendersInTheBox  numberOfPassRushers  \\\n",
       "0         15                 3                7.0                  4.0   \n",
       "1         10                 3                7.0                  4.0   \n",
       "2         10                 3                6.0                  4.0   \n",
       "3         10                 3                6.0                  5.0   \n",
       "4          1                 3                8.0                  6.0   \n",
       "\n",
       "  QB_under_pressure gameClock  absoluteYardlineNumber       epa  pass_stopped  \\\n",
       "0               0.0  15:00:00                    90.0  0.261827             0   \n",
       "1               0.0  13:10:00                    49.0 -0.372360             1   \n",
       "2               0.0  13:05:00                    49.0 -0.702779             1   \n",
       "3               1.0  13:01:00                    49.0  3.047530             0   \n",
       "4               0.0  10:59:00                    11.0 -0.842272             1   \n",
       "\n",
       "   playResult RB TE WR  DL  LB  DB  EMPTY  I_FORM  JUMBO  PISTOL  SHOTGUN  \\\n",
       "0          10  2  1  2   4   2   5      0       1      0       0        0   \n",
       "1           0  1  1  3   4   2   5      0       0      0       0        0   \n",
       "2           0  2  1  2   4   2   5      0       0      0       0        1   \n",
       "3          33  1  1  3   4   1   6      0       0      0       0        1   \n",
       "4           0  2  3  0   6   3   2      0       0      0       0        1   \n",
       "\n",
       "   SINGLEBACK  WILDCAT  four_three  three_four  nickel  dime  \n",
       "0           0        0           0           0       1     0  \n",
       "1           1        0           0           0       1     0  \n",
       "2           0        0           0           0       1     0  \n",
       "3           0        0           0           0       0     1  \n",
       "4           0        0           0           0       0     0  "
      ]
     },
     "execution_count": 5,
     "metadata": {},
     "output_type": "execute_result"
    }
   ],
   "source": [
    "df.head()"
   ]
  },
  {
   "cell_type": "code",
   "execution_count": 6,
   "metadata": {},
   "outputs": [
    {
     "data": {
      "text/plain": [
       "0    11054\n",
       "1     5947\n",
       "Name: pass_stopped, dtype: int64"
      ]
     },
     "execution_count": 6,
     "metadata": {},
     "output_type": "execute_result"
    }
   ],
   "source": [
    "df.pass_stopped.value_counts()"
   ]
  },
  {
   "cell_type": "code",
   "execution_count": 7,
   "metadata": {},
   "outputs": [
    {
     "data": {
      "text/plain": [
       "Index(['playDescription', 'quarter', 'down', 'yardsToGo', 'team_by_comp_yds',\n",
       "       'defendersInTheBox', 'numberOfPassRushers', 'QB_under_pressure',\n",
       "       'gameClock', 'absoluteYardlineNumber', 'epa', 'pass_stopped',\n",
       "       'playResult', 'RB', 'TE', 'WR', 'DL', 'LB', 'DB', 'EMPTY', 'I_FORM',\n",
       "       'JUMBO', 'PISTOL', 'SHOTGUN', 'SINGLEBACK', 'WILDCAT', 'four_three',\n",
       "       'three_four', 'nickel', 'dime'],\n",
       "      dtype='object')"
      ]
     },
     "execution_count": 7,
     "metadata": {},
     "output_type": "execute_result"
    }
   ],
   "source": [
    "df.columns"
   ]
  },
  {
   "cell_type": "code",
   "execution_count": 8,
   "metadata": {},
   "outputs": [
    {
     "data": {
      "text/plain": [
       "0    (15:00) M.Ryan pass short right to J.Jones pushed ob at ATL 30 for 10 yards (M.Jenkins).\n",
       "1    (13:10) M.Ryan pass incomplete short right to C.Ridley (J.Mills, J.Hicks).              \n",
       "2    (13:05) (Shotgun) M.Ryan pass incomplete short left to D.Freeman.                       \n",
       "3    (13:01) (Shotgun) M.Ryan pass deep left to J.Jones to PHI 6 for 33 yards (R.Darby).     \n",
       "4    (10:59) (Shotgun) M.Ryan pass incomplete short right to D.Freeman.                      \n",
       "Name: playDescription, dtype: object"
      ]
     },
     "execution_count": 8,
     "metadata": {},
     "output_type": "execute_result"
    }
   ],
   "source": [
    "pd.set_option('display.max_colwidth', -1)\n",
    "df.playDescription.head()"
   ]
  },
  {
   "cell_type": "code",
   "execution_count": 9,
   "metadata": {},
   "outputs": [],
   "source": [
    "X_train, y_train, X_validate, y_validate, X_test, y_test = wrangle_plays_data.train_validate_test(df)"
   ]
  },
  {
   "cell_type": "code",
   "execution_count": 10,
   "metadata": {},
   "outputs": [
    {
     "data": {
      "text/html": [
       "<div>\n",
       "<style scoped>\n",
       "    .dataframe tbody tr th:only-of-type {\n",
       "        vertical-align: middle;\n",
       "    }\n",
       "\n",
       "    .dataframe tbody tr th {\n",
       "        vertical-align: top;\n",
       "    }\n",
       "\n",
       "    .dataframe thead th {\n",
       "        text-align: right;\n",
       "    }\n",
       "</style>\n",
       "<table border=\"1\" class=\"dataframe\">\n",
       "  <thead>\n",
       "    <tr style=\"text-align: right;\">\n",
       "      <th></th>\n",
       "      <th>quarter</th>\n",
       "      <th>down</th>\n",
       "      <th>yardsToGo</th>\n",
       "      <th>team_by_comp_yds</th>\n",
       "      <th>defendersInTheBox</th>\n",
       "      <th>numberOfPassRushers</th>\n",
       "      <th>QB_under_pressure</th>\n",
       "      <th>absoluteYardlineNumber</th>\n",
       "      <th>epa</th>\n",
       "      <th>playResult</th>\n",
       "      <th>RB</th>\n",
       "      <th>TE</th>\n",
       "      <th>WR</th>\n",
       "      <th>DL</th>\n",
       "      <th>LB</th>\n",
       "      <th>DB</th>\n",
       "      <th>EMPTY</th>\n",
       "      <th>I_FORM</th>\n",
       "      <th>JUMBO</th>\n",
       "      <th>PISTOL</th>\n",
       "      <th>SHOTGUN</th>\n",
       "      <th>SINGLEBACK</th>\n",
       "      <th>WILDCAT</th>\n",
       "      <th>four_three</th>\n",
       "      <th>three_four</th>\n",
       "      <th>nickel</th>\n",
       "      <th>dime</th>\n",
       "    </tr>\n",
       "  </thead>\n",
       "  <tbody>\n",
       "    <tr>\n",
       "      <th>4170</th>\n",
       "      <td>2</td>\n",
       "      <td>2</td>\n",
       "      <td>4</td>\n",
       "      <td>2</td>\n",
       "      <td>6.0</td>\n",
       "      <td>4.0</td>\n",
       "      <td>0.0</td>\n",
       "      <td>46.0</td>\n",
       "      <td>-0.611122</td>\n",
       "      <td>0</td>\n",
       "      <td>1</td>\n",
       "      <td>1</td>\n",
       "      <td>3</td>\n",
       "      <td>2</td>\n",
       "      <td>4</td>\n",
       "      <td>5</td>\n",
       "      <td>0</td>\n",
       "      <td>0</td>\n",
       "      <td>0</td>\n",
       "      <td>0</td>\n",
       "      <td>1</td>\n",
       "      <td>0</td>\n",
       "      <td>0</td>\n",
       "      <td>0</td>\n",
       "      <td>0</td>\n",
       "      <td>1</td>\n",
       "      <td>0</td>\n",
       "    </tr>\n",
       "    <tr>\n",
       "      <th>14076</th>\n",
       "      <td>4</td>\n",
       "      <td>1</td>\n",
       "      <td>10</td>\n",
       "      <td>12</td>\n",
       "      <td>6.0</td>\n",
       "      <td>5.0</td>\n",
       "      <td>0.0</td>\n",
       "      <td>65.0</td>\n",
       "      <td>-0.032445</td>\n",
       "      <td>6</td>\n",
       "      <td>1</td>\n",
       "      <td>2</td>\n",
       "      <td>2</td>\n",
       "      <td>3</td>\n",
       "      <td>4</td>\n",
       "      <td>4</td>\n",
       "      <td>1</td>\n",
       "      <td>0</td>\n",
       "      <td>0</td>\n",
       "      <td>0</td>\n",
       "      <td>0</td>\n",
       "      <td>0</td>\n",
       "      <td>0</td>\n",
       "      <td>0</td>\n",
       "      <td>1</td>\n",
       "      <td>0</td>\n",
       "      <td>0</td>\n",
       "    </tr>\n",
       "    <tr>\n",
       "      <th>15897</th>\n",
       "      <td>3</td>\n",
       "      <td>2</td>\n",
       "      <td>3</td>\n",
       "      <td>23</td>\n",
       "      <td>8.0</td>\n",
       "      <td>7.0</td>\n",
       "      <td>0.0</td>\n",
       "      <td>103.0</td>\n",
       "      <td>1.789159</td>\n",
       "      <td>7</td>\n",
       "      <td>1</td>\n",
       "      <td>1</td>\n",
       "      <td>3</td>\n",
       "      <td>4</td>\n",
       "      <td>2</td>\n",
       "      <td>5</td>\n",
       "      <td>0</td>\n",
       "      <td>0</td>\n",
       "      <td>0</td>\n",
       "      <td>0</td>\n",
       "      <td>1</td>\n",
       "      <td>0</td>\n",
       "      <td>0</td>\n",
       "      <td>0</td>\n",
       "      <td>0</td>\n",
       "      <td>1</td>\n",
       "      <td>0</td>\n",
       "    </tr>\n",
       "    <tr>\n",
       "      <th>2723</th>\n",
       "      <td>3</td>\n",
       "      <td>1</td>\n",
       "      <td>10</td>\n",
       "      <td>16</td>\n",
       "      <td>7.0</td>\n",
       "      <td>4.0</td>\n",
       "      <td>0.0</td>\n",
       "      <td>43.0</td>\n",
       "      <td>-0.025190</td>\n",
       "      <td>8</td>\n",
       "      <td>1</td>\n",
       "      <td>2</td>\n",
       "      <td>2</td>\n",
       "      <td>4</td>\n",
       "      <td>3</td>\n",
       "      <td>4</td>\n",
       "      <td>0</td>\n",
       "      <td>0</td>\n",
       "      <td>0</td>\n",
       "      <td>0</td>\n",
       "      <td>0</td>\n",
       "      <td>1</td>\n",
       "      <td>0</td>\n",
       "      <td>1</td>\n",
       "      <td>0</td>\n",
       "      <td>0</td>\n",
       "      <td>0</td>\n",
       "    </tr>\n",
       "    <tr>\n",
       "      <th>632</th>\n",
       "      <td>4</td>\n",
       "      <td>1</td>\n",
       "      <td>9</td>\n",
       "      <td>32</td>\n",
       "      <td>6.0</td>\n",
       "      <td>4.0</td>\n",
       "      <td>0.0</td>\n",
       "      <td>101.0</td>\n",
       "      <td>-0.066855</td>\n",
       "      <td>1</td>\n",
       "      <td>1</td>\n",
       "      <td>1</td>\n",
       "      <td>3</td>\n",
       "      <td>2</td>\n",
       "      <td>4</td>\n",
       "      <td>5</td>\n",
       "      <td>0</td>\n",
       "      <td>0</td>\n",
       "      <td>0</td>\n",
       "      <td>0</td>\n",
       "      <td>1</td>\n",
       "      <td>0</td>\n",
       "      <td>0</td>\n",
       "      <td>0</td>\n",
       "      <td>0</td>\n",
       "      <td>1</td>\n",
       "      <td>0</td>\n",
       "    </tr>\n",
       "  </tbody>\n",
       "</table>\n",
       "</div>"
      ],
      "text/plain": [
       "       quarter  down  yardsToGo  team_by_comp_yds  defendersInTheBox  \\\n",
       "4170   2        2     4          2                 6.0                 \n",
       "14076  4        1     10         12                6.0                 \n",
       "15897  3        2     3          23                8.0                 \n",
       "2723   3        1     10         16                7.0                 \n",
       "632    4        1     9          32                6.0                 \n",
       "\n",
       "       numberOfPassRushers QB_under_pressure  absoluteYardlineNumber  \\\n",
       "4170   4.0                  0.0               46.0                     \n",
       "14076  5.0                  0.0               65.0                     \n",
       "15897  7.0                  0.0               103.0                    \n",
       "2723   4.0                  0.0               43.0                     \n",
       "632    4.0                  0.0               101.0                    \n",
       "\n",
       "            epa  playResult RB TE WR  DL  LB  DB  EMPTY  I_FORM  JUMBO  \\\n",
       "4170  -0.611122  0           1  1  3  2   4   5   0      0       0       \n",
       "14076 -0.032445  6           1  2  2  3   4   4   1      0       0       \n",
       "15897  1.789159  7           1  1  3  4   2   5   0      0       0       \n",
       "2723  -0.025190  8           1  2  2  4   3   4   0      0       0       \n",
       "632   -0.066855  1           1  1  3  2   4   5   0      0       0       \n",
       "\n",
       "       PISTOL  SHOTGUN  SINGLEBACK  WILDCAT  four_three  three_four  nickel  \\\n",
       "4170   0       1        0           0        0           0           1        \n",
       "14076  0       0        0           0        0           1           0        \n",
       "15897  0       1        0           0        0           0           1        \n",
       "2723   0       0        1           0        1           0           0        \n",
       "632    0       1        0           0        0           0           1        \n",
       "\n",
       "       dime  \n",
       "4170   0     \n",
       "14076  0     \n",
       "15897  0     \n",
       "2723   0     \n",
       "632    0     "
      ]
     },
     "execution_count": 10,
     "metadata": {},
     "output_type": "execute_result"
    }
   ],
   "source": [
    "X_train.head()"
   ]
  },
  {
   "cell_type": "code",
   "execution_count": 11,
   "metadata": {},
   "outputs": [],
   "source": [
    "X_train_scaled, X_validate_scaled, X_test_scaled = wrangle_plays_data.min_max_scale(X_train, X_validate, X_test)"
   ]
  },
  {
   "cell_type": "code",
   "execution_count": 12,
   "metadata": {},
   "outputs": [
    {
     "data": {
      "text/html": [
       "<div>\n",
       "<style scoped>\n",
       "    .dataframe tbody tr th:only-of-type {\n",
       "        vertical-align: middle;\n",
       "    }\n",
       "\n",
       "    .dataframe tbody tr th {\n",
       "        vertical-align: top;\n",
       "    }\n",
       "\n",
       "    .dataframe thead th {\n",
       "        text-align: right;\n",
       "    }\n",
       "</style>\n",
       "<table border=\"1\" class=\"dataframe\">\n",
       "  <thead>\n",
       "    <tr style=\"text-align: right;\">\n",
       "      <th></th>\n",
       "      <th>quarter</th>\n",
       "      <th>down</th>\n",
       "      <th>yardsToGo</th>\n",
       "      <th>team_by_comp_yds</th>\n",
       "      <th>defendersInTheBox</th>\n",
       "      <th>numberOfPassRushers</th>\n",
       "      <th>QB_under_pressure</th>\n",
       "      <th>absoluteYardlineNumber</th>\n",
       "      <th>epa</th>\n",
       "      <th>DL</th>\n",
       "      <th>LB</th>\n",
       "      <th>DB</th>\n",
       "      <th>four_three</th>\n",
       "      <th>three_four</th>\n",
       "      <th>nickel</th>\n",
       "      <th>dime</th>\n",
       "    </tr>\n",
       "  </thead>\n",
       "  <tbody>\n",
       "    <tr>\n",
       "      <th>4170</th>\n",
       "      <td>0.25</td>\n",
       "      <td>0.333333</td>\n",
       "      <td>0.103448</td>\n",
       "      <td>0.032258</td>\n",
       "      <td>0.500</td>\n",
       "      <td>0.500</td>\n",
       "      <td>0.0</td>\n",
       "      <td>0.357143</td>\n",
       "      <td>0.520279</td>\n",
       "      <td>0.333333</td>\n",
       "      <td>0.666667</td>\n",
       "      <td>0.571429</td>\n",
       "      <td>0.0</td>\n",
       "      <td>0.0</td>\n",
       "      <td>1.0</td>\n",
       "      <td>0.0</td>\n",
       "    </tr>\n",
       "    <tr>\n",
       "      <th>14076</th>\n",
       "      <td>0.75</td>\n",
       "      <td>0.000000</td>\n",
       "      <td>0.310345</td>\n",
       "      <td>0.354839</td>\n",
       "      <td>0.500</td>\n",
       "      <td>0.625</td>\n",
       "      <td>0.0</td>\n",
       "      <td>0.551020</td>\n",
       "      <td>0.551760</td>\n",
       "      <td>0.500000</td>\n",
       "      <td>0.666667</td>\n",
       "      <td>0.428571</td>\n",
       "      <td>0.0</td>\n",
       "      <td>1.0</td>\n",
       "      <td>0.0</td>\n",
       "      <td>0.0</td>\n",
       "    </tr>\n",
       "    <tr>\n",
       "      <th>15897</th>\n",
       "      <td>0.50</td>\n",
       "      <td>0.333333</td>\n",
       "      <td>0.068966</td>\n",
       "      <td>0.709677</td>\n",
       "      <td>0.750</td>\n",
       "      <td>0.875</td>\n",
       "      <td>0.0</td>\n",
       "      <td>0.938776</td>\n",
       "      <td>0.650855</td>\n",
       "      <td>0.666667</td>\n",
       "      <td>0.333333</td>\n",
       "      <td>0.571429</td>\n",
       "      <td>0.0</td>\n",
       "      <td>0.0</td>\n",
       "      <td>1.0</td>\n",
       "      <td>0.0</td>\n",
       "    </tr>\n",
       "    <tr>\n",
       "      <th>2723</th>\n",
       "      <td>0.50</td>\n",
       "      <td>0.000000</td>\n",
       "      <td>0.310345</td>\n",
       "      <td>0.483871</td>\n",
       "      <td>0.625</td>\n",
       "      <td>0.500</td>\n",
       "      <td>0.0</td>\n",
       "      <td>0.326531</td>\n",
       "      <td>0.552154</td>\n",
       "      <td>0.666667</td>\n",
       "      <td>0.500000</td>\n",
       "      <td>0.428571</td>\n",
       "      <td>1.0</td>\n",
       "      <td>0.0</td>\n",
       "      <td>0.0</td>\n",
       "      <td>0.0</td>\n",
       "    </tr>\n",
       "    <tr>\n",
       "      <th>632</th>\n",
       "      <td>0.75</td>\n",
       "      <td>0.000000</td>\n",
       "      <td>0.275862</td>\n",
       "      <td>1.000000</td>\n",
       "      <td>0.500</td>\n",
       "      <td>0.500</td>\n",
       "      <td>0.0</td>\n",
       "      <td>0.918367</td>\n",
       "      <td>0.549888</td>\n",
       "      <td>0.333333</td>\n",
       "      <td>0.666667</td>\n",
       "      <td>0.571429</td>\n",
       "      <td>0.0</td>\n",
       "      <td>0.0</td>\n",
       "      <td>1.0</td>\n",
       "      <td>0.0</td>\n",
       "    </tr>\n",
       "    <tr>\n",
       "      <th>...</th>\n",
       "      <td>...</td>\n",
       "      <td>...</td>\n",
       "      <td>...</td>\n",
       "      <td>...</td>\n",
       "      <td>...</td>\n",
       "      <td>...</td>\n",
       "      <td>...</td>\n",
       "      <td>...</td>\n",
       "      <td>...</td>\n",
       "      <td>...</td>\n",
       "      <td>...</td>\n",
       "      <td>...</td>\n",
       "      <td>...</td>\n",
       "      <td>...</td>\n",
       "      <td>...</td>\n",
       "      <td>...</td>\n",
       "    </tr>\n",
       "    <tr>\n",
       "      <th>2507</th>\n",
       "      <td>0.25</td>\n",
       "      <td>0.000000</td>\n",
       "      <td>0.310345</td>\n",
       "      <td>0.096774</td>\n",
       "      <td>0.625</td>\n",
       "      <td>0.500</td>\n",
       "      <td>0.0</td>\n",
       "      <td>0.500000</td>\n",
       "      <td>0.690090</td>\n",
       "      <td>0.666667</td>\n",
       "      <td>0.333333</td>\n",
       "      <td>0.571429</td>\n",
       "      <td>0.0</td>\n",
       "      <td>0.0</td>\n",
       "      <td>1.0</td>\n",
       "      <td>0.0</td>\n",
       "    </tr>\n",
       "    <tr>\n",
       "      <th>10063</th>\n",
       "      <td>0.25</td>\n",
       "      <td>0.333333</td>\n",
       "      <td>0.068966</td>\n",
       "      <td>0.935484</td>\n",
       "      <td>0.375</td>\n",
       "      <td>0.500</td>\n",
       "      <td>0.0</td>\n",
       "      <td>0.744898</td>\n",
       "      <td>0.585577</td>\n",
       "      <td>0.333333</td>\n",
       "      <td>0.500000</td>\n",
       "      <td>0.714286</td>\n",
       "      <td>0.0</td>\n",
       "      <td>0.0</td>\n",
       "      <td>0.0</td>\n",
       "      <td>1.0</td>\n",
       "    </tr>\n",
       "    <tr>\n",
       "      <th>10013</th>\n",
       "      <td>0.50</td>\n",
       "      <td>0.666667</td>\n",
       "      <td>0.241379</td>\n",
       "      <td>0.516129</td>\n",
       "      <td>0.500</td>\n",
       "      <td>0.500</td>\n",
       "      <td>0.0</td>\n",
       "      <td>0.897959</td>\n",
       "      <td>0.687523</td>\n",
       "      <td>0.333333</td>\n",
       "      <td>0.500000</td>\n",
       "      <td>0.714286</td>\n",
       "      <td>0.0</td>\n",
       "      <td>0.0</td>\n",
       "      <td>0.0</td>\n",
       "      <td>1.0</td>\n",
       "    </tr>\n",
       "    <tr>\n",
       "      <th>3002</th>\n",
       "      <td>0.75</td>\n",
       "      <td>0.333333</td>\n",
       "      <td>0.068966</td>\n",
       "      <td>0.935484</td>\n",
       "      <td>0.625</td>\n",
       "      <td>0.500</td>\n",
       "      <td>0.0</td>\n",
       "      <td>0.153061</td>\n",
       "      <td>0.594821</td>\n",
       "      <td>0.666667</td>\n",
       "      <td>0.333333</td>\n",
       "      <td>0.571429</td>\n",
       "      <td>0.0</td>\n",
       "      <td>0.0</td>\n",
       "      <td>1.0</td>\n",
       "      <td>0.0</td>\n",
       "    </tr>\n",
       "    <tr>\n",
       "      <th>13187</th>\n",
       "      <td>0.25</td>\n",
       "      <td>0.333333</td>\n",
       "      <td>0.241379</td>\n",
       "      <td>0.000000</td>\n",
       "      <td>0.375</td>\n",
       "      <td>0.500</td>\n",
       "      <td>0.0</td>\n",
       "      <td>0.755102</td>\n",
       "      <td>0.508186</td>\n",
       "      <td>0.666667</td>\n",
       "      <td>0.333333</td>\n",
       "      <td>0.571429</td>\n",
       "      <td>0.0</td>\n",
       "      <td>0.0</td>\n",
       "      <td>1.0</td>\n",
       "      <td>0.0</td>\n",
       "    </tr>\n",
       "  </tbody>\n",
       "</table>\n",
       "<p>7140 rows × 16 columns</p>\n",
       "</div>"
      ],
      "text/plain": [
       "       quarter      down  yardsToGo  team_by_comp_yds  defendersInTheBox  \\\n",
       "4170   0.25     0.333333  0.103448   0.032258          0.500               \n",
       "14076  0.75     0.000000  0.310345   0.354839          0.500               \n",
       "15897  0.50     0.333333  0.068966   0.709677          0.750               \n",
       "2723   0.50     0.000000  0.310345   0.483871          0.625               \n",
       "632    0.75     0.000000  0.275862   1.000000          0.500               \n",
       "...     ...          ...       ...        ...            ...               \n",
       "2507   0.25     0.000000  0.310345   0.096774          0.625               \n",
       "10063  0.25     0.333333  0.068966   0.935484          0.375               \n",
       "10013  0.50     0.666667  0.241379   0.516129          0.500               \n",
       "3002   0.75     0.333333  0.068966   0.935484          0.625               \n",
       "13187  0.25     0.333333  0.241379   0.000000          0.375               \n",
       "\n",
       "       numberOfPassRushers  QB_under_pressure  absoluteYardlineNumber  \\\n",
       "4170   0.500                0.0                0.357143                 \n",
       "14076  0.625                0.0                0.551020                 \n",
       "15897  0.875                0.0                0.938776                 \n",
       "2723   0.500                0.0                0.326531                 \n",
       "632    0.500                0.0                0.918367                 \n",
       "...      ...                ...                     ...                 \n",
       "2507   0.500                0.0                0.500000                 \n",
       "10063  0.500                0.0                0.744898                 \n",
       "10013  0.500                0.0                0.897959                 \n",
       "3002   0.500                0.0                0.153061                 \n",
       "13187  0.500                0.0                0.755102                 \n",
       "\n",
       "            epa        DL        LB        DB  four_three  three_four  nickel  \\\n",
       "4170   0.520279  0.333333  0.666667  0.571429  0.0         0.0         1.0      \n",
       "14076  0.551760  0.500000  0.666667  0.428571  0.0         1.0         0.0      \n",
       "15897  0.650855  0.666667  0.333333  0.571429  0.0         0.0         1.0      \n",
       "2723   0.552154  0.666667  0.500000  0.428571  1.0         0.0         0.0      \n",
       "632    0.549888  0.333333  0.666667  0.571429  0.0         0.0         1.0      \n",
       "...         ...       ...       ...       ...  ...         ...         ...      \n",
       "2507   0.690090  0.666667  0.333333  0.571429  0.0         0.0         1.0      \n",
       "10063  0.585577  0.333333  0.500000  0.714286  0.0         0.0         0.0      \n",
       "10013  0.687523  0.333333  0.500000  0.714286  0.0         0.0         0.0      \n",
       "3002   0.594821  0.666667  0.333333  0.571429  0.0         0.0         1.0      \n",
       "13187  0.508186  0.666667  0.333333  0.571429  0.0         0.0         1.0      \n",
       "\n",
       "       dime  \n",
       "4170   0.0   \n",
       "14076  0.0   \n",
       "15897  0.0   \n",
       "2723   0.0   \n",
       "632    0.0   \n",
       "...    ...   \n",
       "2507   0.0   \n",
       "10063  1.0   \n",
       "10013  1.0   \n",
       "3002   0.0   \n",
       "13187  0.0   \n",
       "\n",
       "[7140 rows x 16 columns]"
      ]
     },
     "execution_count": 12,
     "metadata": {},
     "output_type": "execute_result"
    }
   ],
   "source": [
    "X_train_scaled"
   ]
  },
  {
   "cell_type": "code",
   "execution_count": 13,
   "metadata": {},
   "outputs": [
    {
     "data": {
      "text/plain": [
       "0.0    6443\n",
       "1.0    697 \n",
       "Name: QB_under_pressure, dtype: int64"
      ]
     },
     "execution_count": 13,
     "metadata": {},
     "output_type": "execute_result"
    }
   ],
   "source": [
    "X_train.QB_under_pressure.value_counts()"
   ]
  },
  {
   "cell_type": "code",
   "execution_count": 14,
   "metadata": {},
   "outputs": [
    {
     "data": {
      "text/plain": [
       "<matplotlib.axes._subplots.AxesSubplot at 0x7fa546d237c0>"
      ]
     },
     "execution_count": 14,
     "metadata": {},
     "output_type": "execute_result"
    },
    {
     "data": {
      "image/png": "[encoded data removed]",
      "text/plain": [
       "<Figure size 792x648 with 2 Axes>"
      ]
     },
     "metadata": {
      "needs_background": "light"
     },
     "output_type": "display_data"
    }
   ],
   "source": [
    "corr = df.corr()\n",
    "# Generate a mask for the upper triangle\n",
    "mask = np.triu(np.ones_like(corr, dtype=bool))\n",
    "# Set up the matplotlib figure\n",
    "f, ax = plt.subplots(figsize=(11, 9))\n",
    "# Generate a custom diverging colormap\n",
    "cmap = sns.diverging_palette(500, 20, as_cmap=True)\n",
    "# Draw the heatmap with the mask and correct aspect ratio\n",
    "sns.heatmap(corr, mask=mask, cmap=cmap, vmax=.3, center=0,\n",
    "            square=True, linewidths=.5, cbar_kws={\"shrink\": .5})"
   ]
  },
  {
   "cell_type": "code",
   "execution_count": 15,
   "metadata": {},
   "outputs": [
    {
     "data": {
      "text/plain": [
       "Text(0.5, 15.0, '')"
      ]
     },
     "execution_count": 15,
     "metadata": {},
     "output_type": "execute_result"
    },
    {
     "data": {
      "image/png": "[encoded data removed]",
      "text/plain": [
       "<Figure size 432x288 with 2 Axes>"
      ]
     },
     "metadata": {
      "needs_background": "light"
     },
     "output_type": "display_data"
    }
   ],
   "source": [
    "# Create crosstab of data I want to visualize\n",
    "crosstab = pd.crosstab(df.pass_stopped, df.QB_under_pressure)\n",
    "# Visualizes heatmap to see differences in values\n",
    "sns.heatmap(crosstab, annot= True, cmap= 'Reds', fmt= 'd')\n",
    "\n",
    "plt.title('Passes by QB Under Pressure')\n",
    "locs, labels = plt.yticks()\n",
    "plt.yticks(locs, ('Not Stopped', 'Stopped'))\n",
    "plt.xticks(locs, ('Not Under Pressure', 'Under Pressure'))\n",
    "plt.ylabel('')\n",
    "plt.xlabel('')"
   ]
  },
  {
   "cell_type": "code",
   "execution_count": 16,
   "metadata": {},
   "outputs": [
    {
     "data": {
      "text/plain": [
       "0.35"
      ]
     },
     "execution_count": 16,
     "metadata": {},
     "output_type": "execute_result"
    }
   ],
   "source": [
    "incompletion_rate = (((df.pass_stopped == 1).sum()) / (df.pass_stopped.count())).round(2)\n",
    "incompletion_rate"
   ]
  },
  {
   "cell_type": "code",
   "execution_count": 17,
   "metadata": {},
   "outputs": [
    {
     "name": "stdout",
     "output_type": "stream",
     "text": [
      "Comparing If Schemes And QB Pressure Impact Incompletion Rate\n"
     ]
    },
    {
     "data": {
      "image/png": "[encoded data removed]",
      "text/plain": [
       "<Figure size 1440x288 with 5 Axes>"
      ]
     },
     "metadata": {
      "needs_background": "light"
     },
     "output_type": "display_data"
    }
   ],
   "source": [
    "# List all the questions\n",
    "features = ['QB_under_pressure','dime', 'four_three','three_four', 'nickel']\n",
    "\n",
    "# subplot each questions side by side\n",
    "# adding a line to measure where average autism rating is\n",
    "_, ax = plt.subplots(nrows=1, ncols=5, figsize=(20, 4), sharey=True)\n",
    "for i, feature in enumerate(features):\n",
    "    sns.barplot(feature, 'pass_stopped', data=df, ax=ax[i], alpha=.8)\n",
    "    ax[i].set_xlabel('')\n",
    "    ax[i].set_ylabel('Incomplete Rate')\n",
    "    ax[i].set_title(feature)\n",
    "    ax[i].axhline(incompletion_rate, ls='--', color='grey')\n",
    "print('Comparing If Schemes And QB Pressure Impact Incompletion Rate')"
   ]
  },
  {
   "cell_type": "markdown",
   "metadata": {},
   "source": [
    "## Conclusion\n",
    "- Dime and Nickel have a closer to 50/50 chance of stopping the pass over 3-4 and 4-3 defensive schemes based on the data"
   ]
  },
  {
   "cell_type": "markdown",
   "metadata": {},
   "source": [
    "## Hypothesis 1"
   ]
  },
  {
   "cell_type": "markdown",
   "metadata": {},
   "source": [
    "H0: There is no difference in stopped passes between nickel defense and average nickel defense\n",
    "\n",
    "Ha: There is a difference in stopped passes between nickel defense and average nickel defense"
   ]
  },
  {
   "cell_type": "code",
   "execution_count": 18,
   "metadata": {},
   "outputs": [
    {
     "name": "stdout",
     "output_type": "stream",
     "text": [
      "t = -0.92\n",
      "p = 0.359110901654390746173817205999512225389480590820312500000000000000000000000000000000000000\n",
      "Our p-value is less than our alpha: False\n"
     ]
    }
   ],
   "source": [
    "alpha= .05\n",
    "stopped_pass = df[df.pass_stopped == 1]\n",
    "t, p = stats.ttest_1samp(stopped_pass.nickel, df.nickel.mean())\n",
    "\n",
    "print(f't = {t:.2f}')\n",
    "print(f'p = {p:.90f}')\n",
    "print(f'Our p-value is less than our alpha: {p < alpha}')"
   ]
  },
  {
   "cell_type": "markdown",
   "metadata": {},
   "source": [
    "## Hypothesis 2"
   ]
  },
  {
   "cell_type": "markdown",
   "metadata": {},
   "source": [
    "H0: There is no difference in stopped passes between dime defense and average dime defense\n",
    "\n",
    "Ha: There is a difference in stopped passes between dime defense and average dime defense"
   ]
  },
  {
   "cell_type": "code",
   "execution_count": 19,
   "metadata": {},
   "outputs": [
    {
     "name": "stdout",
     "output_type": "stream",
     "text": [
      "t = 3.29\n",
      "p = 0.000992312212899799537743628086161606915993615984916687011718750000000000000000000000000000\n",
      "Our p-value is less than our alpha: True\n"
     ]
    }
   ],
   "source": [
    "alpha= .05\n",
    "stopped_pass = df[df.pass_stopped == 1]\n",
    "t, p = stats.ttest_1samp(stopped_pass.dime, df.dime.mean())\n",
    "\n",
    "print(f't = {t:.2f}')\n",
    "print(f'p = {p:.90f}')\n",
    "print(f'Our p-value is less than our alpha: {p < alpha}')"
   ]
  },
  {
   "cell_type": "markdown",
   "metadata": {},
   "source": [
    "## Hypothesis 3"
   ]
  },
  {
   "cell_type": "markdown",
   "metadata": {},
   "source": [
    "H0: There is no difference in stopped passes between 3-4 defense and average 3-4 defense\n",
    "\n",
    "Ha: There is a difference in stopped passes between 3-4 defense and average 3-4 defense"
   ]
  },
  {
   "cell_type": "code",
   "execution_count": 20,
   "metadata": {},
   "outputs": [
    {
     "name": "stdout",
     "output_type": "stream",
     "text": [
      "t = -1.65\n",
      "p = 0.099846444755989846586707869846577523276209831237792968750000000000000000000000000000000000\n",
      "Our p-value is less than our alpha: False\n"
     ]
    }
   ],
   "source": [
    "alpha= .05\n",
    "stopped_pass = df[df.pass_stopped == 1]\n",
    "t, p = stats.ttest_1samp(stopped_pass.three_four, df.three_four.mean())\n",
    "\n",
    "print(f't = {t:.2f}')\n",
    "print(f'p = {p:.90f}')\n",
    "print(f'Our p-value is less than our alpha: {p < alpha}')"
   ]
  },
  {
   "cell_type": "markdown",
   "metadata": {},
   "source": [
    "## Hypothesis 4"
   ]
  },
  {
   "cell_type": "markdown",
   "metadata": {},
   "source": [
    "H0: There is no difference in stopped passes between 4-3 defense and average 4-3 defense\n",
    "\n",
    "Ha: There is a difference in stopped passes between 4-3 defense and average 4-3 defense"
   ]
  },
  {
   "cell_type": "code",
   "execution_count": 21,
   "metadata": {},
   "outputs": [
    {
     "name": "stdout",
     "output_type": "stream",
     "text": [
      "t = -2.95\n",
      "p = 0.003197485974375448725820492157367880281526595354080200195312500000000000000000000000000000\n",
      "Our p-value is less than our alpha: True\n"
     ]
    }
   ],
   "source": [
    "alpha= .05\n",
    "stopped_pass = df[df.pass_stopped == 1]\n",
    "t, p = stats.ttest_1samp(stopped_pass.four_three, df.four_three.mean())\n",
    "\n",
    "print(f't = {t:.2f}')\n",
    "print(f'p = {p:.90f}')\n",
    "print(f'Our p-value is less than our alpha: {p < alpha}')"
   ]
  },
  {
   "cell_type": "markdown",
   "metadata": {},
   "source": [
    "## Hypothesis 5"
   ]
  },
  {
   "cell_type": "markdown",
   "metadata": {},
   "source": [
    "H0: A defense stopping a pass is independent of QB pressure\n",
    "\n",
    "Ha: A defense stopping a pass is not independent of QB pressure"
   ]
  },
  {
   "cell_type": "code",
   "execution_count": 22,
   "metadata": {},
   "outputs": [
    {
     "name": "stdout",
     "output_type": "stream",
     "text": [
      "Our p-value is 0.000000000000000000000000000000000000000000000000023449808347692850044076190410011891719755.\n",
      "Our p-value is less than our alpha: True\n"
     ]
    }
   ],
   "source": [
    "crosstab = pd.crosstab(df.pass_stopped, df.QB_under_pressure)\n",
    "Chi2, p, degf, expected = stats.chi2_contingency(crosstab)\n",
    "print(f'Our p-value is {p:.90f}.')\n",
    "print(f'Our p-value is less than our alpha: {p < alpha}')"
   ]
  },
  {
   "cell_type": "markdown",
   "metadata": {},
   "source": [
    "## Hypothesis 6"
   ]
  },
  {
   "cell_type": "markdown",
   "metadata": {},
   "source": [
    "H0: A defense stopping a pass is independent of which down it is\n",
    "\n",
    "Ha: A defense stopping a pass is not independent of which down it is"
   ]
  },
  {
   "cell_type": "code",
   "execution_count": 23,
   "metadata": {},
   "outputs": [
    {
     "name": "stdout",
     "output_type": "stream",
     "text": [
      "Our p-value is 0.000000000000000026269413671360425860932103196844396247666855744961993124331200988308410160.\n",
      "Our p-value is less than our alpha: True\n"
     ]
    }
   ],
   "source": [
    "crosstab = pd.crosstab(df.pass_stopped, df.down)\n",
    "Chi2, p, degf, expected = stats.chi2_contingency(crosstab)\n",
    "print(f'Our p-value is {p:.90f}.')\n",
    "print(f'Our p-value is less than our alpha: {p < alpha}')"
   ]
  },
  {
   "cell_type": "markdown",
   "metadata": {},
   "source": [
    "# Modeling"
   ]
  },
  {
   "cell_type": "code",
   "execution_count": 24,
   "metadata": {},
   "outputs": [],
   "source": [
    "# Import the functions I will need for modeling\n",
    "from sklearn.metrics import classification_report, confusion_matrix, precision_score, recall_score, accuracy_score\n",
    "from sklearn.metrics import confusion_matrix\n",
    "from sklearn.tree import DecisionTreeClassifier\n",
    "from sklearn.metrics import mean_squared_error, explained_variance_score\n",
    "from sklearn.ensemble import RandomForestClassifier"
   ]
  },
  {
   "cell_type": "code",
   "execution_count": 25,
   "metadata": {},
   "outputs": [
    {
     "data": {
      "text/plain": [
       "0.35"
      ]
     },
     "execution_count": 25,
     "metadata": {},
     "output_type": "execute_result"
    }
   ],
   "source": [
    "# Establish our baseline\n",
    "baseline = ((df.pass_stopped == 1).sum() / df.pass_stopped.count()).round(2)\n",
    "baseline"
   ]
  },
  {
   "cell_type": "markdown",
   "metadata": {},
   "source": [
    "## Feature Engineering"
   ]
  },
  {
   "cell_type": "code",
   "execution_count": 26,
   "metadata": {},
   "outputs": [],
   "source": [
    "from sklearn.feature_selection import RFE\n",
    "from sklearn.linear_model import LogisticRegression"
   ]
  },
  {
   "cell_type": "code",
   "execution_count": 27,
   "metadata": {},
   "outputs": [],
   "source": [
    "## Assessing the RFE using a linear regression model\n",
    "lr =  LogisticRegression(random_state=123)\n",
    "\n",
    "rfe = RFE(lr, 10)\n",
    "lm_X_rfe_train = rfe.fit_transform(X_train_scaled,y_train)\n",
    "lm_X_rfe_val = rfe.transform(X_validate_scaled)\n",
    "lm_X_rfe_test = rfe.transform(X_test_scaled)"
   ]
  },
  {
   "cell_type": "code",
   "execution_count": 28,
   "metadata": {},
   "outputs": [
    {
     "name": "stdout",
     "output_type": "stream",
     "text": [
      "selected 10 features: quarter, down, yardsToGo, defendersInTheBox, numberOfPassRushers, QB_under_pressure, epa, DL, DB, four_three\n"
     ]
    }
   ],
   "source": [
    "## Here we want to filter through and return only the best features\n",
    "mask = rfe.support_ \n",
    "rfe_features = X_train_scaled.columns[mask]\n",
    "print(f'selected {len(rfe_features)} features:', ', '.join(rfe_features))"
   ]
  },
  {
   "cell_type": "code",
   "execution_count": 29,
   "metadata": {},
   "outputs": [],
   "source": [
    "# assign random forest to a variable\n",
    "def random_forest(leaf, depth, estimator):\n",
    "    rf = RandomForestClassifier(bootstrap=True, \n",
    "                            class_weight=None, \n",
    "                            criterion='gini',\n",
    "                            min_samples_leaf=leaf,\n",
    "                            n_estimators=estimator,\n",
    "                            max_depth=depth, \n",
    "                            random_state=123)\n",
    "    \n",
    "    print('---------------------------- Train -------------------------------')\n",
    "    \n",
    "    # fit train data\n",
    "    rf.fit(X_train_scaled, y_train)\n",
    "    # assign predicitons\n",
    "    y_pred = rf.predict(X_train_scaled)\n",
    "    # assign probabilities\n",
    "    y_pred_proba = rf.predict_proba(X_train_scaled)\n",
    "    print('Accuracy of random forest classifier on training set: {:.2f}'\n",
    "         .format(rf.score(X_train_scaled, y_train)))\n",
    "    print('Training Data Matrix')\n",
    "    print(confusion_matrix(y_train, y_pred))\n",
    "    # print report\n",
    "    print('Training Data Report')\n",
    "    print(classification_report(y_train, y_pred))\n",
    "    \n",
    "    print('---------------------------- Validate -------------------------------')\n",
    "    \n",
    "    # assign predicitions\n",
    "    y_pred = rf.predict(X_validate_scaled)\n",
    "    # assign probabilities\n",
    "    y_pred_proba = rf.predict_proba(X_validate_scaled)\n",
    "    print('Accuracy of random forest classifier on validate set: {:.2f}'\n",
    "         .format(rf.score(X_validate_scaled, y_validate)))\n",
    "    print('Training Data Matrix')\n",
    "    print(confusion_matrix(y_validate, y_pred))\n",
    "    # print report\n",
    "    print('Training Data Report')\n",
    "    print(classification_report(y_validate, y_pred))\n",
    "    \n",
    "    print('--------------------- Important Features ---------------------------')\n",
    "    feature_importances = pd.DataFrame(rf.feature_importances_,\n",
    "                                   index = X_train_scaled.columns,\n",
    "                                    columns=['importance']).sort_values('importance',ascending=False)\n",
    "    return random_forest, feature_importances\n",
    "    "
   ]
  },
  {
   "cell_type": "code",
   "execution_count": 30,
   "metadata": {},
   "outputs": [
    {
     "name": "stdout",
     "output_type": "stream",
     "text": [
      "---------------------------- Train -------------------------------\n",
      "Accuracy of random forest classifier on training set: 0.91\n",
      "Training Data Matrix\n",
      "[[4063  543]\n",
      " [  92 2442]]\n",
      "Training Data Report\n",
      "              precision    recall  f1-score   support\n",
      "\n",
      "           0       0.98      0.88      0.93      4606\n",
      "           1       0.82      0.96      0.88      2534\n",
      "\n",
      "    accuracy                           0.91      7140\n",
      "   macro avg       0.90      0.92      0.91      7140\n",
      "weighted avg       0.92      0.91      0.91      7140\n",
      "\n",
      "---------------------------- Validate -------------------------------\n",
      "Accuracy of random forest classifier on validate set: 0.88\n",
      "Training Data Matrix\n",
      "[[2711  452]\n",
      " [ 127 1470]]\n",
      "Training Data Report\n",
      "              precision    recall  f1-score   support\n",
      "\n",
      "           0       0.96      0.86      0.90      3163\n",
      "           1       0.76      0.92      0.84      1597\n",
      "\n",
      "    accuracy                           0.88      4760\n",
      "   macro avg       0.86      0.89      0.87      4760\n",
      "weighted avg       0.89      0.88      0.88      4760\n",
      "\n",
      "--------------------- Important Features ---------------------------\n"
     ]
    },
    {
     "data": {
      "text/plain": [
       "(<function __main__.random_forest(leaf, depth, estimator)>,\n",
       "                         importance\n",
       " epa                     0.789556  \n",
       " absoluteYardlineNumber  0.036925  \n",
       " yardsToGo               0.035920  \n",
       " down                    0.028671  \n",
       " team_by_comp_yds        0.024748  \n",
       " numberOfPassRushers     0.020509  \n",
       " QB_under_pressure       0.015841  \n",
       " quarter                 0.011676  \n",
       " defendersInTheBox       0.009678  \n",
       " LB                      0.007019  \n",
       " DL                      0.006915  \n",
       " DB                      0.004927  \n",
       " nickel                  0.002715  \n",
       " dime                    0.002315  \n",
       " four_three              0.001986  \n",
       " three_four              0.000600  )"
      ]
     },
     "execution_count": 30,
     "metadata": {},
     "output_type": "execute_result"
    }
   ],
   "source": [
    "random_forest(6, 12, 100)"
   ]
  },
  {
   "cell_type": "code",
   "execution_count": 31,
   "metadata": {},
   "outputs": [
    {
     "name": "stdout",
     "output_type": "stream",
     "text": [
      "---------------------------- Train -------------------------------\n",
      "Accuracy of random forest classifier on training set: 0.91\n",
      "Training Data Matrix\n",
      "[[4085  521]\n",
      " [  93 2441]]\n",
      "Training Data Report\n",
      "              precision    recall  f1-score   support\n",
      "\n",
      "           0       0.98      0.89      0.93      4606\n",
      "           1       0.82      0.96      0.89      2534\n",
      "\n",
      "    accuracy                           0.91      7140\n",
      "   macro avg       0.90      0.93      0.91      7140\n",
      "weighted avg       0.92      0.91      0.92      7140\n",
      "\n",
      "---------------------------- Validate -------------------------------\n",
      "Accuracy of random forest classifier on validate set: 0.88\n",
      "Training Data Matrix\n",
      "[[2724  439]\n",
      " [ 137 1460]]\n",
      "Training Data Report\n",
      "              precision    recall  f1-score   support\n",
      "\n",
      "           0       0.95      0.86      0.90      3163\n",
      "           1       0.77      0.91      0.84      1597\n",
      "\n",
      "    accuracy                           0.88      4760\n",
      "   macro avg       0.86      0.89      0.87      4760\n",
      "weighted avg       0.89      0.88      0.88      4760\n",
      "\n",
      "--------------------- Important Features ---------------------------\n"
     ]
    },
    {
     "data": {
      "text/plain": [
       "(<function __main__.random_forest(leaf, depth, estimator)>,\n",
       "                         importance\n",
       " epa                     0.790050  \n",
       " absoluteYardlineNumber  0.038993  \n",
       " yardsToGo               0.035042  \n",
       " down                    0.027115  \n",
       " team_by_comp_yds        0.025751  \n",
       " numberOfPassRushers     0.018815  \n",
       " QB_under_pressure       0.014884  \n",
       " quarter                 0.012694  \n",
       " defendersInTheBox       0.010067  \n",
       " LB                      0.007206  \n",
       " DL                      0.007029  \n",
       " DB                      0.004155  \n",
       " dime                    0.003115  \n",
       " nickel                  0.002844  \n",
       " four_three              0.001997  \n",
       " three_four              0.000243  )"
      ]
     },
     "execution_count": 31,
     "metadata": {},
     "output_type": "execute_result"
    }
   ],
   "source": [
    "random_forest(8, 15, 100)"
   ]
  },
  {
   "cell_type": "code",
   "execution_count": 32,
   "metadata": {},
   "outputs": [],
   "source": [
    "import MVP"
   ]
  },
  {
   "cell_type": "code",
   "execution_count": null,
   "metadata": {},
   "outputs": [],
   "source": [
    "MVP.MVP()"
   ]
  },
  {
   "cell_type": "code",
   "execution_count": null,
   "metadata": {},
   "outputs": [],
   "source": []
  }
 ],
 "metadata": {
  "kernelspec": {
   "display_name": "Python 3",
   "language": "python",
   "name": "python3"
  },
  "language_info": {
   "codemirror_mode": {
    "name": "ipython",
    "version": 3
   },
   "file_extension": ".py",
   "mimetype": "text/x-python",
   "name": "python",
   "nbconvert_exporter": "python",
   "pygments_lexer": "ipython3",
   "version": "3.8.3"
  }
 },
 "nbformat": 4,
 "nbformat_minor": 4
}
