{
 "cells": [
  {
   "cell_type": "code",
   "execution_count": null,
   "metadata": {},
   "outputs": [],
   "source": [
    "import pandas as pd\n",
    "import matplotlib.pyplot as plt\n",
    "import seaborn as sns\n",
    "import numpy as np\n",
    "import prep_plays\n",
    "import wrangle_plays_data\n",
    "from scipy import stats\n",
    "pd.set_option('display.max_columns', None)"
   ]
  },
  {
   "cell_type": "code",
   "execution_count": null,
   "metadata": {},
   "outputs": [],
   "source": [
    "df = prep_plays.prep_plays_data()\n",
    "df.head()"
   ]
  },
  {
   "cell_type": "code",
   "execution_count": null,
   "metadata": {},
   "outputs": [],
   "source": [
    "games = pd.read_csv('games.csv')"
   ]
  },
  {
   "cell_type": "code",
   "execution_count": null,
   "metadata": {},
   "outputs": [],
   "source": [
    "games.head()"
   ]
  },
  {
   "cell_type": "code",
   "execution_count": null,
   "metadata": {},
   "outputs": [],
   "source": [
    "week1 = pd.read_csv('week1.csv')"
   ]
  },
  {
   "cell_type": "code",
   "execution_count": null,
   "metadata": {},
   "outputs": [],
   "source": [
    "week1.event.value_counts()"
   ]
  },
  {
   "cell_type": "code",
   "execution_count": null,
   "metadata": {},
   "outputs": [],
   "source": [
    "week1[(week1.event == 'pass_outcome_caught') | (week1.event == 'pass_outcome_incomplete') | (week1.event =='pass_outcome_interception')]"
   ]
  },
  {
   "cell_type": "code",
   "execution_count": null,
   "metadata": {},
   "outputs": [],
   "source": [
    "plays = pd.read_csv('plays.csv')"
   ]
  },
  {
   "cell_type": "code",
   "execution_count": null,
   "metadata": {},
   "outputs": [],
   "source": [
    "plays.head()"
   ]
  },
  {
   "cell_type": "code",
   "execution_count": null,
   "metadata": {},
   "outputs": [],
   "source": [
    "players = pd.read_csv('players.csv')"
   ]
  },
  {
   "cell_type": "code",
   "execution_count": null,
   "metadata": {},
   "outputs": [],
   "source": [
    "players.head()"
   ]
  },
  {
   "cell_type": "code",
   "execution_count": null,
   "metadata": {},
   "outputs": [],
   "source": [
    "new_df = pd.merge(week1, players, how='inner', on='displayName', left_on=None, right_on=None,\n",
    "         left_index=False, right_index=False, sort=True,\n",
    "         suffixes=('_x', '_y'), copy=True, indicator=False,\n",
    "         validate=None)"
   ]
  },
  {
   "cell_type": "code",
   "execution_count": null,
   "metadata": {},
   "outputs": [],
   "source": []
  },
  {
   "cell_type": "code",
   "execution_count": null,
   "metadata": {},
   "outputs": [],
   "source": [
    "def convert_event_col(df):\n",
    "    df = (df[df.event == 'pass_outcome_caught']) | (df[df.event == 'pass_outcome_incomplete']) | (df[df.event =='pass_outcome_interception'])\n",
    "    df = df['event'].replace({'pass_outcome_caught': 0,'pass_outcome_incomplete' : 1,'pass_outcome_interception' : 1},\n",
    "                        inplace=True)\n",
    "    \n",
    "    return df"
   ]
  },
  {
   "cell_type": "code",
   "execution_count": 17,
   "metadata": {},
   "outputs": [],
   "source": [
    "def merge_data():\n",
    "    df2 = pd.read_csv('players.csv')\n",
    "    week1 = pd.read_csv('week1.csv')\n",
    "    week1['week'] = 1\n",
    "    week2 = pd.read_csv('week2.csv')\n",
    "    week2['week'] = 2\n",
    "    week3 = pd.read_csv('week3.csv')\n",
    "    week3['week'] = 3\n",
    "    week4 = pd.read_csv('week4.csv')\n",
    "    week4['week'] = 4\n",
    "    week5 = pd.read_csv('week5.csv')\n",
    "    week5['week'] = 5\n",
    "    week6 = pd.read_csv('week6.csv')\n",
    "    week6['week'] = 6\n",
    "    week7 = pd.read_csv('week7.csv')\n",
    "    week7['week'] = 7\n",
    "    week8 = pd.read_csv('week8.csv')\n",
    "    week8['week'] = 8\n",
    "    week9 = pd.read_csv('week9.csv')\n",
    "    week9['week'] = 9\n",
    "    week10 = pd.read_csv('week10.csv')\n",
    "    week10['week'] = 10\n",
    "    week11 = pd.read_csv('week11.csv')\n",
    "    week11['week'] = 11\n",
    "    week12 = pd.read_csv('week12.csv')\n",
    "    week12['week'] = 12\n",
    "    week13 = pd.read_csv('week13.csv')\n",
    "    week13['week'] = 13\n",
    "    week14 = pd.read_csv('week14.csv')\n",
    "    week14['week'] = 14\n",
    "    week15 = pd.read_csv('week15.csv')\n",
    "    week15['week'] = 15\n",
    "    week16 = pd.read_csv('week16.csv')\n",
    "    week16['week'] = 16\n",
    "    week17 = pd.read_csv('week17.csv')\n",
    "    week17['week'] = 17\n",
    "    df1 = pd.concat([week1, week2, week3, week4, week5, week6, week7, week8, week9,\n",
    "                   week10, week11, week12, week13, week14, week15, week16, week17])\n",
    "    df = pd.merge(df1, df2, how='inner', on='displayName')\n",
    "    df = df.drop(columns = {'position_y', 'nflId_y'})\n",
    "    df = df.rename(columns = {'position_x':'position', 'nflId_x': 'nflId'})\n",
    "    \n",
    "    return df"
   ]
  },
  {
   "cell_type": "code",
   "execution_count": null,
   "metadata": {},
   "outputs": [],
   "source": [
    "df = merge_data()"
   ]
  },
  {
   "cell_type": "code",
   "execution_count": null,
   "metadata": {},
   "outputs": [],
   "source": [
    "df = convert_event_col(df)\n",
    "df.head()"
   ]
  },
  {
   "cell_type": "code",
   "execution_count": null,
   "metadata": {},
   "outputs": [],
   "source": [
    "df.event.value_counts()"
   ]
  },
  {
   "cell_type": "code",
   "execution_count": null,
   "metadata": {},
   "outputs": [],
   "source": []
  }
 ],
 "metadata": {
  "kernelspec": {
   "display_name": "Python 3",
   "language": "python",
   "name": "python3"
  }
 },
 "nbformat": 4,
 "nbformat_minor": 4
}
