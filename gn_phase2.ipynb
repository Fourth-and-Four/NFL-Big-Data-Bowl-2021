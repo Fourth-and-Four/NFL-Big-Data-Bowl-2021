{
 "cells": [
  {
   "cell_type": "code",
   "execution_count": 1,
   "metadata": {},
   "outputs": [
    {
     "name": "stdout",
     "output_type": "stream",
     "text": [
      "Acquire.py Loaded Successfully\n",
      "Prep.py Loaded Successfully\n"
     ]
    }
   ],
   "source": [
    "import pandas as pd\n",
    "import numpy as np\n",
    "import os\n",
    "import seaborn as sns\n",
    "from math import radians\n",
    "\n",
    "import matplotlib.pyplot as plt\n",
    "\n",
    "\n",
    "import prep_plays"
   ]
  },
  {
   "cell_type": "markdown",
   "metadata": {},
   "source": [
    "Can we figure out the distance between the nearest defender and the intended reciever?\n",
    "- Steps to go about solving this problem\n",
    "    - merging play.csv to week{number}.csv\n",
    "        - play id is only unique to game id, can concat both numbers to create a unique number\n",
    "    - using play description to find the intended receiver\n",
    "        - will be the second name in the list of names\n",
    "        - given as first initial and last name\n",
    "    - extract the name\n",
    "    - match the name given the play id\n",
    "        - the week{number}.csv gives both first and last name\n",
    "    - out of all players involved in the play, who is the closest defender"
   ]
  },
  {
   "cell_type": "markdown",
   "metadata": {
    "heading_collapsed": true
   },
   "source": [
    "# Creating a function for Plays and Weeks CSV"
   ]
  },
  {
   "cell_type": "markdown",
   "metadata": {
    "heading_collapsed": true,
    "hidden": true
   },
   "source": [
    "## Function for combining week(number).csv and plays data"
   ]
  },
  {
   "cell_type": "code",
   "execution_count": 2,
   "metadata": {
    "hidden": true
   },
   "outputs": [
    {
     "name": "stdout",
     "output_type": "stream",
     "text": [
      "1\n",
      "2\n",
      "3\n",
      "4\n",
      "5\n",
      "6\n",
      "7\n",
      "8\n",
      "9\n",
      "10\n",
      "11\n",
      "12\n",
      "13\n",
      "14\n",
      "15\n",
      "16\n",
      "17\n"
     ]
    }
   ],
   "source": [
    "#this function filters out the data to where the only observation\n",
    "#will be the 'pass_forward' event\n",
    "prep_plays.filter_nfl_weeks()"
   ]
  },
  {
   "cell_type": "code",
   "execution_count": 2,
   "metadata": {
    "hidden": true
   },
   "outputs": [
    {
     "name": "stdout",
     "output_type": "stream",
     "text": [
      "1\n",
      "2\n",
      "3\n",
      "4\n",
      "5\n",
      "6\n",
      "7\n",
      "8\n",
      "9\n",
      "10\n",
      "11\n",
      "12\n",
      "13\n",
      "14\n",
      "15\n",
      "16\n",
      "17\n"
     ]
    }
   ],
   "source": [
    "#this function creates the shortest distance from the receiver \n",
    "#along with additional information\n",
    "df = prep_plays.combine_all_weeks_and_plays()"
   ]
  },
  {
   "cell_type": "code",
   "execution_count": 3,
   "metadata": {
    "hidden": true
   },
   "outputs": [],
   "source": [
    "df.to_csv('final.csv')"
   ]
  },
  {
   "cell_type": "code",
   "execution_count": 9,
   "metadata": {
    "hidden": true
   },
   "outputs": [],
   "source": [
    "df = pd.read_csv('final.csv', index_col = [0])"
   ]
  },
  {
   "cell_type": "markdown",
   "metadata": {
    "hidden": true
   },
   "source": [
    "## Initial exploration into \"nulls\""
   ]
  },
  {
   "cell_type": "markdown",
   "metadata": {
    "hidden": true
   },
   "source": [
    "The original dataframe had a little over 17,000 rows so we lost roughly 200 data points"
   ]
  },
  {
   "cell_type": "markdown",
   "metadata": {
    "hidden": true
   },
   "source": [
    "Some receivers are unlabeled and have created \"null values\""
   ]
  },
  {
   "cell_type": "code",
   "execution_count": 25,
   "metadata": {
    "hidden": true
   },
   "outputs": [
    {
     "data": {
      "text/html": [
       "<div>\n",
       "<style scoped>\n",
       "    .dataframe tbody tr th:only-of-type {\n",
       "        vertical-align: middle;\n",
       "    }\n",
       "\n",
       "    .dataframe tbody tr th {\n",
       "        vertical-align: top;\n",
       "    }\n",
       "\n",
       "    .dataframe thead th {\n",
       "        text-align: right;\n",
       "    }\n",
       "</style>\n",
       "<table border=\"1\" class=\"dataframe\">\n",
       "  <thead>\n",
       "    <tr style=\"text-align: right;\">\n",
       "      <th></th>\n",
       "      <th>playDescription</th>\n",
       "      <th>quarter</th>\n",
       "      <th>down</th>\n",
       "      <th>yardsToGo</th>\n",
       "      <th>team_by_comp_yds</th>\n",
       "      <th>defendersInTheBox</th>\n",
       "      <th>numberOfPassRushers</th>\n",
       "      <th>QB_under_pressure</th>\n",
       "      <th>gameClock</th>\n",
       "      <th>absoluteYardlineNumber</th>\n",
       "      <th>...</th>\n",
       "      <th>four_three</th>\n",
       "      <th>three_four</th>\n",
       "      <th>nickel</th>\n",
       "      <th>dime</th>\n",
       "      <th>playid</th>\n",
       "      <th>closest_dist</th>\n",
       "      <th>closest_x</th>\n",
       "      <th>closest_y</th>\n",
       "      <th>defender_receiver</th>\n",
       "      <th>week</th>\n",
       "    </tr>\n",
       "  </thead>\n",
       "  <tbody>\n",
       "    <tr>\n",
       "      <th>0</th>\n",
       "      <td>(15:00) M.Ryan pass short right to J.Jones pus...</td>\n",
       "      <td>1</td>\n",
       "      <td>1</td>\n",
       "      <td>15</td>\n",
       "      <td>3</td>\n",
       "      <td>7.0</td>\n",
       "      <td>4.0</td>\n",
       "      <td>0.0</td>\n",
       "      <td>15:00:00</td>\n",
       "      <td>90.0</td>\n",
       "      <td>...</td>\n",
       "      <td>0</td>\n",
       "      <td>0</td>\n",
       "      <td>1</td>\n",
       "      <td>0</td>\n",
       "      <td>201809060075</td>\n",
       "      <td>4.160048</td>\n",
       "      <td>76.53</td>\n",
       "      <td>44.93</td>\n",
       "      <td>Jalen Mills</td>\n",
       "      <td>1</td>\n",
       "    </tr>\n",
       "    <tr>\n",
       "      <th>1</th>\n",
       "      <td>(13:10) M.Ryan pass incomplete short right to ...</td>\n",
       "      <td>1</td>\n",
       "      <td>1</td>\n",
       "      <td>10</td>\n",
       "      <td>3</td>\n",
       "      <td>7.0</td>\n",
       "      <td>4.0</td>\n",
       "      <td>0.0</td>\n",
       "      <td>13:10:00</td>\n",
       "      <td>49.0</td>\n",
       "      <td>...</td>\n",
       "      <td>0</td>\n",
       "      <td>0</td>\n",
       "      <td>1</td>\n",
       "      <td>0</td>\n",
       "      <td>2018090600146</td>\n",
       "      <td>4.243230</td>\n",
       "      <td>46.18</td>\n",
       "      <td>41.10</td>\n",
       "      <td>Malcolm Jenkins</td>\n",
       "      <td>1</td>\n",
       "    </tr>\n",
       "    <tr>\n",
       "      <th>2</th>\n",
       "      <td>(13:05) (Shotgun) M.Ryan pass incomplete short...</td>\n",
       "      <td>1</td>\n",
       "      <td>2</td>\n",
       "      <td>10</td>\n",
       "      <td>3</td>\n",
       "      <td>6.0</td>\n",
       "      <td>4.0</td>\n",
       "      <td>0.0</td>\n",
       "      <td>13:05:00</td>\n",
       "      <td>49.0</td>\n",
       "      <td>...</td>\n",
       "      <td>0</td>\n",
       "      <td>0</td>\n",
       "      <td>1</td>\n",
       "      <td>0</td>\n",
       "      <td>2018090600168</td>\n",
       "      <td>5.338352</td>\n",
       "      <td>46.59</td>\n",
       "      <td>12.67</td>\n",
       "      <td>Sidney Jones</td>\n",
       "      <td>1</td>\n",
       "    </tr>\n",
       "    <tr>\n",
       "      <th>3</th>\n",
       "      <td>(13:01) (Shotgun) M.Ryan pass deep left to J.J...</td>\n",
       "      <td>1</td>\n",
       "      <td>3</td>\n",
       "      <td>10</td>\n",
       "      <td>3</td>\n",
       "      <td>6.0</td>\n",
       "      <td>5.0</td>\n",
       "      <td>1.0</td>\n",
       "      <td>13:01:00</td>\n",
       "      <td>49.0</td>\n",
       "      <td>...</td>\n",
       "      <td>0</td>\n",
       "      <td>0</td>\n",
       "      <td>0</td>\n",
       "      <td>1</td>\n",
       "      <td>2018090600190</td>\n",
       "      <td>4.243218</td>\n",
       "      <td>39.77</td>\n",
       "      <td>22.27</td>\n",
       "      <td>Malcolm Jenkins</td>\n",
       "      <td>1</td>\n",
       "    </tr>\n",
       "    <tr>\n",
       "      <th>4</th>\n",
       "      <td>(10:59) (Shotgun) M.Ryan pass incomplete short...</td>\n",
       "      <td>1</td>\n",
       "      <td>3</td>\n",
       "      <td>1</td>\n",
       "      <td>3</td>\n",
       "      <td>8.0</td>\n",
       "      <td>6.0</td>\n",
       "      <td>0.0</td>\n",
       "      <td>10:59:00</td>\n",
       "      <td>11.0</td>\n",
       "      <td>...</td>\n",
       "      <td>0</td>\n",
       "      <td>0</td>\n",
       "      <td>0</td>\n",
       "      <td>0</td>\n",
       "      <td>2018090600256</td>\n",
       "      <td>2.124382</td>\n",
       "      <td>8.20</td>\n",
       "      <td>33.31</td>\n",
       "      <td>Nate Gerry</td>\n",
       "      <td>1</td>\n",
       "    </tr>\n",
       "    <tr>\n",
       "      <th>...</th>\n",
       "      <td>...</td>\n",
       "      <td>...</td>\n",
       "      <td>...</td>\n",
       "      <td>...</td>\n",
       "      <td>...</td>\n",
       "      <td>...</td>\n",
       "      <td>...</td>\n",
       "      <td>...</td>\n",
       "      <td>...</td>\n",
       "      <td>...</td>\n",
       "      <td>...</td>\n",
       "      <td>...</td>\n",
       "      <td>...</td>\n",
       "      <td>...</td>\n",
       "      <td>...</td>\n",
       "      <td>...</td>\n",
       "      <td>...</td>\n",
       "      <td>...</td>\n",
       "      <td>...</td>\n",
       "      <td>...</td>\n",
       "      <td>...</td>\n",
       "    </tr>\n",
       "    <tr>\n",
       "      <th>16820</th>\n",
       "      <td>(2:19) (Shotgun) P.Rivers pass short right to ...</td>\n",
       "      <td>4</td>\n",
       "      <td>2</td>\n",
       "      <td>2</td>\n",
       "      <td>19</td>\n",
       "      <td>6.0</td>\n",
       "      <td>4.0</td>\n",
       "      <td>0.0</td>\n",
       "      <td>02:19:00</td>\n",
       "      <td>77.0</td>\n",
       "      <td>...</td>\n",
       "      <td>0</td>\n",
       "      <td>0</td>\n",
       "      <td>1</td>\n",
       "      <td>0</td>\n",
       "      <td>20181222013842</td>\n",
       "      <td>4.763297</td>\n",
       "      <td>70.56</td>\n",
       "      <td>36.45</td>\n",
       "      <td>Brandon Carr</td>\n",
       "      <td>16</td>\n",
       "    </tr>\n",
       "    <tr>\n",
       "      <th>16821</th>\n",
       "      <td>(2:00) (Shotgun) P.Rivers pass short left to K...</td>\n",
       "      <td>4</td>\n",
       "      <td>1</td>\n",
       "      <td>10</td>\n",
       "      <td>19</td>\n",
       "      <td>4.0</td>\n",
       "      <td>5.0</td>\n",
       "      <td>0.0</td>\n",
       "      <td>02:00:00</td>\n",
       "      <td>70.0</td>\n",
       "      <td>...</td>\n",
       "      <td>0</td>\n",
       "      <td>0</td>\n",
       "      <td>0</td>\n",
       "      <td>1</td>\n",
       "      <td>20181222013884</td>\n",
       "      <td>2.076174</td>\n",
       "      <td>56.12</td>\n",
       "      <td>11.13</td>\n",
       "      <td>Jimmy Smith</td>\n",
       "      <td>16</td>\n",
       "    </tr>\n",
       "    <tr>\n",
       "      <th>16822</th>\n",
       "      <td>(1:41) (Shotgun) P.Rivers pass incomplete shor...</td>\n",
       "      <td>4</td>\n",
       "      <td>1</td>\n",
       "      <td>10</td>\n",
       "      <td>19</td>\n",
       "      <td>5.0</td>\n",
       "      <td>5.0</td>\n",
       "      <td>0.0</td>\n",
       "      <td>01:41:00</td>\n",
       "      <td>53.0</td>\n",
       "      <td>...</td>\n",
       "      <td>0</td>\n",
       "      <td>0</td>\n",
       "      <td>0</td>\n",
       "      <td>1</td>\n",
       "      <td>20181222013909</td>\n",
       "      <td>0.000000</td>\n",
       "      <td>0.00</td>\n",
       "      <td>0.00</td>\n",
       "      <td>unknown</td>\n",
       "      <td>16</td>\n",
       "    </tr>\n",
       "    <tr>\n",
       "      <th>16823</th>\n",
       "      <td>(1:37) (Shotgun) P.Rivers pass incomplete deep...</td>\n",
       "      <td>4</td>\n",
       "      <td>2</td>\n",
       "      <td>10</td>\n",
       "      <td>19</td>\n",
       "      <td>4.0</td>\n",
       "      <td>4.0</td>\n",
       "      <td>0.0</td>\n",
       "      <td>01:37:00</td>\n",
       "      <td>53.0</td>\n",
       "      <td>...</td>\n",
       "      <td>0</td>\n",
       "      <td>0</td>\n",
       "      <td>0</td>\n",
       "      <td>1</td>\n",
       "      <td>20181222013931</td>\n",
       "      <td>2.741678</td>\n",
       "      <td>42.50</td>\n",
       "      <td>12.68</td>\n",
       "      <td>Brandon Carr</td>\n",
       "      <td>16</td>\n",
       "    </tr>\n",
       "    <tr>\n",
       "      <th>16824</th>\n",
       "      <td>(1:31) (Shotgun) P.Rivers pass deep middle int...</td>\n",
       "      <td>4</td>\n",
       "      <td>3</td>\n",
       "      <td>10</td>\n",
       "      <td>19</td>\n",
       "      <td>6.0</td>\n",
       "      <td>4.0</td>\n",
       "      <td>0.0</td>\n",
       "      <td>01:31:00</td>\n",
       "      <td>53.0</td>\n",
       "      <td>...</td>\n",
       "      <td>0</td>\n",
       "      <td>0</td>\n",
       "      <td>0</td>\n",
       "      <td>1</td>\n",
       "      <td>20181222013953</td>\n",
       "      <td>1.352812</td>\n",
       "      <td>35.59</td>\n",
       "      <td>40.24</td>\n",
       "      <td>Marlon Humphrey</td>\n",
       "      <td>16</td>\n",
       "    </tr>\n",
       "  </tbody>\n",
       "</table>\n",
       "<p>16825 rows × 36 columns</p>\n",
       "</div>"
      ],
      "text/plain": [
       "                                         playDescription  quarter  down  \\\n",
       "0      (15:00) M.Ryan pass short right to J.Jones pus...        1     1   \n",
       "1      (13:10) M.Ryan pass incomplete short right to ...        1     1   \n",
       "2      (13:05) (Shotgun) M.Ryan pass incomplete short...        1     2   \n",
       "3      (13:01) (Shotgun) M.Ryan pass deep left to J.J...        1     3   \n",
       "4      (10:59) (Shotgun) M.Ryan pass incomplete short...        1     3   \n",
       "...                                                  ...      ...   ...   \n",
       "16820  (2:19) (Shotgun) P.Rivers pass short right to ...        4     2   \n",
       "16821  (2:00) (Shotgun) P.Rivers pass short left to K...        4     1   \n",
       "16822  (1:41) (Shotgun) P.Rivers pass incomplete shor...        4     1   \n",
       "16823  (1:37) (Shotgun) P.Rivers pass incomplete deep...        4     2   \n",
       "16824  (1:31) (Shotgun) P.Rivers pass deep middle int...        4     3   \n",
       "\n",
       "       yardsToGo  team_by_comp_yds  defendersInTheBox  numberOfPassRushers  \\\n",
       "0             15                 3                7.0                  4.0   \n",
       "1             10                 3                7.0                  4.0   \n",
       "2             10                 3                6.0                  4.0   \n",
       "3             10                 3                6.0                  5.0   \n",
       "4              1                 3                8.0                  6.0   \n",
       "...          ...               ...                ...                  ...   \n",
       "16820          2                19                6.0                  4.0   \n",
       "16821         10                19                4.0                  5.0   \n",
       "16822         10                19                5.0                  5.0   \n",
       "16823         10                19                4.0                  4.0   \n",
       "16824         10                19                6.0                  4.0   \n",
       "\n",
       "       QB_under_pressure gameClock  absoluteYardlineNumber  ...  four_three  \\\n",
       "0                    0.0  15:00:00                    90.0  ...           0   \n",
       "1                    0.0  13:10:00                    49.0  ...           0   \n",
       "2                    0.0  13:05:00                    49.0  ...           0   \n",
       "3                    1.0  13:01:00                    49.0  ...           0   \n",
       "4                    0.0  10:59:00                    11.0  ...           0   \n",
       "...                  ...       ...                     ...  ...         ...   \n",
       "16820                0.0  02:19:00                    77.0  ...           0   \n",
       "16821                0.0  02:00:00                    70.0  ...           0   \n",
       "16822                0.0  01:41:00                    53.0  ...           0   \n",
       "16823                0.0  01:37:00                    53.0  ...           0   \n",
       "16824                0.0  01:31:00                    53.0  ...           0   \n",
       "\n",
       "       three_four  nickel  dime          playid  closest_dist  closest_x  \\\n",
       "0               0       1     0    201809060075      4.160048      76.53   \n",
       "1               0       1     0   2018090600146      4.243230      46.18   \n",
       "2               0       1     0   2018090600168      5.338352      46.59   \n",
       "3               0       0     1   2018090600190      4.243218      39.77   \n",
       "4               0       0     0   2018090600256      2.124382       8.20   \n",
       "...           ...     ...   ...             ...           ...        ...   \n",
       "16820           0       1     0  20181222013842      4.763297      70.56   \n",
       "16821           0       0     1  20181222013884      2.076174      56.12   \n",
       "16822           0       0     1  20181222013909      0.000000       0.00   \n",
       "16823           0       0     1  20181222013931      2.741678      42.50   \n",
       "16824           0       0     1  20181222013953      1.352812      35.59   \n",
       "\n",
       "       closest_y  defender_receiver  week  \n",
       "0          44.93        Jalen Mills     1  \n",
       "1          41.10    Malcolm Jenkins     1  \n",
       "2          12.67       Sidney Jones     1  \n",
       "3          22.27    Malcolm Jenkins     1  \n",
       "4          33.31         Nate Gerry     1  \n",
       "...          ...                ...   ...  \n",
       "16820      36.45       Brandon Carr    16  \n",
       "16821      11.13        Jimmy Smith    16  \n",
       "16822       0.00            unknown    16  \n",
       "16823      12.68       Brandon Carr    16  \n",
       "16824      40.24    Marlon Humphrey    16  \n",
       "\n",
       "[16825 rows x 36 columns]"
      ]
     },
     "execution_count": 25,
     "metadata": {},
     "output_type": "execute_result"
    }
   ],
   "source": [
    "df"
   ]
  },
  {
   "cell_type": "code",
   "execution_count": 26,
   "metadata": {
    "hidden": true
   },
   "outputs": [
    {
     "data": {
      "text/plain": [
       "0.000000      811\n",
       "100.000000      7\n",
       "2.015564        3\n",
       "1.212642        3\n",
       "1.144945        3\n",
       "             ... \n",
       "2.344781        1\n",
       "0.598415        1\n",
       "4.673382        1\n",
       "1.894466        1\n",
       "1.811353        1\n",
       "Name: closest_dist, Length: 15760, dtype: int64"
      ]
     },
     "execution_count": 26,
     "metadata": {},
     "output_type": "execute_result"
    }
   ],
   "source": [
    "df.closest_dist.value_counts()"
   ]
  },
  {
   "cell_type": "code",
   "execution_count": 50,
   "metadata": {
    "hidden": true
   },
   "outputs": [
    {
     "data": {
      "text/html": [
       "<div>\n",
       "<style scoped>\n",
       "    .dataframe tbody tr th:only-of-type {\n",
       "        vertical-align: middle;\n",
       "    }\n",
       "\n",
       "    .dataframe tbody tr th {\n",
       "        vertical-align: top;\n",
       "    }\n",
       "\n",
       "    .dataframe thead th {\n",
       "        text-align: right;\n",
       "    }\n",
       "</style>\n",
       "<table border=\"1\" class=\"dataframe\">\n",
       "  <thead>\n",
       "    <tr style=\"text-align: right;\">\n",
       "      <th></th>\n",
       "      <th>playDescription</th>\n",
       "      <th>quarter</th>\n",
       "      <th>down</th>\n",
       "      <th>yardsToGo</th>\n",
       "      <th>team_by_comp_yds</th>\n",
       "      <th>defendersInTheBox</th>\n",
       "      <th>numberOfPassRushers</th>\n",
       "      <th>QB_under_pressure</th>\n",
       "      <th>gameClock</th>\n",
       "      <th>absoluteYardlineNumber</th>\n",
       "      <th>...</th>\n",
       "      <th>four_three</th>\n",
       "      <th>three_four</th>\n",
       "      <th>nickel</th>\n",
       "      <th>dime</th>\n",
       "      <th>playid</th>\n",
       "      <th>closest_dist</th>\n",
       "      <th>closest_x</th>\n",
       "      <th>closest_y</th>\n",
       "      <th>defender_receiver</th>\n",
       "      <th>week</th>\n",
       "    </tr>\n",
       "  </thead>\n",
       "  <tbody>\n",
       "    <tr>\n",
       "      <th>2067</th>\n",
       "      <td>(5:30) (Shotgun) T.Taylor pass short right to ...</td>\n",
       "      <td>2</td>\n",
       "      <td>3</td>\n",
       "      <td>12</td>\n",
       "      <td>11</td>\n",
       "      <td>5.0</td>\n",
       "      <td>4.0</td>\n",
       "      <td>0.0</td>\n",
       "      <td>05:30:00</td>\n",
       "      <td>71.0</td>\n",
       "      <td>...</td>\n",
       "      <td>0</td>\n",
       "      <td>0</td>\n",
       "      <td>0</td>\n",
       "      <td>1</td>\n",
       "      <td>20180920001539</td>\n",
       "      <td>100.0</td>\n",
       "      <td>0.0</td>\n",
       "      <td>0.0</td>\n",
       "      <td>Jamal Adams</td>\n",
       "      <td>3</td>\n",
       "    </tr>\n",
       "    <tr>\n",
       "      <th>2480</th>\n",
       "      <td>(5:43) (Shotgun) P.Mahomes pass incomplete dee...</td>\n",
       "      <td>2</td>\n",
       "      <td>1</td>\n",
       "      <td>10</td>\n",
       "      <td>4</td>\n",
       "      <td>7.0</td>\n",
       "      <td>5.0</td>\n",
       "      <td>0.0</td>\n",
       "      <td>05:43:00</td>\n",
       "      <td>49.0</td>\n",
       "      <td>...</td>\n",
       "      <td>0</td>\n",
       "      <td>0</td>\n",
       "      <td>1</td>\n",
       "      <td>0</td>\n",
       "      <td>20180923051553</td>\n",
       "      <td>100.0</td>\n",
       "      <td>0.0</td>\n",
       "      <td>0.0</td>\n",
       "      <td>Kendall Fuller</td>\n",
       "      <td>3</td>\n",
       "    </tr>\n",
       "    <tr>\n",
       "      <th>3074</th>\n",
       "      <td>(2:21) (Shotgun) R.Fitzpatrick pass deep left ...</td>\n",
       "      <td>2</td>\n",
       "      <td>1</td>\n",
       "      <td>10</td>\n",
       "      <td>1</td>\n",
       "      <td>5.0</td>\n",
       "      <td>4.0</td>\n",
       "      <td>0.0</td>\n",
       "      <td>02:21:00</td>\n",
       "      <td>54.0</td>\n",
       "      <td>...</td>\n",
       "      <td>0</td>\n",
       "      <td>0</td>\n",
       "      <td>1</td>\n",
       "      <td>0</td>\n",
       "      <td>20180924001867</td>\n",
       "      <td>100.0</td>\n",
       "      <td>0.0</td>\n",
       "      <td>0.0</td>\n",
       "      <td>Artie Burns</td>\n",
       "      <td>3</td>\n",
       "    </tr>\n",
       "    <tr>\n",
       "      <th>6222</th>\n",
       "      <td>(3:27) T.Brady pass short right to J.Develin t...</td>\n",
       "      <td>2</td>\n",
       "      <td>1</td>\n",
       "      <td>1</td>\n",
       "      <td>9</td>\n",
       "      <td>8.0</td>\n",
       "      <td>6.0</td>\n",
       "      <td>1.0</td>\n",
       "      <td>03:27:00</td>\n",
       "      <td>109.0</td>\n",
       "      <td>...</td>\n",
       "      <td>0</td>\n",
       "      <td>0</td>\n",
       "      <td>0</td>\n",
       "      <td>0</td>\n",
       "      <td>20181014121559</td>\n",
       "      <td>100.0</td>\n",
       "      <td>0.0</td>\n",
       "      <td>0.0</td>\n",
       "      <td>Josh Shaw</td>\n",
       "      <td>6</td>\n",
       "    </tr>\n",
       "    <tr>\n",
       "      <th>8593</th>\n",
       "      <td>(10:42) (Shotgun) K.Cousins pass deep right in...</td>\n",
       "      <td>2</td>\n",
       "      <td>1</td>\n",
       "      <td>10</td>\n",
       "      <td>14</td>\n",
       "      <td>6.0</td>\n",
       "      <td>4.0</td>\n",
       "      <td>0.0</td>\n",
       "      <td>10:42:00</td>\n",
       "      <td>59.0</td>\n",
       "      <td>...</td>\n",
       "      <td>0</td>\n",
       "      <td>0</td>\n",
       "      <td>1</td>\n",
       "      <td>0</td>\n",
       "      <td>20181104051062</td>\n",
       "      <td>100.0</td>\n",
       "      <td>0.0</td>\n",
       "      <td>0.0</td>\n",
       "      <td>Darius Slay</td>\n",
       "      <td>9</td>\n",
       "    </tr>\n",
       "    <tr>\n",
       "      <th>11229</th>\n",
       "      <td>(5:37) (Shotgun) L.Jackson pass short middle i...</td>\n",
       "      <td>2</td>\n",
       "      <td>3</td>\n",
       "      <td>10</td>\n",
       "      <td>21</td>\n",
       "      <td>5.0</td>\n",
       "      <td>3.0</td>\n",
       "      <td>0.0</td>\n",
       "      <td>05:37:00</td>\n",
       "      <td>40.0</td>\n",
       "      <td>...</td>\n",
       "      <td>0</td>\n",
       "      <td>0</td>\n",
       "      <td>0</td>\n",
       "      <td>1</td>\n",
       "      <td>20181125001824</td>\n",
       "      <td>100.0</td>\n",
       "      <td>0.0</td>\n",
       "      <td>0.0</td>\n",
       "      <td>Tahir Whitehead</td>\n",
       "      <td>12</td>\n",
       "    </tr>\n",
       "    <tr>\n",
       "      <th>15161</th>\n",
       "      <td>(1:45) (Shotgun) M.Cassel pass short middle to...</td>\n",
       "      <td>4</td>\n",
       "      <td>1</td>\n",
       "      <td>10</td>\n",
       "      <td>20</td>\n",
       "      <td>4.0</td>\n",
       "      <td>4.0</td>\n",
       "      <td>0.0</td>\n",
       "      <td>01:45:00</td>\n",
       "      <td>80.0</td>\n",
       "      <td>...</td>\n",
       "      <td>0</td>\n",
       "      <td>0</td>\n",
       "      <td>1</td>\n",
       "      <td>0</td>\n",
       "      <td>20181223074434</td>\n",
       "      <td>100.0</td>\n",
       "      <td>0.0</td>\n",
       "      <td>0.0</td>\n",
       "      <td>Ben Gedeon</td>\n",
       "      <td>16</td>\n",
       "    </tr>\n",
       "  </tbody>\n",
       "</table>\n",
       "<p>7 rows × 36 columns</p>\n",
       "</div>"
      ],
      "text/plain": [
       "                                         playDescription  quarter  down  \\\n",
       "2067   (5:30) (Shotgun) T.Taylor pass short right to ...        2     3   \n",
       "2480   (5:43) (Shotgun) P.Mahomes pass incomplete dee...        2     1   \n",
       "3074   (2:21) (Shotgun) R.Fitzpatrick pass deep left ...        2     1   \n",
       "6222   (3:27) T.Brady pass short right to J.Develin t...        2     1   \n",
       "8593   (10:42) (Shotgun) K.Cousins pass deep right in...        2     1   \n",
       "11229  (5:37) (Shotgun) L.Jackson pass short middle i...        2     3   \n",
       "15161  (1:45) (Shotgun) M.Cassel pass short middle to...        4     1   \n",
       "\n",
       "       yardsToGo  team_by_comp_yds  defendersInTheBox  numberOfPassRushers  \\\n",
       "2067          12                11                5.0                  4.0   \n",
       "2480          10                 4                7.0                  5.0   \n",
       "3074          10                 1                5.0                  4.0   \n",
       "6222           1                 9                8.0                  6.0   \n",
       "8593          10                14                6.0                  4.0   \n",
       "11229         10                21                5.0                  3.0   \n",
       "15161         10                20                4.0                  4.0   \n",
       "\n",
       "       QB_under_pressure gameClock  absoluteYardlineNumber  ...  four_three  \\\n",
       "2067                 0.0  05:30:00                    71.0  ...           0   \n",
       "2480                 0.0  05:43:00                    49.0  ...           0   \n",
       "3074                 0.0  02:21:00                    54.0  ...           0   \n",
       "6222                 1.0  03:27:00                   109.0  ...           0   \n",
       "8593                 0.0  10:42:00                    59.0  ...           0   \n",
       "11229                0.0  05:37:00                    40.0  ...           0   \n",
       "15161                0.0  01:45:00                    80.0  ...           0   \n",
       "\n",
       "       three_four  nickel  dime          playid  closest_dist  closest_x  \\\n",
       "2067            0       0     1  20180920001539         100.0        0.0   \n",
       "2480            0       1     0  20180923051553         100.0        0.0   \n",
       "3074            0       1     0  20180924001867         100.0        0.0   \n",
       "6222            0       0     0  20181014121559         100.0        0.0   \n",
       "8593            0       1     0  20181104051062         100.0        0.0   \n",
       "11229           0       0     1  20181125001824         100.0        0.0   \n",
       "15161           0       1     0  20181223074434         100.0        0.0   \n",
       "\n",
       "       closest_y  defender_receiver  week  \n",
       "2067         0.0        Jamal Adams     3  \n",
       "2480         0.0     Kendall Fuller     3  \n",
       "3074         0.0        Artie Burns     3  \n",
       "6222         0.0          Josh Shaw     6  \n",
       "8593         0.0        Darius Slay     9  \n",
       "11229        0.0    Tahir Whitehead    12  \n",
       "15161        0.0         Ben Gedeon    16  \n",
       "\n",
       "[7 rows x 36 columns]"
      ]
     },
     "execution_count": 50,
     "metadata": {},
     "output_type": "execute_result"
    }
   ],
   "source": [
    "df[df.closest_dist == 100]"
   ]
  },
  {
   "cell_type": "code",
   "execution_count": 10,
   "metadata": {
    "hidden": true
   },
   "outputs": [
    {
     "data": {
      "text/plain": [
       "1    541\n",
       "0    270\n",
       "Name: pass_stopped, dtype: int64"
      ]
     },
     "execution_count": 10,
     "metadata": {},
     "output_type": "execute_result"
    }
   ],
   "source": [
    "# a little over 800 \"null values\"\n",
    "# we can leave them as is or fill them in with the mean/median\n",
    "# this needs to be done after we train, validate and test split\n",
    "df[df.closest_dist == 0].pass_stopped.value_counts()"
   ]
  },
  {
   "cell_type": "code",
   "execution_count": 11,
   "metadata": {
    "hidden": true
   },
   "outputs": [
    {
     "data": {
      "text/plain": [
       "0    10965\n",
       "1     5860\n",
       "Name: pass_stopped, dtype: int64"
      ]
     },
     "execution_count": 11,
     "metadata": {},
     "output_type": "execute_result"
    }
   ],
   "source": [
    "df.pass_stopped.value_counts()"
   ]
  },
  {
   "cell_type": "code",
   "execution_count": 24,
   "metadata": {
    "hidden": true
   },
   "outputs": [
    {
     "data": {
      "text/plain": [
       "100.0"
      ]
     },
     "execution_count": 24,
     "metadata": {},
     "output_type": "execute_result"
    }
   ],
   "source": [
    "df.closest_dist.max()"
   ]
  },
  {
   "cell_type": "code",
   "execution_count": 12,
   "metadata": {
    "hidden": true
   },
   "outputs": [
    {
     "data": {
      "text/plain": [
       "4.105335629896512"
      ]
     },
     "execution_count": 12,
     "metadata": {},
     "output_type": "execute_result"
    }
   ],
   "source": [
    "df.closest_dist.mean()"
   ]
  },
  {
   "cell_type": "code",
   "execution_count": 13,
   "metadata": {
    "hidden": true
   },
   "outputs": [
    {
     "data": {
      "text/plain": [
       "3.446055716322645"
      ]
     },
     "execution_count": 13,
     "metadata": {},
     "output_type": "execute_result"
    }
   ],
   "source": [
    "df.closest_dist.median()"
   ]
  },
  {
   "cell_type": "code",
   "execution_count": 14,
   "metadata": {
    "hidden": true
   },
   "outputs": [
    {
     "data": {
      "text/plain": [
       "2.8057709586383397"
      ]
     },
     "execution_count": 14,
     "metadata": {},
     "output_type": "execute_result"
    }
   ],
   "source": [
    "df[df.pass_stopped == 1].closest_dist.mean()"
   ]
  },
  {
   "cell_type": "code",
   "execution_count": 16,
   "metadata": {
    "hidden": true
   },
   "outputs": [
    {
     "data": {
      "text/plain": [
       "1.982851482083313"
      ]
     },
     "execution_count": 16,
     "metadata": {},
     "output_type": "execute_result"
    }
   ],
   "source": [
    "df[df.pass_stopped == 1].closest_dist.median()"
   ]
  },
  {
   "cell_type": "code",
   "execution_count": 15,
   "metadata": {
    "hidden": true
   },
   "outputs": [
    {
     "data": {
      "text/plain": [
       "4.799859020099204"
      ]
     },
     "execution_count": 15,
     "metadata": {},
     "output_type": "execute_result"
    }
   ],
   "source": [
    "df[df.pass_stopped == 0].closest_dist.mean()"
   ]
  },
  {
   "cell_type": "code",
   "execution_count": 17,
   "metadata": {
    "hidden": true
   },
   "outputs": [
    {
     "data": {
      "text/plain": [
       "4.253339864153818"
      ]
     },
     "execution_count": 17,
     "metadata": {},
     "output_type": "execute_result"
    }
   ],
   "source": [
    "df[df.pass_stopped == 0].closest_dist.median()"
   ]
  },
  {
   "cell_type": "markdown",
   "metadata": {
    "hidden": true
   },
   "source": [
    "## Statistical testing"
   ]
  },
  {
   "cell_type": "code",
   "execution_count": 19,
   "metadata": {
    "hidden": true
   },
   "outputs": [],
   "source": [
    "from scipy import stats"
   ]
  },
  {
   "cell_type": "code",
   "execution_count": 57,
   "metadata": {
    "hidden": true
   },
   "outputs": [],
   "source": [
    "import seaborn as sns"
   ]
  },
  {
   "cell_type": "code",
   "execution_count": 20,
   "metadata": {
    "hidden": true
   },
   "outputs": [
    {
     "data": {
      "text/plain": [
       "1.2245540507524944e-261"
      ]
     },
     "execution_count": 20,
     "metadata": {},
     "output_type": "execute_result"
    }
   ],
   "source": [
    "pass_stopped = df[df.pass_stopped == 1]\n",
    "pass_completed = df[df.pass_stopped == 0]\n",
    "\n",
    "t, p = stats.ttest_ind(pass_stopped.closest_dist, pass_completed.closest_dist)\n",
    "p"
   ]
  },
  {
   "cell_type": "code",
   "execution_count": 23,
   "metadata": {
    "hidden": true
   },
   "outputs": [
    {
     "data": {
      "image/png": "[encoded data removed]",
      "text/plain": [
       "<Figure size 432x288 with 1 Axes>"
      ]
     },
     "metadata": {
      "needs_background": "light"
     },
     "output_type": "display_data"
    }
   ],
   "source": [
    "ax = df[df.pass_stopped == 1].closest_dist.plot.hist(label='time=one', alpha=.7)\n",
    "df[df.pass_stopped == 0].closest_dist.plot.hist(label='time=two',ax=ax, alpha=.7)\n",
    "ax.legend\n",
    "plt.show()"
   ]
  },
  {
   "cell_type": "code",
   "execution_count": 63,
   "metadata": {
    "hidden": true
   },
   "outputs": [
    {
     "data": {
      "text/html": [
       "<div>\n",
       "<style scoped>\n",
       "    .dataframe tbody tr th:only-of-type {\n",
       "        vertical-align: middle;\n",
       "    }\n",
       "\n",
       "    .dataframe tbody tr th {\n",
       "        vertical-align: top;\n",
       "    }\n",
       "\n",
       "    .dataframe thead th {\n",
       "        text-align: right;\n",
       "    }\n",
       "</style>\n",
       "<table border=\"1\" class=\"dataframe\">\n",
       "  <thead>\n",
       "    <tr style=\"text-align: right;\">\n",
       "      <th></th>\n",
       "      <th>playDescription</th>\n",
       "      <th>quarter</th>\n",
       "      <th>down</th>\n",
       "      <th>yardsToGo</th>\n",
       "      <th>team_by_comp_yds</th>\n",
       "      <th>defendersInTheBox</th>\n",
       "      <th>numberOfPassRushers</th>\n",
       "      <th>QB_under_pressure</th>\n",
       "      <th>gameClock</th>\n",
       "      <th>absoluteYardlineNumber</th>\n",
       "      <th>...</th>\n",
       "      <th>four_three</th>\n",
       "      <th>three_four</th>\n",
       "      <th>nickel</th>\n",
       "      <th>dime</th>\n",
       "      <th>playid</th>\n",
       "      <th>closest_dist</th>\n",
       "      <th>closest_x</th>\n",
       "      <th>closest_y</th>\n",
       "      <th>defender_receiver</th>\n",
       "      <th>week</th>\n",
       "    </tr>\n",
       "  </thead>\n",
       "  <tbody>\n",
       "    <tr>\n",
       "      <th>2067</th>\n",
       "      <td>(5:30) (Shotgun) T.Taylor pass short right to ...</td>\n",
       "      <td>2</td>\n",
       "      <td>3</td>\n",
       "      <td>12</td>\n",
       "      <td>11</td>\n",
       "      <td>5.0</td>\n",
       "      <td>4.0</td>\n",
       "      <td>0.0</td>\n",
       "      <td>05:30:00</td>\n",
       "      <td>71.0</td>\n",
       "      <td>...</td>\n",
       "      <td>0</td>\n",
       "      <td>0</td>\n",
       "      <td>0</td>\n",
       "      <td>1</td>\n",
       "      <td>20180920001539</td>\n",
       "      <td>100.0</td>\n",
       "      <td>0.0</td>\n",
       "      <td>0.0</td>\n",
       "      <td>Jamal Adams</td>\n",
       "      <td>3</td>\n",
       "    </tr>\n",
       "    <tr>\n",
       "      <th>2480</th>\n",
       "      <td>(5:43) (Shotgun) P.Mahomes pass incomplete dee...</td>\n",
       "      <td>2</td>\n",
       "      <td>1</td>\n",
       "      <td>10</td>\n",
       "      <td>4</td>\n",
       "      <td>7.0</td>\n",
       "      <td>5.0</td>\n",
       "      <td>0.0</td>\n",
       "      <td>05:43:00</td>\n",
       "      <td>49.0</td>\n",
       "      <td>...</td>\n",
       "      <td>0</td>\n",
       "      <td>0</td>\n",
       "      <td>1</td>\n",
       "      <td>0</td>\n",
       "      <td>20180923051553</td>\n",
       "      <td>100.0</td>\n",
       "      <td>0.0</td>\n",
       "      <td>0.0</td>\n",
       "      <td>Kendall Fuller</td>\n",
       "      <td>3</td>\n",
       "    </tr>\n",
       "    <tr>\n",
       "      <th>3074</th>\n",
       "      <td>(2:21) (Shotgun) R.Fitzpatrick pass deep left ...</td>\n",
       "      <td>2</td>\n",
       "      <td>1</td>\n",
       "      <td>10</td>\n",
       "      <td>1</td>\n",
       "      <td>5.0</td>\n",
       "      <td>4.0</td>\n",
       "      <td>0.0</td>\n",
       "      <td>02:21:00</td>\n",
       "      <td>54.0</td>\n",
       "      <td>...</td>\n",
       "      <td>0</td>\n",
       "      <td>0</td>\n",
       "      <td>1</td>\n",
       "      <td>0</td>\n",
       "      <td>20180924001867</td>\n",
       "      <td>100.0</td>\n",
       "      <td>0.0</td>\n",
       "      <td>0.0</td>\n",
       "      <td>Artie Burns</td>\n",
       "      <td>3</td>\n",
       "    </tr>\n",
       "    <tr>\n",
       "      <th>6222</th>\n",
       "      <td>(3:27) T.Brady pass short right to J.Develin t...</td>\n",
       "      <td>2</td>\n",
       "      <td>1</td>\n",
       "      <td>1</td>\n",
       "      <td>9</td>\n",
       "      <td>8.0</td>\n",
       "      <td>6.0</td>\n",
       "      <td>1.0</td>\n",
       "      <td>03:27:00</td>\n",
       "      <td>109.0</td>\n",
       "      <td>...</td>\n",
       "      <td>0</td>\n",
       "      <td>0</td>\n",
       "      <td>0</td>\n",
       "      <td>0</td>\n",
       "      <td>20181014121559</td>\n",
       "      <td>100.0</td>\n",
       "      <td>0.0</td>\n",
       "      <td>0.0</td>\n",
       "      <td>Josh Shaw</td>\n",
       "      <td>6</td>\n",
       "    </tr>\n",
       "    <tr>\n",
       "      <th>8593</th>\n",
       "      <td>(10:42) (Shotgun) K.Cousins pass deep right in...</td>\n",
       "      <td>2</td>\n",
       "      <td>1</td>\n",
       "      <td>10</td>\n",
       "      <td>14</td>\n",
       "      <td>6.0</td>\n",
       "      <td>4.0</td>\n",
       "      <td>0.0</td>\n",
       "      <td>10:42:00</td>\n",
       "      <td>59.0</td>\n",
       "      <td>...</td>\n",
       "      <td>0</td>\n",
       "      <td>0</td>\n",
       "      <td>1</td>\n",
       "      <td>0</td>\n",
       "      <td>20181104051062</td>\n",
       "      <td>100.0</td>\n",
       "      <td>0.0</td>\n",
       "      <td>0.0</td>\n",
       "      <td>Darius Slay</td>\n",
       "      <td>9</td>\n",
       "    </tr>\n",
       "    <tr>\n",
       "      <th>11229</th>\n",
       "      <td>(5:37) (Shotgun) L.Jackson pass short middle i...</td>\n",
       "      <td>2</td>\n",
       "      <td>3</td>\n",
       "      <td>10</td>\n",
       "      <td>21</td>\n",
       "      <td>5.0</td>\n",
       "      <td>3.0</td>\n",
       "      <td>0.0</td>\n",
       "      <td>05:37:00</td>\n",
       "      <td>40.0</td>\n",
       "      <td>...</td>\n",
       "      <td>0</td>\n",
       "      <td>0</td>\n",
       "      <td>0</td>\n",
       "      <td>1</td>\n",
       "      <td>20181125001824</td>\n",
       "      <td>100.0</td>\n",
       "      <td>0.0</td>\n",
       "      <td>0.0</td>\n",
       "      <td>Tahir Whitehead</td>\n",
       "      <td>12</td>\n",
       "    </tr>\n",
       "    <tr>\n",
       "      <th>15161</th>\n",
       "      <td>(1:45) (Shotgun) M.Cassel pass short middle to...</td>\n",
       "      <td>4</td>\n",
       "      <td>1</td>\n",
       "      <td>10</td>\n",
       "      <td>20</td>\n",
       "      <td>4.0</td>\n",
       "      <td>4.0</td>\n",
       "      <td>0.0</td>\n",
       "      <td>01:45:00</td>\n",
       "      <td>80.0</td>\n",
       "      <td>...</td>\n",
       "      <td>0</td>\n",
       "      <td>0</td>\n",
       "      <td>1</td>\n",
       "      <td>0</td>\n",
       "      <td>20181223074434</td>\n",
       "      <td>100.0</td>\n",
       "      <td>0.0</td>\n",
       "      <td>0.0</td>\n",
       "      <td>Ben Gedeon</td>\n",
       "      <td>16</td>\n",
       "    </tr>\n",
       "  </tbody>\n",
       "</table>\n",
       "<p>7 rows × 36 columns</p>\n",
       "</div>"
      ],
      "text/plain": [
       "                                         playDescription  quarter  down  \\\n",
       "2067   (5:30) (Shotgun) T.Taylor pass short right to ...        2     3   \n",
       "2480   (5:43) (Shotgun) P.Mahomes pass incomplete dee...        2     1   \n",
       "3074   (2:21) (Shotgun) R.Fitzpatrick pass deep left ...        2     1   \n",
       "6222   (3:27) T.Brady pass short right to J.Develin t...        2     1   \n",
       "8593   (10:42) (Shotgun) K.Cousins pass deep right in...        2     1   \n",
       "11229  (5:37) (Shotgun) L.Jackson pass short middle i...        2     3   \n",
       "15161  (1:45) (Shotgun) M.Cassel pass short middle to...        4     1   \n",
       "\n",
       "       yardsToGo  team_by_comp_yds  defendersInTheBox  numberOfPassRushers  \\\n",
       "2067          12                11                5.0                  4.0   \n",
       "2480          10                 4                7.0                  5.0   \n",
       "3074          10                 1                5.0                  4.0   \n",
       "6222           1                 9                8.0                  6.0   \n",
       "8593          10                14                6.0                  4.0   \n",
       "11229         10                21                5.0                  3.0   \n",
       "15161         10                20                4.0                  4.0   \n",
       "\n",
       "       QB_under_pressure gameClock  absoluteYardlineNumber  ...  four_three  \\\n",
       "2067                 0.0  05:30:00                    71.0  ...           0   \n",
       "2480                 0.0  05:43:00                    49.0  ...           0   \n",
       "3074                 0.0  02:21:00                    54.0  ...           0   \n",
       "6222                 1.0  03:27:00                   109.0  ...           0   \n",
       "8593                 0.0  10:42:00                    59.0  ...           0   \n",
       "11229                0.0  05:37:00                    40.0  ...           0   \n",
       "15161                0.0  01:45:00                    80.0  ...           0   \n",
       "\n",
       "       three_four  nickel  dime          playid  closest_dist  closest_x  \\\n",
       "2067            0       0     1  20180920001539         100.0        0.0   \n",
       "2480            0       1     0  20180923051553         100.0        0.0   \n",
       "3074            0       1     0  20180924001867         100.0        0.0   \n",
       "6222            0       0     0  20181014121559         100.0        0.0   \n",
       "8593            0       1     0  20181104051062         100.0        0.0   \n",
       "11229           0       0     1  20181125001824         100.0        0.0   \n",
       "15161           0       1     0  20181223074434         100.0        0.0   \n",
       "\n",
       "       closest_y  defender_receiver  week  \n",
       "2067         0.0        Jamal Adams     3  \n",
       "2480         0.0     Kendall Fuller     3  \n",
       "3074         0.0        Artie Burns     3  \n",
       "6222         0.0          Josh Shaw     6  \n",
       "8593         0.0        Darius Slay     9  \n",
       "11229        0.0    Tahir Whitehead    12  \n",
       "15161        0.0         Ben Gedeon    16  \n",
       "\n",
       "[7 rows x 36 columns]"
      ]
     },
     "execution_count": 63,
     "metadata": {},
     "output_type": "execute_result"
    }
   ],
   "source": [
    "df[df.closest_dist>50]"
   ]
  },
  {
   "cell_type": "code",
   "execution_count": 60,
   "metadata": {
    "hidden": true
   },
   "outputs": [],
   "source": [
    "ex = df[df.closest_dist < 50]\n",
    "\n",
    "sns.violinplot(ex.pass_stopped, ex.closest_dist)"
   ]
  },
  {
   "cell_type": "code",
   "execution_count": null,
   "metadata": {
    "hidden": true
   },
   "outputs": [],
   "source": []
  },
  {
   "cell_type": "code",
   "execution_count": null,
   "metadata": {
    "hidden": true
   },
   "outputs": [],
   "source": []
  },
  {
   "cell_type": "code",
   "execution_count": null,
   "metadata": {
    "hidden": true
   },
   "outputs": [],
   "source": []
  },
  {
   "cell_type": "markdown",
   "metadata": {
    "hidden": true
   },
   "source": [
    "## Functions for graphs % axis"
   ]
  },
  {
   "cell_type": "code",
   "execution_count": 21,
   "metadata": {
    "hidden": true
   },
   "outputs": [],
   "source": [
    "def format_y_tick(tick_value, position):\n",
    "    return '{:.0%}'.format(tick_value)\n",
    "\n",
    "def format_x_tick(tick_value, postion):\n",
    "    return '{:,}'.format(int(tick_value))"
   ]
  },
  {
   "cell_type": "code",
   "execution_count": null,
   "metadata": {
    "hidden": true
   },
   "outputs": [],
   "source": [
    "#example on how to use the code\n",
    "\n",
    "\n",
    "# fig, ax = plt.subplots(figsize = (9,5))\n",
    "\n",
    "# ax.scatter(df.ml_coffee, df.p_days_absent)\n",
    "# ax.set(\n",
    "#     xlabel = 'coffee consumption(mL)',\n",
    "#     ylabel = '% days absent',\n",
    "#     title = 'coffee consumption does not correlate with absences'\n",
    "# )\n",
    "# ax.yaxis.set_major_formatter(mpl.ticker.FuncFormatter(format_y_tick))\n",
    "# ax.xaxis.set_major_formatter(mpl.ticker.FuncFormatter(format_x_tick))\n",
    "# plt.show()"
   ]
  },
  {
   "cell_type": "markdown",
   "metadata": {
    "hidden": true
   },
   "source": [
    "## checking null values from combine week_and_plays function"
   ]
  },
  {
   "cell_type": "markdown",
   "metadata": {
    "hidden": true
   },
   "source": [
    "**From week 1, these plays have no information on them because of the following**\n",
    "these plays have no intended receiver(15)\n",
    "- 2018090600545\t\n",
    "- 20180906004366\n",
    "- 20180906004417\n",
    "- 20180909011330\n",
    "- 20180909003607\n",
    "- 20180909003702\n",
    "- 20180909073055\n",
    "- 20180909063808\n",
    "- 2018090909249\n",
    "- 2018090910477\n",
    "- 20180909122115\n",
    "- 20180909122519\t\n",
    "- 2018091000175\n",
    "- 20180910012575\t\n",
    "- 20180910013099\n",
    "\n",
    "these plays mislabeled the intended receiver\n",
    "- 20180909033485\n",
    "- 20180909034028\n",
    "- 20180909034072\n",
    "    - J.Smith(3)\n",
    "    - this was changed to J.Smith-Schuster because he gets more reception and is less of a loss\n",
    "\n",
    "- 20180909072787\n",
    "- 20180909073716\n",
    "    - J.O'Shaughnessy(2)\n",
    "    - labeled as None"
   ]
  },
  {
   "cell_type": "code",
   "execution_count": 51,
   "metadata": {
    "hidden": true
   },
   "outputs": [
    {
     "data": {
      "text/html": [
       "<div>\n",
       "<style scoped>\n",
       "    .dataframe tbody tr th:only-of-type {\n",
       "        vertical-align: middle;\n",
       "    }\n",
       "\n",
       "    .dataframe tbody tr th {\n",
       "        vertical-align: top;\n",
       "    }\n",
       "\n",
       "    .dataframe thead th {\n",
       "        text-align: right;\n",
       "    }\n",
       "</style>\n",
       "<table border=\"1\" class=\"dataframe\">\n",
       "  <thead>\n",
       "    <tr style=\"text-align: right;\">\n",
       "      <th></th>\n",
       "      <th>playDescription</th>\n",
       "      <th>quarter</th>\n",
       "      <th>down</th>\n",
       "      <th>yardsToGo</th>\n",
       "      <th>team_by_comp_yds</th>\n",
       "      <th>defendersInTheBox</th>\n",
       "      <th>numberOfPassRushers</th>\n",
       "      <th>QB_under_pressure</th>\n",
       "      <th>gameClock</th>\n",
       "      <th>absoluteYardlineNumber</th>\n",
       "      <th>...</th>\n",
       "      <th>four_three</th>\n",
       "      <th>three_four</th>\n",
       "      <th>nickel</th>\n",
       "      <th>dime</th>\n",
       "      <th>playid</th>\n",
       "      <th>closest_dist</th>\n",
       "      <th>closest_x</th>\n",
       "      <th>closest_y</th>\n",
       "      <th>defender_receiver</th>\n",
       "      <th>week</th>\n",
       "    </tr>\n",
       "  </thead>\n",
       "  <tbody>\n",
       "    <tr>\n",
       "      <th>0</th>\n",
       "      <td>(15:00) M.Ryan pass short right to J.Jones pus...</td>\n",
       "      <td>1</td>\n",
       "      <td>1</td>\n",
       "      <td>15</td>\n",
       "      <td>3</td>\n",
       "      <td>7.0</td>\n",
       "      <td>4.0</td>\n",
       "      <td>0.0</td>\n",
       "      <td>15:00:00</td>\n",
       "      <td>90.0</td>\n",
       "      <td>...</td>\n",
       "      <td>0</td>\n",
       "      <td>0</td>\n",
       "      <td>1</td>\n",
       "      <td>0</td>\n",
       "      <td>201809060075</td>\n",
       "      <td>4.160048</td>\n",
       "      <td>76.53</td>\n",
       "      <td>44.93</td>\n",
       "      <td>Jalen Mills</td>\n",
       "      <td>1</td>\n",
       "    </tr>\n",
       "    <tr>\n",
       "      <th>1</th>\n",
       "      <td>(13:10) M.Ryan pass incomplete short right to ...</td>\n",
       "      <td>1</td>\n",
       "      <td>1</td>\n",
       "      <td>10</td>\n",
       "      <td>3</td>\n",
       "      <td>7.0</td>\n",
       "      <td>4.0</td>\n",
       "      <td>0.0</td>\n",
       "      <td>13:10:00</td>\n",
       "      <td>49.0</td>\n",
       "      <td>...</td>\n",
       "      <td>0</td>\n",
       "      <td>0</td>\n",
       "      <td>1</td>\n",
       "      <td>0</td>\n",
       "      <td>2018090600146</td>\n",
       "      <td>4.243230</td>\n",
       "      <td>46.18</td>\n",
       "      <td>41.10</td>\n",
       "      <td>Malcolm Jenkins</td>\n",
       "      <td>1</td>\n",
       "    </tr>\n",
       "    <tr>\n",
       "      <th>2</th>\n",
       "      <td>(13:05) (Shotgun) M.Ryan pass incomplete short...</td>\n",
       "      <td>1</td>\n",
       "      <td>2</td>\n",
       "      <td>10</td>\n",
       "      <td>3</td>\n",
       "      <td>6.0</td>\n",
       "      <td>4.0</td>\n",
       "      <td>0.0</td>\n",
       "      <td>13:05:00</td>\n",
       "      <td>49.0</td>\n",
       "      <td>...</td>\n",
       "      <td>0</td>\n",
       "      <td>0</td>\n",
       "      <td>1</td>\n",
       "      <td>0</td>\n",
       "      <td>2018090600168</td>\n",
       "      <td>5.338352</td>\n",
       "      <td>46.59</td>\n",
       "      <td>12.67</td>\n",
       "      <td>Sidney Jones</td>\n",
       "      <td>1</td>\n",
       "    </tr>\n",
       "    <tr>\n",
       "      <th>3</th>\n",
       "      <td>(13:01) (Shotgun) M.Ryan pass deep left to J.J...</td>\n",
       "      <td>1</td>\n",
       "      <td>3</td>\n",
       "      <td>10</td>\n",
       "      <td>3</td>\n",
       "      <td>6.0</td>\n",
       "      <td>5.0</td>\n",
       "      <td>1.0</td>\n",
       "      <td>13:01:00</td>\n",
       "      <td>49.0</td>\n",
       "      <td>...</td>\n",
       "      <td>0</td>\n",
       "      <td>0</td>\n",
       "      <td>0</td>\n",
       "      <td>1</td>\n",
       "      <td>2018090600190</td>\n",
       "      <td>4.243218</td>\n",
       "      <td>39.77</td>\n",
       "      <td>22.27</td>\n",
       "      <td>Malcolm Jenkins</td>\n",
       "      <td>1</td>\n",
       "    </tr>\n",
       "    <tr>\n",
       "      <th>4</th>\n",
       "      <td>(10:59) (Shotgun) M.Ryan pass incomplete short...</td>\n",
       "      <td>1</td>\n",
       "      <td>3</td>\n",
       "      <td>1</td>\n",
       "      <td>3</td>\n",
       "      <td>8.0</td>\n",
       "      <td>6.0</td>\n",
       "      <td>0.0</td>\n",
       "      <td>10:59:00</td>\n",
       "      <td>11.0</td>\n",
       "      <td>...</td>\n",
       "      <td>0</td>\n",
       "      <td>0</td>\n",
       "      <td>0</td>\n",
       "      <td>0</td>\n",
       "      <td>2018090600256</td>\n",
       "      <td>2.124382</td>\n",
       "      <td>8.20</td>\n",
       "      <td>33.31</td>\n",
       "      <td>Nate Gerry</td>\n",
       "      <td>1</td>\n",
       "    </tr>\n",
       "    <tr>\n",
       "      <th>...</th>\n",
       "      <td>...</td>\n",
       "      <td>...</td>\n",
       "      <td>...</td>\n",
       "      <td>...</td>\n",
       "      <td>...</td>\n",
       "      <td>...</td>\n",
       "      <td>...</td>\n",
       "      <td>...</td>\n",
       "      <td>...</td>\n",
       "      <td>...</td>\n",
       "      <td>...</td>\n",
       "      <td>...</td>\n",
       "      <td>...</td>\n",
       "      <td>...</td>\n",
       "      <td>...</td>\n",
       "      <td>...</td>\n",
       "      <td>...</td>\n",
       "      <td>...</td>\n",
       "      <td>...</td>\n",
       "      <td>...</td>\n",
       "      <td>...</td>\n",
       "    </tr>\n",
       "    <tr>\n",
       "      <th>16820</th>\n",
       "      <td>(2:19) (Shotgun) P.Rivers pass short right to ...</td>\n",
       "      <td>4</td>\n",
       "      <td>2</td>\n",
       "      <td>2</td>\n",
       "      <td>19</td>\n",
       "      <td>6.0</td>\n",
       "      <td>4.0</td>\n",
       "      <td>0.0</td>\n",
       "      <td>02:19:00</td>\n",
       "      <td>77.0</td>\n",
       "      <td>...</td>\n",
       "      <td>0</td>\n",
       "      <td>0</td>\n",
       "      <td>1</td>\n",
       "      <td>0</td>\n",
       "      <td>20181222013842</td>\n",
       "      <td>4.763297</td>\n",
       "      <td>70.56</td>\n",
       "      <td>36.45</td>\n",
       "      <td>Brandon Carr</td>\n",
       "      <td>16</td>\n",
       "    </tr>\n",
       "    <tr>\n",
       "      <th>16821</th>\n",
       "      <td>(2:00) (Shotgun) P.Rivers pass short left to K...</td>\n",
       "      <td>4</td>\n",
       "      <td>1</td>\n",
       "      <td>10</td>\n",
       "      <td>19</td>\n",
       "      <td>4.0</td>\n",
       "      <td>5.0</td>\n",
       "      <td>0.0</td>\n",
       "      <td>02:00:00</td>\n",
       "      <td>70.0</td>\n",
       "      <td>...</td>\n",
       "      <td>0</td>\n",
       "      <td>0</td>\n",
       "      <td>0</td>\n",
       "      <td>1</td>\n",
       "      <td>20181222013884</td>\n",
       "      <td>2.076174</td>\n",
       "      <td>56.12</td>\n",
       "      <td>11.13</td>\n",
       "      <td>Jimmy Smith</td>\n",
       "      <td>16</td>\n",
       "    </tr>\n",
       "    <tr>\n",
       "      <th>16822</th>\n",
       "      <td>(1:41) (Shotgun) P.Rivers pass incomplete shor...</td>\n",
       "      <td>4</td>\n",
       "      <td>1</td>\n",
       "      <td>10</td>\n",
       "      <td>19</td>\n",
       "      <td>5.0</td>\n",
       "      <td>5.0</td>\n",
       "      <td>0.0</td>\n",
       "      <td>01:41:00</td>\n",
       "      <td>53.0</td>\n",
       "      <td>...</td>\n",
       "      <td>0</td>\n",
       "      <td>0</td>\n",
       "      <td>0</td>\n",
       "      <td>1</td>\n",
       "      <td>20181222013909</td>\n",
       "      <td>0.000000</td>\n",
       "      <td>0.00</td>\n",
       "      <td>0.00</td>\n",
       "      <td>unknown</td>\n",
       "      <td>16</td>\n",
       "    </tr>\n",
       "    <tr>\n",
       "      <th>16823</th>\n",
       "      <td>(1:37) (Shotgun) P.Rivers pass incomplete deep...</td>\n",
       "      <td>4</td>\n",
       "      <td>2</td>\n",
       "      <td>10</td>\n",
       "      <td>19</td>\n",
       "      <td>4.0</td>\n",
       "      <td>4.0</td>\n",
       "      <td>0.0</td>\n",
       "      <td>01:37:00</td>\n",
       "      <td>53.0</td>\n",
       "      <td>...</td>\n",
       "      <td>0</td>\n",
       "      <td>0</td>\n",
       "      <td>0</td>\n",
       "      <td>1</td>\n",
       "      <td>20181222013931</td>\n",
       "      <td>2.741678</td>\n",
       "      <td>42.50</td>\n",
       "      <td>12.68</td>\n",
       "      <td>Brandon Carr</td>\n",
       "      <td>16</td>\n",
       "    </tr>\n",
       "    <tr>\n",
       "      <th>16824</th>\n",
       "      <td>(1:31) (Shotgun) P.Rivers pass deep middle int...</td>\n",
       "      <td>4</td>\n",
       "      <td>3</td>\n",
       "      <td>10</td>\n",
       "      <td>19</td>\n",
       "      <td>6.0</td>\n",
       "      <td>4.0</td>\n",
       "      <td>0.0</td>\n",
       "      <td>01:31:00</td>\n",
       "      <td>53.0</td>\n",
       "      <td>...</td>\n",
       "      <td>0</td>\n",
       "      <td>0</td>\n",
       "      <td>0</td>\n",
       "      <td>1</td>\n",
       "      <td>20181222013953</td>\n",
       "      <td>1.352812</td>\n",
       "      <td>35.59</td>\n",
       "      <td>40.24</td>\n",
       "      <td>Marlon Humphrey</td>\n",
       "      <td>16</td>\n",
       "    </tr>\n",
       "  </tbody>\n",
       "</table>\n",
       "<p>16825 rows × 36 columns</p>\n",
       "</div>"
      ],
      "text/plain": [
       "                                         playDescription  quarter  down  \\\n",
       "0      (15:00) M.Ryan pass short right to J.Jones pus...        1     1   \n",
       "1      (13:10) M.Ryan pass incomplete short right to ...        1     1   \n",
       "2      (13:05) (Shotgun) M.Ryan pass incomplete short...        1     2   \n",
       "3      (13:01) (Shotgun) M.Ryan pass deep left to J.J...        1     3   \n",
       "4      (10:59) (Shotgun) M.Ryan pass incomplete short...        1     3   \n",
       "...                                                  ...      ...   ...   \n",
       "16820  (2:19) (Shotgun) P.Rivers pass short right to ...        4     2   \n",
       "16821  (2:00) (Shotgun) P.Rivers pass short left to K...        4     1   \n",
       "16822  (1:41) (Shotgun) P.Rivers pass incomplete shor...        4     1   \n",
       "16823  (1:37) (Shotgun) P.Rivers pass incomplete deep...        4     2   \n",
       "16824  (1:31) (Shotgun) P.Rivers pass deep middle int...        4     3   \n",
       "\n",
       "       yardsToGo  team_by_comp_yds  defendersInTheBox  numberOfPassRushers  \\\n",
       "0             15                 3                7.0                  4.0   \n",
       "1             10                 3                7.0                  4.0   \n",
       "2             10                 3                6.0                  4.0   \n",
       "3             10                 3                6.0                  5.0   \n",
       "4              1                 3                8.0                  6.0   \n",
       "...          ...               ...                ...                  ...   \n",
       "16820          2                19                6.0                  4.0   \n",
       "16821         10                19                4.0                  5.0   \n",
       "16822         10                19                5.0                  5.0   \n",
       "16823         10                19                4.0                  4.0   \n",
       "16824         10                19                6.0                  4.0   \n",
       "\n",
       "       QB_under_pressure gameClock  absoluteYardlineNumber  ...  four_three  \\\n",
       "0                    0.0  15:00:00                    90.0  ...           0   \n",
       "1                    0.0  13:10:00                    49.0  ...           0   \n",
       "2                    0.0  13:05:00                    49.0  ...           0   \n",
       "3                    1.0  13:01:00                    49.0  ...           0   \n",
       "4                    0.0  10:59:00                    11.0  ...           0   \n",
       "...                  ...       ...                     ...  ...         ...   \n",
       "16820                0.0  02:19:00                    77.0  ...           0   \n",
       "16821                0.0  02:00:00                    70.0  ...           0   \n",
       "16822                0.0  01:41:00                    53.0  ...           0   \n",
       "16823                0.0  01:37:00                    53.0  ...           0   \n",
       "16824                0.0  01:31:00                    53.0  ...           0   \n",
       "\n",
       "       three_four  nickel  dime          playid  closest_dist  closest_x  \\\n",
       "0               0       1     0    201809060075      4.160048      76.53   \n",
       "1               0       1     0   2018090600146      4.243230      46.18   \n",
       "2               0       1     0   2018090600168      5.338352      46.59   \n",
       "3               0       0     1   2018090600190      4.243218      39.77   \n",
       "4               0       0     0   2018090600256      2.124382       8.20   \n",
       "...           ...     ...   ...             ...           ...        ...   \n",
       "16820           0       1     0  20181222013842      4.763297      70.56   \n",
       "16821           0       0     1  20181222013884      2.076174      56.12   \n",
       "16822           0       0     1  20181222013909      0.000000       0.00   \n",
       "16823           0       0     1  20181222013931      2.741678      42.50   \n",
       "16824           0       0     1  20181222013953      1.352812      35.59   \n",
       "\n",
       "       closest_y  defender_receiver  week  \n",
       "0          44.93        Jalen Mills     1  \n",
       "1          41.10    Malcolm Jenkins     1  \n",
       "2          12.67       Sidney Jones     1  \n",
       "3          22.27    Malcolm Jenkins     1  \n",
       "4          33.31         Nate Gerry     1  \n",
       "...          ...                ...   ...  \n",
       "16820      36.45       Brandon Carr    16  \n",
       "16821      11.13        Jimmy Smith    16  \n",
       "16822       0.00            unknown    16  \n",
       "16823      12.68       Brandon Carr    16  \n",
       "16824      40.24    Marlon Humphrey    16  \n",
       "\n",
       "[16825 rows x 36 columns]"
      ]
     },
     "execution_count": 51,
     "metadata": {},
     "output_type": "execute_result"
    }
   ],
   "source": [
    "df"
   ]
  },
  {
   "cell_type": "code",
   "execution_count": 53,
   "metadata": {
    "hidden": true
   },
   "outputs": [
    {
     "data": {
      "text/html": [
       "<div>\n",
       "<style scoped>\n",
       "    .dataframe tbody tr th:only-of-type {\n",
       "        vertical-align: middle;\n",
       "    }\n",
       "\n",
       "    .dataframe tbody tr th {\n",
       "        vertical-align: top;\n",
       "    }\n",
       "\n",
       "    .dataframe thead th {\n",
       "        text-align: right;\n",
       "    }\n",
       "</style>\n",
       "<table border=\"1\" class=\"dataframe\">\n",
       "  <thead>\n",
       "    <tr style=\"text-align: right;\">\n",
       "      <th></th>\n",
       "      <th>playDescription</th>\n",
       "      <th>quarter</th>\n",
       "      <th>down</th>\n",
       "      <th>yardsToGo</th>\n",
       "      <th>team_by_comp_yds</th>\n",
       "      <th>defendersInTheBox</th>\n",
       "      <th>numberOfPassRushers</th>\n",
       "      <th>QB_under_pressure</th>\n",
       "      <th>gameClock</th>\n",
       "      <th>absoluteYardlineNumber</th>\n",
       "      <th>...</th>\n",
       "      <th>four_three</th>\n",
       "      <th>three_four</th>\n",
       "      <th>nickel</th>\n",
       "      <th>dime</th>\n",
       "      <th>playid</th>\n",
       "      <th>closest_dist</th>\n",
       "      <th>closest_x</th>\n",
       "      <th>closest_y</th>\n",
       "      <th>defender_receiver</th>\n",
       "      <th>week</th>\n",
       "    </tr>\n",
       "  </thead>\n",
       "  <tbody>\n",
       "    <tr>\n",
       "      <th>11229</th>\n",
       "      <td>(5:37) (Shotgun) L.Jackson pass short middle i...</td>\n",
       "      <td>2</td>\n",
       "      <td>3</td>\n",
       "      <td>10</td>\n",
       "      <td>21</td>\n",
       "      <td>5.0</td>\n",
       "      <td>3.0</td>\n",
       "      <td>0.0</td>\n",
       "      <td>05:37:00</td>\n",
       "      <td>40.0</td>\n",
       "      <td>...</td>\n",
       "      <td>0</td>\n",
       "      <td>0</td>\n",
       "      <td>0</td>\n",
       "      <td>1</td>\n",
       "      <td>20181125001824</td>\n",
       "      <td>100.0</td>\n",
       "      <td>0.0</td>\n",
       "      <td>0.0</td>\n",
       "      <td>Tahir Whitehead</td>\n",
       "      <td>12</td>\n",
       "    </tr>\n",
       "  </tbody>\n",
       "</table>\n",
       "<p>1 rows × 36 columns</p>\n",
       "</div>"
      ],
      "text/plain": [
       "                                         playDescription  quarter  down  \\\n",
       "11229  (5:37) (Shotgun) L.Jackson pass short middle i...        2     3   \n",
       "\n",
       "       yardsToGo  team_by_comp_yds  defendersInTheBox  numberOfPassRushers  \\\n",
       "11229         10                21                5.0                  3.0   \n",
       "\n",
       "       QB_under_pressure gameClock  absoluteYardlineNumber  ...  four_three  \\\n",
       "11229                0.0  05:37:00                    40.0  ...           0   \n",
       "\n",
       "       three_four  nickel  dime          playid  closest_dist  closest_x  \\\n",
       "11229           0       0     1  20181125001824         100.0        0.0   \n",
       "\n",
       "       closest_y  defender_receiver  week  \n",
       "11229        0.0    Tahir Whitehead    12  \n",
       "\n",
       "[1 rows x 36 columns]"
      ]
     },
     "execution_count": 53,
     "metadata": {},
     "output_type": "execute_result"
    }
   ],
   "source": [
    "###checking plays above\n",
    "df[df.playid == 20181125001824]"
   ]
  },
  {
   "cell_type": "code",
   "execution_count": 54,
   "metadata": {
    "hidden": true
   },
   "outputs": [
    {
     "ename": "AttributeError",
     "evalue": "'DataFrame' object has no attribute 'displayName'",
     "output_type": "error",
     "traceback": [
      "\u001b[0;31m---------------------------------------------------------------------------\u001b[0m",
      "\u001b[0;31mAttributeError\u001b[0m                            Traceback (most recent call last)",
      "\u001b[0;32m<ipython-input-54-913fe0c98726>\u001b[0m in \u001b[0;36m<module>\u001b[0;34m\u001b[0m\n\u001b[1;32m      1\u001b[0m \u001b[0;31m###obtaining play description\u001b[0m\u001b[0;34m\u001b[0m\u001b[0;34m\u001b[0m\u001b[0;34m\u001b[0m\u001b[0m\n\u001b[1;32m      2\u001b[0m \u001b[0;31m#must insert correct quarterback\u001b[0m\u001b[0;34m\u001b[0m\u001b[0;34m\u001b[0m\u001b[0;34m\u001b[0m\u001b[0m\n\u001b[0;32m----> 3\u001b[0;31m \u001b[0mxyz\u001b[0m\u001b[0;34m.\u001b[0m\u001b[0mloc\u001b[0m\u001b[0;34m[\u001b[0m\u001b[0mxyz\u001b[0m\u001b[0;34m.\u001b[0m\u001b[0mdisplayName\u001b[0m \u001b[0;34m==\u001b[0m \u001b[0;34m\"Lamar Jackson\"\u001b[0m\u001b[0;34m]\u001b[0m\u001b[0;34m.\u001b[0m\u001b[0mT\u001b[0m\u001b[0;34m\u001b[0m\u001b[0;34m\u001b[0m\u001b[0m\n\u001b[0m",
      "\u001b[0;32m/usr/local/anaconda3/lib/python3.7/site-packages/pandas/core/generic.py\u001b[0m in \u001b[0;36m__getattr__\u001b[0;34m(self, name)\u001b[0m\n\u001b[1;32m   5137\u001b[0m             \u001b[0;32mif\u001b[0m \u001b[0mself\u001b[0m\u001b[0;34m.\u001b[0m\u001b[0m_info_axis\u001b[0m\u001b[0;34m.\u001b[0m\u001b[0m_can_hold_identifiers_and_holds_name\u001b[0m\u001b[0;34m(\u001b[0m\u001b[0mname\u001b[0m\u001b[0;34m)\u001b[0m\u001b[0;34m:\u001b[0m\u001b[0;34m\u001b[0m\u001b[0;34m\u001b[0m\u001b[0m\n\u001b[1;32m   5138\u001b[0m                 \u001b[0;32mreturn\u001b[0m \u001b[0mself\u001b[0m\u001b[0;34m[\u001b[0m\u001b[0mname\u001b[0m\u001b[0;34m]\u001b[0m\u001b[0;34m\u001b[0m\u001b[0;34m\u001b[0m\u001b[0m\n\u001b[0;32m-> 5139\u001b[0;31m             \u001b[0;32mreturn\u001b[0m \u001b[0mobject\u001b[0m\u001b[0;34m.\u001b[0m\u001b[0m__getattribute__\u001b[0m\u001b[0;34m(\u001b[0m\u001b[0mself\u001b[0m\u001b[0;34m,\u001b[0m \u001b[0mname\u001b[0m\u001b[0;34m)\u001b[0m\u001b[0;34m\u001b[0m\u001b[0;34m\u001b[0m\u001b[0m\n\u001b[0m\u001b[1;32m   5140\u001b[0m \u001b[0;34m\u001b[0m\u001b[0m\n\u001b[1;32m   5141\u001b[0m     \u001b[0;32mdef\u001b[0m \u001b[0m__setattr__\u001b[0m\u001b[0;34m(\u001b[0m\u001b[0mself\u001b[0m\u001b[0;34m,\u001b[0m \u001b[0mname\u001b[0m\u001b[0;34m:\u001b[0m \u001b[0mstr\u001b[0m\u001b[0;34m,\u001b[0m \u001b[0mvalue\u001b[0m\u001b[0;34m)\u001b[0m \u001b[0;34m->\u001b[0m \u001b[0;32mNone\u001b[0m\u001b[0;34m:\u001b[0m\u001b[0;34m\u001b[0m\u001b[0;34m\u001b[0m\u001b[0m\n",
      "\u001b[0;31mAttributeError\u001b[0m: 'DataFrame' object has no attribute 'displayName'"
     ]
    }
   ],
   "source": [
    "###obtaining play description\n",
    "#must insert correct quarterback\n",
    "xyz.loc[xyz.displayName == \"Lamar Jackson\"].T"
   ]
  },
  {
   "cell_type": "code",
   "execution_count": 55,
   "metadata": {
    "hidden": true
   },
   "outputs": [
    {
     "data": {
      "text/html": [
       "<div>\n",
       "<style scoped>\n",
       "    .dataframe tbody tr th:only-of-type {\n",
       "        vertical-align: middle;\n",
       "    }\n",
       "\n",
       "    .dataframe tbody tr th {\n",
       "        vertical-align: top;\n",
       "    }\n",
       "\n",
       "    .dataframe thead th {\n",
       "        text-align: right;\n",
       "    }\n",
       "</style>\n",
       "<table border=\"1\" class=\"dataframe\">\n",
       "  <thead>\n",
       "    <tr style=\"text-align: right;\">\n",
       "      <th></th>\n",
       "    </tr>\n",
       "  </thead>\n",
       "  <tbody>\n",
       "    <tr>\n",
       "      <th>playDescription</th>\n",
       "    </tr>\n",
       "    <tr>\n",
       "      <th>quarter</th>\n",
       "    </tr>\n",
       "    <tr>\n",
       "      <th>down</th>\n",
       "    </tr>\n",
       "    <tr>\n",
       "      <th>yardsToGo</th>\n",
       "    </tr>\n",
       "    <tr>\n",
       "      <th>team_by_comp_yds</th>\n",
       "    </tr>\n",
       "    <tr>\n",
       "      <th>defendersInTheBox</th>\n",
       "    </tr>\n",
       "    <tr>\n",
       "      <th>numberOfPassRushers</th>\n",
       "    </tr>\n",
       "    <tr>\n",
       "      <th>QB_under_pressure</th>\n",
       "    </tr>\n",
       "    <tr>\n",
       "      <th>gameClock</th>\n",
       "    </tr>\n",
       "    <tr>\n",
       "      <th>absoluteYardlineNumber</th>\n",
       "    </tr>\n",
       "    <tr>\n",
       "      <th>epa</th>\n",
       "    </tr>\n",
       "    <tr>\n",
       "      <th>pass_stopped</th>\n",
       "    </tr>\n",
       "    <tr>\n",
       "      <th>playResult</th>\n",
       "    </tr>\n",
       "    <tr>\n",
       "      <th>RB</th>\n",
       "    </tr>\n",
       "    <tr>\n",
       "      <th>TE</th>\n",
       "    </tr>\n",
       "    <tr>\n",
       "      <th>WR</th>\n",
       "    </tr>\n",
       "    <tr>\n",
       "      <th>DL</th>\n",
       "    </tr>\n",
       "    <tr>\n",
       "      <th>LB</th>\n",
       "    </tr>\n",
       "    <tr>\n",
       "      <th>DB</th>\n",
       "    </tr>\n",
       "    <tr>\n",
       "      <th>EMPTY</th>\n",
       "    </tr>\n",
       "    <tr>\n",
       "      <th>I_FORM</th>\n",
       "    </tr>\n",
       "    <tr>\n",
       "      <th>JUMBO</th>\n",
       "    </tr>\n",
       "    <tr>\n",
       "      <th>PISTOL</th>\n",
       "    </tr>\n",
       "    <tr>\n",
       "      <th>SHOTGUN</th>\n",
       "    </tr>\n",
       "    <tr>\n",
       "      <th>SINGLEBACK</th>\n",
       "    </tr>\n",
       "    <tr>\n",
       "      <th>WILDCAT</th>\n",
       "    </tr>\n",
       "    <tr>\n",
       "      <th>four_three</th>\n",
       "    </tr>\n",
       "    <tr>\n",
       "      <th>three_four</th>\n",
       "    </tr>\n",
       "    <tr>\n",
       "      <th>nickel</th>\n",
       "    </tr>\n",
       "    <tr>\n",
       "      <th>dime</th>\n",
       "    </tr>\n",
       "    <tr>\n",
       "      <th>playid</th>\n",
       "    </tr>\n",
       "    <tr>\n",
       "      <th>closest_dist</th>\n",
       "    </tr>\n",
       "    <tr>\n",
       "      <th>closest_x</th>\n",
       "    </tr>\n",
       "    <tr>\n",
       "      <th>closest_y</th>\n",
       "    </tr>\n",
       "    <tr>\n",
       "      <th>defender_receiver</th>\n",
       "    </tr>\n",
       "    <tr>\n",
       "      <th>week</th>\n",
       "    </tr>\n",
       "  </tbody>\n",
       "</table>\n",
       "</div>"
      ],
      "text/plain": [
       "Empty DataFrame\n",
       "Columns: []\n",
       "Index: [playDescription, quarter, down, yardsToGo, team_by_comp_yds, defendersInTheBox, numberOfPassRushers, QB_under_pressure, gameClock, absoluteYardlineNumber, epa, pass_stopped, playResult, RB, TE, WR, DL, LB, DB, EMPTY, I_FORM, JUMBO, PISTOL, SHOTGUN, SINGLEBACK, WILDCAT, four_three, three_four, nickel, dime, playid, closest_dist, closest_x, closest_y, defender_receiver, week]"
      ]
     },
     "execution_count": 55,
     "metadata": {},
     "output_type": "execute_result"
    }
   ],
   "source": [
    "###comparing names of last two rows shown\n",
    "xyz.T"
   ]
  },
  {
   "cell_type": "markdown",
   "metadata": {
    "heading_collapsed": true
   },
   "source": [
    "# Football Field Demo"
   ]
  },
  {
   "cell_type": "markdown",
   "metadata": {
    "heading_collapsed": true,
    "hidden": true
   },
   "source": [
    "## Library and Function for Field"
   ]
  },
  {
   "cell_type": "code",
   "execution_count": null,
   "metadata": {
    "hidden": true
   },
   "outputs": [],
   "source": [
    "import pandas as pd\n",
    "import plotly.express as px\n",
    "import matplotlib.pyplot as plt\n",
    "import plotly.graph_objects as go\n",
    "import plotly"
   ]
  },
  {
   "cell_type": "code",
   "execution_count": null,
   "metadata": {
    "hidden": true
   },
   "outputs": [],
   "source": [
    "def create_animation(week_number,play_id):\n",
    "    df = pd.read_csv('week'+ str(week_number) +'.csv')\n",
    "    dd=df[(df.playId==play_id)]\n",
    "    times = dd.time.unique()\n",
    "    time_slice = times[0:500:5]\n",
    "    df = dd[dd.time.isin(time_slice)]\n",
    "                     \n",
    "    colorsIdx = {'home': 'red', 'away': 'blue', 'football': 'orange'}\n",
    "    fig = px.scatter(df, x='x', y='y', color='team', text='jerseyNumber', animation_frame='time', \n",
    "                     color_discrete_map=colorsIdx,\n",
    "                     range_x=[-10, 110],range_y=[-10, 53.3],\n",
    "                     hover_data=['displayName', 'position', 's', 'a', 'dis', 'o', 'playDirection']\n",
    "                    )\n",
    "    fig.update_traces(marker_size=20)\n",
    "    \n",
    "    fig.update_layout(paper_bgcolor='#29a500', plot_bgcolor='#29a500', font_color='white',\n",
    "        width = 800,\n",
    "        height = 600,\n",
    "        title = \"\",\n",
    "        \n",
    "        xaxis = dict(\n",
    "        nticks = 10,\n",
    "        title = \"\",\n",
    "        visible=False\n",
    "        ),\n",
    "        \n",
    "        yaxis = dict(\n",
    "        scaleanchor = \"x\",\n",
    "        title = \"Temp\",\n",
    "        visible=False\n",
    "        ),\n",
    "        showlegend= True,\n",
    "  \n",
    "        annotations=[\n",
    "       dict(\n",
    "            x=-5,\n",
    "            y=12,\n",
    "            xref=\"x\",\n",
    "            yref=\"y\",\n",
    "            text=\"HOME ENDZONE\",\n",
    "            font=dict(size=16,color=\"#e9ece7\"),\n",
    "            align='center',\n",
    "            showarrow=False,\n",
    "            yanchor='bottom',\n",
    "            textangle=-90\n",
    "        ),\n",
    "        dict(\n",
    "            x=105,\n",
    "            y=10,\n",
    "            xref=\"x\",\n",
    "            yref=\"y\",\n",
    "            text=\"VISITOR ENDZONE\",\n",
    "            font=dict(size=16,color=\"#e9ece7\"),\n",
    "            align='center',\n",
    "            showarrow=False,\n",
    "            yanchor='bottom',\n",
    "            textangle=90\n",
    "        )]  \n",
    "        ,\n",
    "        legend=dict(\n",
    "        traceorder=\"normal\",\n",
    "        font=dict(family=\"sans-serif\",size=12),\n",
    "        title = \"\",\n",
    "        orientation=\"h\",\n",
    "        yanchor=\"bottom\",\n",
    "        y=1.00,\n",
    "        xanchor=\"center\",\n",
    "        x=0.5\n",
    "        ),\n",
    "    )\n",
    "    ####################################################\n",
    "        \n",
    "    fig.add_shape(type=\"rect\", x0=-10, x1=0,  y0=0, y1=53.3,line=dict(color=\"#c8ddc0\",width=3),fillcolor=\"#217b00\" ,layer=\"below\")\n",
    "    fig.add_shape(type=\"rect\", x0=100, x1=110, y0=0, y1=53.3,line=dict(color=\"#c8ddc0\",width=3),fillcolor=\"#217b00\" ,layer=\"below\")\n",
    "    for x in range(0, 100, 10):\n",
    "        fig.add_shape(type=\"rect\", x0=x,   x1=x+10, y0=0, y1=53.3,line=dict(color=\"#c8ddc0\",width=3),fillcolor=\"#29a500\" ,layer=\"below\")\n",
    "    for x in range(0, 100, 1):\n",
    "        fig.add_shape(type=\"line\",x0=x, y0=1, x1=x, y1=2,line=dict(color=\"#c8ddc0\",width=2),layer=\"below\")\n",
    "    for x in range(0, 100, 1):\n",
    "        fig.add_shape(type=\"line\",x0=x, y0=51.3, x1=x, y1=52.3,line=dict(color=\"#c8ddc0\",width=2),layer=\"below\")\n",
    "    \n",
    "    for x in range(0, 100, 1):\n",
    "        fig.add_shape(type=\"line\",x0=x, y0=20.0, x1=x, y1=21,line=dict(color=\"#c8ddc0\",width=2),layer=\"below\")\n",
    "    for x in range(0, 100, 1):\n",
    "        fig.add_shape(type=\"line\",x0=x, y0=32.3, x1=x, y1=33.3,line=dict(color=\"#c8ddc0\",width=2),layer=\"below\")\n",
    "    \n",
    "    \n",
    "    fig.add_trace(go.Scatter(\n",
    "    x=[2,10,20,30,40,50,60,70,80,90,98], y=[5,5,5,5,5,5,5,5,5,5,5],\n",
    "    text=[\"G\",\"1 0\",\"2 0\",\"3 0\",\"4 0\",\"5 0\",\"4 0\",\"3 0\",\"2 0\",\"1 0\",\"G\"],\n",
    "    mode=\"text\",\n",
    "    textfont=dict(size=20,family=\"Arail\"),\n",
    "    showlegend=False,\n",
    "    ))\n",
    "    \n",
    "    fig.add_trace(go.Scatter(\n",
    "    x=[2,10,20,30,40,50,60,70,80,90,98], y=[48.3,48.3,48.3,48.3,48.3,48.3,48.3,48.3,48.3,48.3,48.3],\n",
    "    text=[\"G\",\"1 0\",\"2 0\",\"3 0\",\"4 0\",\"5 0\",\"4 0\",\"3 0\",\"2 0\",\"1 0\",\"G\"],\n",
    "    mode=\"text\",\n",
    "    textfont=dict(size=20,family=\"Arail\"),\n",
    "    showlegend=False,\n",
    "    ))\n",
    "    \n",
    "    return fig"
   ]
  },
  {
   "cell_type": "markdown",
   "metadata": {
    "heading_collapsed": true,
    "hidden": true
   },
   "source": [
    "## Function test"
   ]
  },
  {
   "cell_type": "code",
   "execution_count": null,
   "metadata": {
    "hidden": true
   },
   "outputs": [],
   "source": [
    "week1 = pd.read_csv('week1.csv')"
   ]
  },
  {
   "cell_type": "code",
   "execution_count": null,
   "metadata": {
    "hidden": true
   },
   "outputs": [],
   "source": [
    "[play for play in week1.playId.unique()]"
   ]
  },
  {
   "cell_type": "markdown",
   "metadata": {
    "hidden": true
   },
   "source": [
    "## Animation"
   ]
  },
  {
   "cell_type": "code",
   "execution_count": null,
   "metadata": {
    "hidden": true
   },
   "outputs": [],
   "source": [
    "create_animation(1,75)"
   ]
  },
  {
   "cell_type": "code",
   "execution_count": null,
   "metadata": {
    "hidden": true
   },
   "outputs": [],
   "source": [
    "week1 = pd.read_csv('week1.csv')"
   ]
  },
  {
   "cell_type": "code",
   "execution_count": null,
   "metadata": {
    "hidden": true
   },
   "outputs": [],
   "source": [
    "week1"
   ]
  },
  {
   "cell_type": "code",
   "execution_count": null,
   "metadata": {
    "hidden": true
   },
   "outputs": [],
   "source": [
    "week1.event.value_counts()"
   ]
  },
  {
   "cell_type": "code",
   "execution_count": null,
   "metadata": {
    "hidden": true
   },
   "outputs": [],
   "source": [
    "df = week1[week1.event != 'None']"
   ]
  },
  {
   "cell_type": "code",
   "execution_count": null,
   "metadata": {
    "hidden": true
   },
   "outputs": [],
   "source": [
    "df"
   ]
  },
  {
   "cell_type": "markdown",
   "metadata": {
    "hidden": true
   },
   "source": [
    "## Scratch Work Past This Point"
   ]
  },
  {
   "cell_type": "markdown",
   "metadata": {
    "heading_collapsed": true
   },
   "source": [
    "# Prep week csv"
   ]
  },
  {
   "cell_type": "markdown",
   "metadata": {
    "heading_collapsed": true,
    "hidden": true
   },
   "source": [
    "## clean nfl weeks(drop noise)"
   ]
  },
  {
   "cell_type": "code",
   "execution_count": null,
   "metadata": {
    "hidden": true
   },
   "outputs": [],
   "source": [
    "def filter_nfl_weeks():\n",
    "    \n",
    "    for i in range(1,18):\n",
    "        #read in csv\n",
    "        df = pd.read_csv('week' + str(i) + '.csv')\n",
    "        #keep only pass_forward events\n",
    "        df = df[(df.event == 'pass_forward')]\n",
    "        #fill in empty positions with football\n",
    "        df.position = df.position.fillna('BALL')\n",
    "        #reset index\n",
    "        df.reset_index(drop=True)\n",
    "        #save as new csv\n",
    "        df.to_csv('week' + str(i) + 'filtered.csv', index=False)\n",
    "        #print week number when done\n",
    "        print(f'{i}')"
   ]
  },
  {
   "cell_type": "code",
   "execution_count": null,
   "metadata": {
    "hidden": true
   },
   "outputs": [],
   "source": [
    "filter_nfl_weeks()"
   ]
  },
  {
   "cell_type": "markdown",
   "metadata": {
    "heading_collapsed": true,
    "hidden": true
   },
   "source": [
    "## plays"
   ]
  },
  {
   "cell_type": "code",
   "execution_count": null,
   "metadata": {
    "hidden": true
   },
   "outputs": [],
   "source": [
    "#read in csv\n",
    "plays = prep_plays.prep_plays_for_weeks()"
   ]
  },
  {
   "cell_type": "code",
   "execution_count": null,
   "metadata": {
    "hidden": true
   },
   "outputs": [],
   "source": [
    "plays.T"
   ]
  },
  {
   "cell_type": "code",
   "execution_count": null,
   "metadata": {
    "hidden": true
   },
   "outputs": [],
   "source": [
    "#since playId is only unique to game id we need to combine to make a unique identifier\n",
    "#first have to change the data types to strings\n",
    "plays.gameId = plays.gameId.astype(str)\n",
    "plays.playId = plays.playId.astype(str)"
   ]
  },
  {
   "cell_type": "code",
   "execution_count": null,
   "metadata": {
    "hidden": true
   },
   "outputs": [],
   "source": [
    "#concat to create a unique identifier\n",
    "plays['playid'] = plays.gameId + plays.playId"
   ]
  },
  {
   "cell_type": "code",
   "execution_count": null,
   "metadata": {
    "hidden": true
   },
   "outputs": [],
   "source": [
    "#drop old columns\n",
    "plays = plays.drop(columns = {'gameId', 'playId'})"
   ]
  },
  {
   "cell_type": "code",
   "execution_count": null,
   "metadata": {
    "hidden": true
   },
   "outputs": [],
   "source": [
    "plays.drop_duplicates(inplace=True)"
   ]
  },
  {
   "cell_type": "markdown",
   "metadata": {
    "heading_collapsed": true,
    "hidden": true
   },
   "source": [
    "## week1"
   ]
  },
  {
   "cell_type": "code",
   "execution_count": null,
   "metadata": {
    "hidden": true
   },
   "outputs": [],
   "source": [
    "#read in csv\n",
    "wk1 = pd.read_csv('week10filtered.csv')"
   ]
  },
  {
   "cell_type": "code",
   "execution_count": null,
   "metadata": {
    "hidden": true,
    "scrolled": true
   },
   "outputs": [],
   "source": [
    "wk1 = wk1.drop_duplicates()"
   ]
  },
  {
   "cell_type": "code",
   "execution_count": null,
   "metadata": {
    "hidden": true
   },
   "outputs": [],
   "source": []
  },
  {
   "cell_type": "code",
   "execution_count": null,
   "metadata": {
    "hidden": true
   },
   "outputs": [],
   "source": [
    "#since playId is only unique to game id we need to combine to make a unique identifier\n",
    "#first have to change the data types to strings\n",
    "wk1.gameId = wk1.gameId.astype(str)\n",
    "\n",
    "wk1.playId = wk1.playId.astype(str)"
   ]
  },
  {
   "cell_type": "code",
   "execution_count": null,
   "metadata": {
    "hidden": true
   },
   "outputs": [],
   "source": [
    "#concat to create a unique identifier\n",
    "wk1['playid'] = wk1.gameId + wk1.playId"
   ]
  },
  {
   "cell_type": "code",
   "execution_count": null,
   "metadata": {
    "hidden": true
   },
   "outputs": [],
   "source": [
    "wk1 = wk1.drop(columns = {'gameId', 'playId'})"
   ]
  },
  {
   "cell_type": "code",
   "execution_count": null,
   "metadata": {
    "hidden": true
   },
   "outputs": [],
   "source": [
    "wk1.drop_duplicates(inplace=True)"
   ]
  },
  {
   "cell_type": "markdown",
   "metadata": {
    "heading_collapsed": true,
    "hidden": true
   },
   "source": [
    "## merge"
   ]
  },
  {
   "cell_type": "code",
   "execution_count": null,
   "metadata": {
    "hidden": true
   },
   "outputs": [],
   "source": [
    "#merge \n",
    "df = pd.merge(plays, wk1, left_on = 'playid', right_on = 'playid', how = 'inner')"
   ]
  },
  {
   "cell_type": "code",
   "execution_count": null,
   "metadata": {
    "hidden": true
   },
   "outputs": [],
   "source": [
    "df.drop_duplicates(inplace=True)"
   ]
  },
  {
   "cell_type": "markdown",
   "metadata": {
    "heading_collapsed": true,
    "hidden": true
   },
   "source": [
    "## Identify reciever"
   ]
  },
  {
   "cell_type": "code",
   "execution_count": null,
   "metadata": {
    "hidden": true
   },
   "outputs": [],
   "source": [
    "import re"
   ]
  },
  {
   "cell_type": "code",
   "execution_count": null,
   "metadata": {
    "hidden": true
   },
   "outputs": [],
   "source": [
    "#extracting names from play description\n",
    "#second name will be the intended reciever\n",
    "desc = df.playDescription.str.findall(r'(\\b[A-Z]+\\.\\b[A-Z]+\\w+)').apply(','.join)"
   ]
  },
  {
   "cell_type": "code",
   "execution_count": null,
   "metadata": {
    "hidden": true
   },
   "outputs": [],
   "source": [
    "desc"
   ]
  },
  {
   "cell_type": "code",
   "execution_count": null,
   "metadata": {
    "hidden": true
   },
   "outputs": [],
   "source": [
    "#split the desc namees by comma\n",
    "temp = desc.str.split(',', expand = True)"
   ]
  },
  {
   "cell_type": "code",
   "execution_count": null,
   "metadata": {
    "hidden": true
   },
   "outputs": [],
   "source": [
    "temp"
   ]
  },
  {
   "cell_type": "code",
   "execution_count": null,
   "metadata": {
    "hidden": true
   },
   "outputs": [],
   "source": [
    "#checking reciever column for nulls\n",
    "#there are some\n",
    "#will have to write a loop that considers nulls and skips them\n",
    "temp[1].isnull().value_counts()"
   ]
  },
  {
   "cell_type": "code",
   "execution_count": null,
   "metadata": {
    "hidden": true
   },
   "outputs": [],
   "source": [
    "# obtaining name from WR column\n",
    "temp[1]"
   ]
  },
  {
   "cell_type": "code",
   "execution_count": null,
   "metadata": {
    "hidden": true
   },
   "outputs": [],
   "source": [
    "#saving name of receiver\n",
    "df['receiver_last_name'] = temp[1]"
   ]
  },
  {
   "cell_type": "code",
   "execution_count": null,
   "metadata": {
    "hidden": true
   },
   "outputs": [],
   "source": [
    "#checking dataframe\n",
    "df"
   ]
  },
  {
   "cell_type": "code",
   "execution_count": null,
   "metadata": {
    "hidden": true
   },
   "outputs": [],
   "source": [
    "#splitting first and last name of player\n",
    "temp = df.displayName.str.split(' ', expand = True)"
   ]
  },
  {
   "cell_type": "code",
   "execution_count": null,
   "metadata": {
    "hidden": true
   },
   "outputs": [],
   "source": [
    "temp"
   ]
  },
  {
   "cell_type": "code",
   "execution_count": null,
   "metadata": {
    "hidden": true
   },
   "outputs": [],
   "source": [
    "initial = temp[0].astype(str).str[0]\n",
    "initial"
   ]
  },
  {
   "cell_type": "code",
   "execution_count": null,
   "metadata": {
    "hidden": true
   },
   "outputs": [],
   "source": [
    "last_name = temp[1]"
   ]
  },
  {
   "cell_type": "code",
   "execution_count": null,
   "metadata": {
    "hidden": true
   },
   "outputs": [],
   "source": [
    "df['player_last_name'] = initial + '.' + last_name"
   ]
  },
  {
   "cell_type": "code",
   "execution_count": null,
   "metadata": {
    "hidden": true
   },
   "outputs": [],
   "source": [
    "df = df[df.displayName != 'Football']"
   ]
  },
  {
   "cell_type": "code",
   "execution_count": null,
   "metadata": {
    "hidden": true
   },
   "outputs": [],
   "source": [
    "#checking dataframe\n",
    "df = df.reset_index(drop=True)"
   ]
  },
  {
   "cell_type": "code",
   "execution_count": null,
   "metadata": {
    "hidden": true
   },
   "outputs": [],
   "source": [
    "df"
   ]
  },
  {
   "cell_type": "code",
   "execution_count": null,
   "metadata": {
    "hidden": true
   },
   "outputs": [],
   "source": [
    "df.loc[(df.receiver_last_name == 'J.Smith'),'receiver_last_name']='J.Smith-Schuster'"
   ]
  },
  {
   "cell_type": "code",
   "execution_count": null,
   "metadata": {
    "hidden": true
   },
   "outputs": [],
   "source": [
    "df.loc[(df.receiver_last_name == 'A.Seferian'),'receiver_last_name']='A.Seferian-Jenkins'"
   ]
  },
  {
   "cell_type": "code",
   "execution_count": null,
   "metadata": {
    "hidden": true
   },
   "outputs": [],
   "source": [
    "df.loc[(df.receiver_last_name == 'R.Seals'),'receiver_last_name']='R.Seals-Jones'"
   ]
  },
  {
   "cell_type": "code",
   "execution_count": null,
   "metadata": {
    "hidden": true
   },
   "outputs": [],
   "source": [
    "df.drop_duplicates(inplace=True)"
   ]
  },
  {
   "cell_type": "markdown",
   "metadata": {
    "hidden": true
   },
   "source": [
    "## Distance"
   ]
  },
  {
   "cell_type": "code",
   "execution_count": null,
   "metadata": {
    "hidden": true
   },
   "outputs": [],
   "source": [
    "# #passes where no receiver was identified\n",
    "# df = df[~df.receiver_last_name.isnull()]"
   ]
  },
  {
   "cell_type": "code",
   "execution_count": null,
   "metadata": {
    "hidden": true
   },
   "outputs": [],
   "source": [
    "# #no receiver was identified\n",
    "# df = df[df.playid != '20180906004417']"
   ]
  },
  {
   "cell_type": "code",
   "execution_count": null,
   "metadata": {
    "hidden": true
   },
   "outputs": [],
   "source": [
    "df"
   ]
  },
  {
   "cell_type": "code",
   "execution_count": null,
   "metadata": {
    "hidden": true
   },
   "outputs": [],
   "source": [
    "newdf = pd.DataFrame(columns = ['playids', 'closest_dist', 'closest_x', 'closest_y', 'defender_receiver', 'week'])\n",
    "playids = [\n",
    " \n",
    " \n",
    " \n",
    " \n",
    " \n",
    " \n",
    " \n",
    " \n",
    " '20181111062650',\n",
    " \n",
    "]\n",
    "\n",
    "#loop through each playid in playids\n",
    "for play in playids:\n",
    "    #reset shortest distance\n",
    "    closest_distance = 100\n",
    "    #reset shortest x\n",
    "    closest_x = 0\n",
    "    #reset shortest y\n",
    "    closest_y = 0\n",
    "    #filter for all players in current play\n",
    "    current_play = df[df.playid == play]\n",
    "    #create a dataframe of offensive players\n",
    "    offense = current_play[(current_play.position == 'QB') | (current_play.position == 'RB') | (current_play.position == 'WR') | (current_play.position == 'FB') | (current_play.position == 'HB') | (current_play.position == 'TE')]\n",
    "    #create a dataframe of defensive players\n",
    "    defense = current_play[(current_play.position == 'CB') | (current_play.position == 'OLB') | (current_play.position == 'FS') | (current_play.position == 'SS') | (current_play.position == 'ILB') | (current_play.position == 'MLB') | (current_play.position == 'LB') | (current_play.position == 'DB') | (current_play.position == 'S') | (current_play.position == 'DL') | (current_play.position == 'DE') | (current_play.position == 'NT')]\n",
    "    #for x in coordinates of players\n",
    "    for name in defense.displayName:\n",
    "        if (offense.receiver_last_name == offense.player_last_name).any():\n",
    "            #retrieve y coordinate of this player\n",
    "            x = defense.loc[defense.displayName == name].x.item()\n",
    "            #retrieve y coordinate of this player\n",
    "            y = defense.loc[defense.displayName == name].y.item()\n",
    "            #retrive x coordinate of reciever\n",
    "            x1= offense.loc[offense.receiver_last_name == offense.player_last_name].x.item()\n",
    "            # retrieve y coordinate of reciever\n",
    "            y1= offense.loc[offense.receiver_last_name == offense.player_last_name].y.item()\n",
    "            #solve for distance\n",
    "            distance = ((x-x1)**2+(y-y1)**2)**(1/2)\n",
    "            #if the distance is the shortest distance\n",
    "            if distance < closest_distance:\n",
    "                #save the distance\n",
    "                closest_distance = distance\n",
    "                #save the x coordinate\n",
    "                closest_x = x\n",
    "                #save the y coordinate\n",
    "                closest_y = y\n",
    "                #save the defender name\n",
    "                def_name = name\n",
    "        else:\n",
    "            #fill with unrealistic values \n",
    "            closest_distance = 0\n",
    "            closest_x = 0\n",
    "            closest_y = 0\n",
    "            def_name = \"unknown\"\n",
    "    newdf = newdf.append({'playids': play, 'closest_dist': closest_distance, 'closest_x': closest_x, 'closest_y': closest_y, 'defender_receiver': def_name, 'week':1}, ignore_index=True)"
   ]
  },
  {
   "cell_type": "code",
   "execution_count": null,
   "metadata": {
    "hidden": true,
    "scrolled": false
   },
   "outputs": [],
   "source": [
    "newdf"
   ]
  },
  {
   "cell_type": "code",
   "execution_count": null,
   "metadata": {
    "hidden": true
   },
   "outputs": [],
   "source": []
  },
  {
   "cell_type": "code",
   "execution_count": null,
   "metadata": {
    "hidden": true
   },
   "outputs": [],
   "source": [
    "[play for play in df.playid.unique()]"
   ]
  },
  {
   "cell_type": "code",
   "execution_count": null,
   "metadata": {
    "hidden": true
   },
   "outputs": [],
   "source": []
  },
  {
   "cell_type": "markdown",
   "metadata": {},
   "source": [
    "# Best Defender "
   ]
  },
  {
   "cell_type": "code",
   "execution_count": 2,
   "metadata": {},
   "outputs": [
    {
     "name": "stdout",
     "output_type": "stream",
     "text": [
      "Dataframe Ready For Use\n"
     ]
    }
   ],
   "source": [
    "df = prep_plays.get_weeksnplays_data()"
   ]
  },
  {
   "cell_type": "code",
   "execution_count": 15,
   "metadata": {},
   "outputs": [
    {
     "data": {
      "text/plain": [
       "Eli Apple            101\n",
       "Kyle Fuller          101\n",
       "Kendall Fuller        99\n",
       "James Bradberry       99\n",
       "Jalen Ramsey          98\n",
       "Adoree' Jackson       97\n",
       "Prince Amukamara      94\n",
       "Darius Leonard        93\n",
       "Joe Haden             92\n",
       "Kenny Moore           91\n",
       "P.J. Williams         91\n",
       "Captain Munnerlyn     90\n",
       "T.J. Carrie           89\n",
       "Steven Nelson         88\n",
       "Stephon Gilmore       87\n",
       "Byron Jones           87\n",
       "Budda Baker           86\n",
       "Justin Coleman        86\n",
       "Chidobe Awuzie        86\n",
       "Denzel Ward           85\n",
       "Name: defender_receiver, dtype: int64"
      ]
     },
     "execution_count": 15,
     "metadata": {},
     "output_type": "execute_result"
    }
   ],
   "source": [
    "# top 20 defenders directly involved in a pass play\n",
    "df[df.defender_receiver != 'unknown'].defender_receiver.value_counts().head(20)"
   ]
  },
  {
   "cell_type": "code",
   "execution_count": 16,
   "metadata": {},
   "outputs": [],
   "source": [
    "temp = df[df.pass_stopped == 1]"
   ]
  },
  {
   "cell_type": "code",
   "execution_count": 20,
   "metadata": {},
   "outputs": [
    {
     "data": {
      "text/plain": [
       "James Bradberry      49\n",
       "Kyle Fuller          47\n",
       "Jalen Ramsey         45\n",
       "Eli Apple            45\n",
       "Steven Nelson        44\n",
       "Stephon Gilmore      44\n",
       "Marlon Humphrey      42\n",
       "Denzel Ward          42\n",
       "Adoree' Jackson      41\n",
       "Joe Haden            38\n",
       "Orlando Scandrick    37\n",
       "William Jackson      36\n",
       "Brandon Carr         36\n",
       "Jason McCourty       35\n",
       "Morris Claiborne     35\n",
       "Prince Amukamara     35\n",
       "Darius Slay          35\n",
       "Johnathan Joseph     34\n",
       "Chidobe Awuzie       34\n",
       "T.J. Carrie          34\n",
       "Name: defender_receiver, dtype: int64"
      ]
     },
     "execution_count": 20,
     "metadata": {},
     "output_type": "execute_result"
    }
   ],
   "source": [
    "#top 20 defenders who were directly involved in stopping the pass play\n",
    "temp[temp.defender_receiver != 'unknown'].defender_receiver.value_counts().head(20)"
   ]
  },
  {
   "cell_type": "markdown",
   "metadata": {},
   "source": [
    "# EPA"
   ]
  },
  {
   "cell_type": "markdown",
   "metadata": {},
   "source": [
    "## Statistical testing"
   ]
  },
  {
   "cell_type": "code",
   "execution_count": 29,
   "metadata": {},
   "outputs": [],
   "source": [
    "from scipy import stats\n",
    "import seaborn as sns\n",
    "import matplotlib.pyplot as plt\n",
    "alpha = .05"
   ]
  },
  {
   "cell_type": "code",
   "execution_count": 31,
   "metadata": {},
   "outputs": [],
   "source": [
    "from sklearn.model_selection import train_test_split\n",
    "\n",
    "train_validate, test = train_test_split(df, test_size=.3, random_state=123, stratify = df.pass_stopped)\n",
    "\n",
    "train, validate = train_test_split(train_validate, test_size=.4, random_state=123, stratify = train_validate.pass_stopped)"
   ]
  },
  {
   "cell_type": "code",
   "execution_count": 32,
   "metadata": {},
   "outputs": [
    {
     "data": {
      "text/plain": [
       "0.0"
      ]
     },
     "execution_count": 32,
     "metadata": {},
     "output_type": "execute_result"
    }
   ],
   "source": [
    "pass_completed = train[train.pass_stopped == 0]\n",
    "pass_not_completed = train[train.pass_stopped == 1]\n",
    "\n",
    "t, p = stats.ttest_ind(pass_completed.epa, pass_not_completed.epa)\n",
    "p"
   ]
  },
  {
   "cell_type": "code",
   "execution_count": 34,
   "metadata": {},
   "outputs": [
    {
     "data": {
      "text/plain": [
       "0.7375291728811614"
      ]
     },
     "execution_count": 34,
     "metadata": {},
     "output_type": "execute_result"
    }
   ],
   "source": [
    "pass_completed.epa.mean()"
   ]
  },
  {
   "cell_type": "code",
   "execution_count": 36,
   "metadata": {},
   "outputs": [
    {
     "data": {
      "text/plain": [
       "-9.67818757738637"
      ]
     },
     "execution_count": 36,
     "metadata": {},
     "output_type": "execute_result"
    }
   ],
   "source": [
    "pass_completed.epa.min()"
   ]
  },
  {
   "cell_type": "code",
   "execution_count": 37,
   "metadata": {},
   "outputs": [
    {
     "data": {
      "text/plain": [
       "8.62931613779587"
      ]
     },
     "execution_count": 37,
     "metadata": {},
     "output_type": "execute_result"
    }
   ],
   "source": [
    "pass_completed.epa.max()"
   ]
  },
  {
   "cell_type": "code",
   "execution_count": 35,
   "metadata": {},
   "outputs": [
    {
     "data": {
      "text/plain": [
       "-1.0960165900885386"
      ]
     },
     "execution_count": 35,
     "metadata": {},
     "output_type": "execute_result"
    }
   ],
   "source": [
    "pass_not_completed.epa.mean()"
   ]
  },
  {
   "cell_type": "code",
   "execution_count": 38,
   "metadata": {},
   "outputs": [
    {
     "data": {
      "text/plain": [
       "-11.372109718538999"
      ]
     },
     "execution_count": 38,
     "metadata": {},
     "output_type": "execute_result"
    }
   ],
   "source": [
    "pass_not_completed.epa.min()"
   ]
  },
  {
   "cell_type": "code",
   "execution_count": 39,
   "metadata": {},
   "outputs": [
    {
     "data": {
      "text/plain": [
       "2.3785095053919503"
      ]
     },
     "execution_count": 39,
     "metadata": {},
     "output_type": "execute_result"
    }
   ],
   "source": [
    "pass_not_completed.epa.max()"
   ]
  },
  {
   "cell_type": "code",
   "execution_count": 41,
   "metadata": {},
   "outputs": [
    {
     "name": "stderr",
     "output_type": "stream",
     "text": [
      "/usr/local/anaconda3/lib/python3.7/site-packages/seaborn/_decorators.py:43: FutureWarning: Pass the following variables as keyword args: x, y. From version 0.12, the only valid positional argument will be `data`, and passing other arguments without an explicit keyword will result in an error or misinterpretation.\n",
      "  FutureWarning\n"
     ]
    },
    {
     "data": {
      "image/png": "[encoded data removed]",
      "text/plain": [
       "<Figure size 720x432 with 1 Axes>"
      ]
     },
     "metadata": {
      "needs_background": "light"
     },
     "output_type": "display_data"
    }
   ],
   "source": [
    "plt.rc(\"figure\", figsize=(10, 6))\n",
    "sns.violinplot(train.pass_stopped, train.epa)\n",
    "plt.xlabel('')\n",
    "plt.xticks([0,1], ['Pass Completed', 'Pass Stopped'])\n",
    "plt.yticks(size = 24)\n",
    "plt.ylabel('EPA')\n",
    "plt.title(\"Are Passes Stopped dependent on EPA?\")\n",
    "plt.show()"
   ]
  },
  {
   "cell_type": "code",
   "execution_count": null,
   "metadata": {},
   "outputs": [],
   "source": []
  },
  {
   "cell_type": "code",
   "execution_count": null,
   "metadata": {},
   "outputs": [],
   "source": []
  },
  {
   "cell_type": "code",
   "execution_count": null,
   "metadata": {},
   "outputs": [],
   "source": []
  },
  {
   "cell_type": "markdown",
   "metadata": {},
   "source": [
    "# End"
   ]
  },
  {
   "cell_type": "code",
   "execution_count": null,
   "metadata": {},
   "outputs": [],
   "source": []
  }
 ],
 "metadata": {
  "kernelspec": {
   "display_name": "Python 3",
   "language": "python",
   "name": "python3"
  },
  "language_info": {
   "codemirror_mode": {
    "name": "ipython",
    "version": 3
   },
   "file_extension": ".py",
   "mimetype": "text/x-python",
   "name": "python",
   "nbconvert_exporter": "python",
   "pygments_lexer": "ipython3",
   "version": "3.7.9"
  },
  "toc": {
   "base_numbering": 1,
   "nav_menu": {},
   "number_sections": true,
   "sideBar": true,
   "skip_h1_title": false,
   "title_cell": "Table of Contents",
   "title_sidebar": "Contents",
   "toc_cell": false,
   "toc_position": {},
   "toc_section_display": true,
   "toc_window_display": false
  }
 },
 "nbformat": 4,
 "nbformat_minor": 4
}
