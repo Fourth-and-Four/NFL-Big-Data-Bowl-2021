{
 "cells": [
  {
   "cell_type": "code",
   "execution_count": 1,
   "metadata": {},
   "outputs": [
    {
     "name": "stdout",
     "output_type": "stream",
     "text": [
      "Acquire.py Loaded Successfully\n",
      "Prep.py Loaded Successfully\n"
     ]
    }
   ],
   "source": [
    "import pandas as pd\n",
    "import numpy as np\n",
    "import os\n",
    "import seaborn as sns\n",
    "from math import radians\n",
    "\n",
    "import matplotlib.pyplot as plt\n",
    "\n",
    "\n",
    "import prep_plays"
   ]
  },
  {
   "cell_type": "markdown",
   "metadata": {},
   "source": [
    "Can we figure out the distance between the nearest defender and the intended reciever?\n",
    "- Steps to go about solving this problem\n",
    "    - merging play.csv to week{number}.csv\n",
    "        - play id is only unique to game id, can concat both numbers to create a unique number\n",
    "    - using play description to find the intended receiver\n",
    "        - will be the second name in the list of names\n",
    "        - given as first initial and last name\n",
    "    - extract the name\n",
    "    - match the name given the play id\n",
    "        - the week{number}.csv gives both first and last name\n",
    "    - out of all players involved in the play, who is the closest defender"
   ]
  },
  {
   "cell_type": "markdown",
   "metadata": {},
   "source": [
    "# Creating a function for Plays and Weeks CSV"
   ]
  },
  {
   "cell_type": "markdown",
   "metadata": {},
   "source": [
    "## Function for combining week(number).csv and plays data"
   ]
  },
  {
   "cell_type": "code",
   "execution_count": 2,
   "metadata": {},
   "outputs": [
    {
     "name": "stdout",
     "output_type": "stream",
     "text": [
      "1\n",
      "2\n",
      "3\n",
      "4\n",
      "5\n",
      "6\n",
      "7\n",
      "8\n",
      "9\n",
      "10\n",
      "11\n",
      "12\n",
      "13\n",
      "14\n",
      "15\n",
      "16\n",
      "17\n"
     ]
    }
   ],
   "source": [
    "#this function filters out the data to where the only observation\n",
    "#will be the 'pass_forward' event\n",
    "prep_plays.filter_nfl_weeks()"
   ]
  },
  {
   "cell_type": "code",
   "execution_count": 3,
   "metadata": {},
   "outputs": [
    {
     "name": "stdout",
     "output_type": "stream",
     "text": [
      "1\n",
      "2\n",
      "3\n",
      "4\n",
      "5\n",
      "6\n",
      "7\n",
      "8\n",
      "9\n",
      "10\n",
      "11\n",
      "12\n",
      "13\n",
      "14\n",
      "15\n",
      "16\n",
      "17\n"
     ]
    }
   ],
   "source": [
    "#this function creates the shortest distance from the receiver \n",
    "#along with additional information\n",
    "df = prep_plays.combine_all_weeks_and_plays()"
   ]
  },
  {
   "cell_type": "code",
   "execution_count": 4,
   "metadata": {},
   "outputs": [
    {
     "data": {
      "text/html": [
       "<div>\n",
       "<style scoped>\n",
       "    .dataframe tbody tr th:only-of-type {\n",
       "        vertical-align: middle;\n",
       "    }\n",
       "\n",
       "    .dataframe tbody tr th {\n",
       "        vertical-align: top;\n",
       "    }\n",
       "\n",
       "    .dataframe thead th {\n",
       "        text-align: right;\n",
       "    }\n",
       "</style>\n",
       "<table border=\"1\" class=\"dataframe\">\n",
       "  <thead>\n",
       "    <tr style=\"text-align: right;\">\n",
       "      <th></th>\n",
       "      <th>playDescription</th>\n",
       "      <th>quarter</th>\n",
       "      <th>down</th>\n",
       "      <th>yardsToGo</th>\n",
       "      <th>team_by_comp_yds</th>\n",
       "      <th>defendersInTheBox</th>\n",
       "      <th>numberOfPassRushers</th>\n",
       "      <th>QB_under_pressure</th>\n",
       "      <th>gameClock</th>\n",
       "      <th>absoluteYardlineNumber</th>\n",
       "      <th>...</th>\n",
       "      <th>four_three</th>\n",
       "      <th>three_four</th>\n",
       "      <th>nickel</th>\n",
       "      <th>dime</th>\n",
       "      <th>playid</th>\n",
       "      <th>closest_dist</th>\n",
       "      <th>closest_x</th>\n",
       "      <th>closest_y</th>\n",
       "      <th>defender_receiver</th>\n",
       "      <th>week</th>\n",
       "    </tr>\n",
       "  </thead>\n",
       "  <tbody>\n",
       "    <tr>\n",
       "      <th>0</th>\n",
       "      <td>(15:00) M.Ryan pass short right to J.Jones pus...</td>\n",
       "      <td>1</td>\n",
       "      <td>1</td>\n",
       "      <td>15</td>\n",
       "      <td>3</td>\n",
       "      <td>7.0</td>\n",
       "      <td>4.0</td>\n",
       "      <td>0.0</td>\n",
       "      <td>15:00:00</td>\n",
       "      <td>90.0</td>\n",
       "      <td>...</td>\n",
       "      <td>0</td>\n",
       "      <td>0</td>\n",
       "      <td>1</td>\n",
       "      <td>0</td>\n",
       "      <td>201809060075</td>\n",
       "      <td>4.16005</td>\n",
       "      <td>76.53</td>\n",
       "      <td>44.93</td>\n",
       "      <td>Jalen Mills</td>\n",
       "      <td>1</td>\n",
       "    </tr>\n",
       "    <tr>\n",
       "      <th>1</th>\n",
       "      <td>(13:10) M.Ryan pass incomplete short right to ...</td>\n",
       "      <td>1</td>\n",
       "      <td>1</td>\n",
       "      <td>10</td>\n",
       "      <td>3</td>\n",
       "      <td>7.0</td>\n",
       "      <td>4.0</td>\n",
       "      <td>0.0</td>\n",
       "      <td>13:10:00</td>\n",
       "      <td>49.0</td>\n",
       "      <td>...</td>\n",
       "      <td>0</td>\n",
       "      <td>0</td>\n",
       "      <td>1</td>\n",
       "      <td>0</td>\n",
       "      <td>2018090600146</td>\n",
       "      <td>4.24323</td>\n",
       "      <td>46.18</td>\n",
       "      <td>41.1</td>\n",
       "      <td>Malcolm Jenkins</td>\n",
       "      <td>1</td>\n",
       "    </tr>\n",
       "    <tr>\n",
       "      <th>2</th>\n",
       "      <td>(13:05) (Shotgun) M.Ryan pass incomplete short...</td>\n",
       "      <td>1</td>\n",
       "      <td>2</td>\n",
       "      <td>10</td>\n",
       "      <td>3</td>\n",
       "      <td>6.0</td>\n",
       "      <td>4.0</td>\n",
       "      <td>0.0</td>\n",
       "      <td>13:05:00</td>\n",
       "      <td>49.0</td>\n",
       "      <td>...</td>\n",
       "      <td>0</td>\n",
       "      <td>0</td>\n",
       "      <td>1</td>\n",
       "      <td>0</td>\n",
       "      <td>2018090600168</td>\n",
       "      <td>5.33835</td>\n",
       "      <td>46.59</td>\n",
       "      <td>12.67</td>\n",
       "      <td>Sidney Jones</td>\n",
       "      <td>1</td>\n",
       "    </tr>\n",
       "    <tr>\n",
       "      <th>3</th>\n",
       "      <td>(13:01) (Shotgun) M.Ryan pass deep left to J.J...</td>\n",
       "      <td>1</td>\n",
       "      <td>3</td>\n",
       "      <td>10</td>\n",
       "      <td>3</td>\n",
       "      <td>6.0</td>\n",
       "      <td>5.0</td>\n",
       "      <td>1.0</td>\n",
       "      <td>13:01:00</td>\n",
       "      <td>49.0</td>\n",
       "      <td>...</td>\n",
       "      <td>0</td>\n",
       "      <td>0</td>\n",
       "      <td>0</td>\n",
       "      <td>1</td>\n",
       "      <td>2018090600190</td>\n",
       "      <td>4.24322</td>\n",
       "      <td>39.77</td>\n",
       "      <td>22.27</td>\n",
       "      <td>Malcolm Jenkins</td>\n",
       "      <td>1</td>\n",
       "    </tr>\n",
       "    <tr>\n",
       "      <th>4</th>\n",
       "      <td>(10:59) (Shotgun) M.Ryan pass incomplete short...</td>\n",
       "      <td>1</td>\n",
       "      <td>3</td>\n",
       "      <td>1</td>\n",
       "      <td>3</td>\n",
       "      <td>8.0</td>\n",
       "      <td>6.0</td>\n",
       "      <td>0.0</td>\n",
       "      <td>10:59:00</td>\n",
       "      <td>11.0</td>\n",
       "      <td>...</td>\n",
       "      <td>0</td>\n",
       "      <td>0</td>\n",
       "      <td>0</td>\n",
       "      <td>0</td>\n",
       "      <td>2018090600256</td>\n",
       "      <td>2.12438</td>\n",
       "      <td>8.2</td>\n",
       "      <td>33.31</td>\n",
       "      <td>Nate Gerry</td>\n",
       "      <td>1</td>\n",
       "    </tr>\n",
       "    <tr>\n",
       "      <th>...</th>\n",
       "      <td>...</td>\n",
       "      <td>...</td>\n",
       "      <td>...</td>\n",
       "      <td>...</td>\n",
       "      <td>...</td>\n",
       "      <td>...</td>\n",
       "      <td>...</td>\n",
       "      <td>...</td>\n",
       "      <td>...</td>\n",
       "      <td>...</td>\n",
       "      <td>...</td>\n",
       "      <td>...</td>\n",
       "      <td>...</td>\n",
       "      <td>...</td>\n",
       "      <td>...</td>\n",
       "      <td>...</td>\n",
       "      <td>...</td>\n",
       "      <td>...</td>\n",
       "      <td>...</td>\n",
       "      <td>...</td>\n",
       "      <td>...</td>\n",
       "    </tr>\n",
       "    <tr>\n",
       "      <th>16820</th>\n",
       "      <td>(2:19) (Shotgun) P.Rivers pass short right to ...</td>\n",
       "      <td>4</td>\n",
       "      <td>2</td>\n",
       "      <td>2</td>\n",
       "      <td>19</td>\n",
       "      <td>6.0</td>\n",
       "      <td>4.0</td>\n",
       "      <td>0.0</td>\n",
       "      <td>02:19:00</td>\n",
       "      <td>77.0</td>\n",
       "      <td>...</td>\n",
       "      <td>0</td>\n",
       "      <td>0</td>\n",
       "      <td>1</td>\n",
       "      <td>0</td>\n",
       "      <td>20181222013842</td>\n",
       "      <td>4.7633</td>\n",
       "      <td>70.56</td>\n",
       "      <td>36.45</td>\n",
       "      <td>Brandon Carr</td>\n",
       "      <td>16</td>\n",
       "    </tr>\n",
       "    <tr>\n",
       "      <th>16821</th>\n",
       "      <td>(2:00) (Shotgun) P.Rivers pass short left to K...</td>\n",
       "      <td>4</td>\n",
       "      <td>1</td>\n",
       "      <td>10</td>\n",
       "      <td>19</td>\n",
       "      <td>4.0</td>\n",
       "      <td>5.0</td>\n",
       "      <td>0.0</td>\n",
       "      <td>02:00:00</td>\n",
       "      <td>70.0</td>\n",
       "      <td>...</td>\n",
       "      <td>0</td>\n",
       "      <td>0</td>\n",
       "      <td>0</td>\n",
       "      <td>1</td>\n",
       "      <td>20181222013884</td>\n",
       "      <td>2.07617</td>\n",
       "      <td>56.12</td>\n",
       "      <td>11.13</td>\n",
       "      <td>Jimmy Smith</td>\n",
       "      <td>16</td>\n",
       "    </tr>\n",
       "    <tr>\n",
       "      <th>16822</th>\n",
       "      <td>(1:41) (Shotgun) P.Rivers pass incomplete shor...</td>\n",
       "      <td>4</td>\n",
       "      <td>1</td>\n",
       "      <td>10</td>\n",
       "      <td>19</td>\n",
       "      <td>5.0</td>\n",
       "      <td>5.0</td>\n",
       "      <td>0.0</td>\n",
       "      <td>01:41:00</td>\n",
       "      <td>53.0</td>\n",
       "      <td>...</td>\n",
       "      <td>0</td>\n",
       "      <td>0</td>\n",
       "      <td>0</td>\n",
       "      <td>1</td>\n",
       "      <td>20181222013909</td>\n",
       "      <td>0</td>\n",
       "      <td>0</td>\n",
       "      <td>0</td>\n",
       "      <td>unknown</td>\n",
       "      <td>16</td>\n",
       "    </tr>\n",
       "    <tr>\n",
       "      <th>16823</th>\n",
       "      <td>(1:37) (Shotgun) P.Rivers pass incomplete deep...</td>\n",
       "      <td>4</td>\n",
       "      <td>2</td>\n",
       "      <td>10</td>\n",
       "      <td>19</td>\n",
       "      <td>4.0</td>\n",
       "      <td>4.0</td>\n",
       "      <td>0.0</td>\n",
       "      <td>01:37:00</td>\n",
       "      <td>53.0</td>\n",
       "      <td>...</td>\n",
       "      <td>0</td>\n",
       "      <td>0</td>\n",
       "      <td>0</td>\n",
       "      <td>1</td>\n",
       "      <td>20181222013931</td>\n",
       "      <td>2.74168</td>\n",
       "      <td>42.5</td>\n",
       "      <td>12.68</td>\n",
       "      <td>Brandon Carr</td>\n",
       "      <td>16</td>\n",
       "    </tr>\n",
       "    <tr>\n",
       "      <th>16824</th>\n",
       "      <td>(1:31) (Shotgun) P.Rivers pass deep middle int...</td>\n",
       "      <td>4</td>\n",
       "      <td>3</td>\n",
       "      <td>10</td>\n",
       "      <td>19</td>\n",
       "      <td>6.0</td>\n",
       "      <td>4.0</td>\n",
       "      <td>0.0</td>\n",
       "      <td>01:31:00</td>\n",
       "      <td>53.0</td>\n",
       "      <td>...</td>\n",
       "      <td>0</td>\n",
       "      <td>0</td>\n",
       "      <td>0</td>\n",
       "      <td>1</td>\n",
       "      <td>20181222013953</td>\n",
       "      <td>1.35281</td>\n",
       "      <td>35.59</td>\n",
       "      <td>40.24</td>\n",
       "      <td>Marlon Humphrey</td>\n",
       "      <td>16</td>\n",
       "    </tr>\n",
       "  </tbody>\n",
       "</table>\n",
       "<p>16825 rows × 36 columns</p>\n",
       "</div>"
      ],
      "text/plain": [
       "                                         playDescription  quarter  down  \\\n",
       "0      (15:00) M.Ryan pass short right to J.Jones pus...        1     1   \n",
       "1      (13:10) M.Ryan pass incomplete short right to ...        1     1   \n",
       "2      (13:05) (Shotgun) M.Ryan pass incomplete short...        1     2   \n",
       "3      (13:01) (Shotgun) M.Ryan pass deep left to J.J...        1     3   \n",
       "4      (10:59) (Shotgun) M.Ryan pass incomplete short...        1     3   \n",
       "...                                                  ...      ...   ...   \n",
       "16820  (2:19) (Shotgun) P.Rivers pass short right to ...        4     2   \n",
       "16821  (2:00) (Shotgun) P.Rivers pass short left to K...        4     1   \n",
       "16822  (1:41) (Shotgun) P.Rivers pass incomplete shor...        4     1   \n",
       "16823  (1:37) (Shotgun) P.Rivers pass incomplete deep...        4     2   \n",
       "16824  (1:31) (Shotgun) P.Rivers pass deep middle int...        4     3   \n",
       "\n",
       "       yardsToGo  team_by_comp_yds  defendersInTheBox  numberOfPassRushers  \\\n",
       "0             15                 3                7.0                  4.0   \n",
       "1             10                 3                7.0                  4.0   \n",
       "2             10                 3                6.0                  4.0   \n",
       "3             10                 3                6.0                  5.0   \n",
       "4              1                 3                8.0                  6.0   \n",
       "...          ...               ...                ...                  ...   \n",
       "16820          2                19                6.0                  4.0   \n",
       "16821         10                19                4.0                  5.0   \n",
       "16822         10                19                5.0                  5.0   \n",
       "16823         10                19                4.0                  4.0   \n",
       "16824         10                19                6.0                  4.0   \n",
       "\n",
       "      QB_under_pressure gameClock  absoluteYardlineNumber  ...  four_three  \\\n",
       "0                   0.0  15:00:00                    90.0  ...           0   \n",
       "1                   0.0  13:10:00                    49.0  ...           0   \n",
       "2                   0.0  13:05:00                    49.0  ...           0   \n",
       "3                   1.0  13:01:00                    49.0  ...           0   \n",
       "4                   0.0  10:59:00                    11.0  ...           0   \n",
       "...                 ...       ...                     ...  ...         ...   \n",
       "16820               0.0  02:19:00                    77.0  ...           0   \n",
       "16821               0.0  02:00:00                    70.0  ...           0   \n",
       "16822               0.0  01:41:00                    53.0  ...           0   \n",
       "16823               0.0  01:37:00                    53.0  ...           0   \n",
       "16824               0.0  01:31:00                    53.0  ...           0   \n",
       "\n",
       "       three_four  nickel dime          playid closest_dist  closest_x  \\\n",
       "0               0       1    0    201809060075      4.16005      76.53   \n",
       "1               0       1    0   2018090600146      4.24323      46.18   \n",
       "2               0       1    0   2018090600168      5.33835      46.59   \n",
       "3               0       0    1   2018090600190      4.24322      39.77   \n",
       "4               0       0    0   2018090600256      2.12438        8.2   \n",
       "...           ...     ...  ...             ...          ...        ...   \n",
       "16820           0       1    0  20181222013842       4.7633      70.56   \n",
       "16821           0       0    1  20181222013884      2.07617      56.12   \n",
       "16822           0       0    1  20181222013909            0          0   \n",
       "16823           0       0    1  20181222013931      2.74168       42.5   \n",
       "16824           0       0    1  20181222013953      1.35281      35.59   \n",
       "\n",
       "       closest_y  defender_receiver  week  \n",
       "0          44.93        Jalen Mills     1  \n",
       "1           41.1    Malcolm Jenkins     1  \n",
       "2          12.67       Sidney Jones     1  \n",
       "3          22.27    Malcolm Jenkins     1  \n",
       "4          33.31         Nate Gerry     1  \n",
       "...          ...                ...   ...  \n",
       "16820      36.45       Brandon Carr    16  \n",
       "16821      11.13        Jimmy Smith    16  \n",
       "16822          0            unknown    16  \n",
       "16823      12.68       Brandon Carr    16  \n",
       "16824      40.24    Marlon Humphrey    16  \n",
       "\n",
       "[16825 rows x 36 columns]"
      ]
     },
     "execution_count": 4,
     "metadata": {},
     "output_type": "execute_result"
    }
   ],
   "source": [
    "df"
   ]
  },
  {
   "cell_type": "markdown",
   "metadata": {},
   "source": [
    "The original dataframe had a little over 17,000 rows so we lost roughly 200 data points"
   ]
  },
  {
   "cell_type": "markdown",
   "metadata": {},
   "source": [
    "Some receivers are unlabeled and have created \"null values\""
   ]
  },
  {
   "cell_type": "code",
   "execution_count": 6,
   "metadata": {},
   "outputs": [
    {
     "data": {
      "text/html": [
       "<div>\n",
       "<style scoped>\n",
       "    .dataframe tbody tr th:only-of-type {\n",
       "        vertical-align: middle;\n",
       "    }\n",
       "\n",
       "    .dataframe tbody tr th {\n",
       "        vertical-align: top;\n",
       "    }\n",
       "\n",
       "    .dataframe thead th {\n",
       "        text-align: right;\n",
       "    }\n",
       "</style>\n",
       "<table border=\"1\" class=\"dataframe\">\n",
       "  <thead>\n",
       "    <tr style=\"text-align: right;\">\n",
       "      <th></th>\n",
       "      <th>playDescription</th>\n",
       "      <th>quarter</th>\n",
       "      <th>down</th>\n",
       "      <th>yardsToGo</th>\n",
       "      <th>team_by_comp_yds</th>\n",
       "      <th>defendersInTheBox</th>\n",
       "      <th>numberOfPassRushers</th>\n",
       "      <th>QB_under_pressure</th>\n",
       "      <th>gameClock</th>\n",
       "      <th>absoluteYardlineNumber</th>\n",
       "      <th>...</th>\n",
       "      <th>four_three</th>\n",
       "      <th>three_four</th>\n",
       "      <th>nickel</th>\n",
       "      <th>dime</th>\n",
       "      <th>playid</th>\n",
       "      <th>closest_dist</th>\n",
       "      <th>closest_x</th>\n",
       "      <th>closest_y</th>\n",
       "      <th>defender_receiver</th>\n",
       "      <th>week</th>\n",
       "    </tr>\n",
       "  </thead>\n",
       "  <tbody>\n",
       "    <tr>\n",
       "      <th>10</th>\n",
       "      <td>(5:38) M.Ryan pass incomplete short left.</td>\n",
       "      <td>1</td>\n",
       "      <td>2</td>\n",
       "      <td>7</td>\n",
       "      <td>3</td>\n",
       "      <td>7.0</td>\n",
       "      <td>4.0</td>\n",
       "      <td>0.0</td>\n",
       "      <td>05:38:00</td>\n",
       "      <td>17.0</td>\n",
       "      <td>...</td>\n",
       "      <td>0</td>\n",
       "      <td>0</td>\n",
       "      <td>1</td>\n",
       "      <td>0</td>\n",
       "      <td>2018090600545</td>\n",
       "      <td>0</td>\n",
       "      <td>0</td>\n",
       "      <td>0</td>\n",
       "      <td>unknown</td>\n",
       "      <td>1</td>\n",
       "    </tr>\n",
       "    <tr>\n",
       "      <th>73</th>\n",
       "      <td>(:24) (Shotgun) M.Ryan pass incomplete short r...</td>\n",
       "      <td>4</td>\n",
       "      <td>1</td>\n",
       "      <td>10</td>\n",
       "      <td>3</td>\n",
       "      <td>6.0</td>\n",
       "      <td>4.0</td>\n",
       "      <td>1.0</td>\n",
       "      <td>00:24:00</td>\n",
       "      <td>20.0</td>\n",
       "      <td>...</td>\n",
       "      <td>0</td>\n",
       "      <td>0</td>\n",
       "      <td>0</td>\n",
       "      <td>1</td>\n",
       "      <td>20180906004366</td>\n",
       "      <td>0</td>\n",
       "      <td>0</td>\n",
       "      <td>0</td>\n",
       "      <td>unknown</td>\n",
       "      <td>1</td>\n",
       "    </tr>\n",
       "    <tr>\n",
       "      <th>75</th>\n",
       "      <td>(:11) (Shotgun) M.Ryan pass incomplete short r...</td>\n",
       "      <td>4</td>\n",
       "      <td>3</td>\n",
       "      <td>10</td>\n",
       "      <td>3</td>\n",
       "      <td>6.0</td>\n",
       "      <td>4.0</td>\n",
       "      <td>0.0</td>\n",
       "      <td>00:11:00</td>\n",
       "      <td>20.0</td>\n",
       "      <td>...</td>\n",
       "      <td>0</td>\n",
       "      <td>0</td>\n",
       "      <td>0</td>\n",
       "      <td>1</td>\n",
       "      <td>20180906004417</td>\n",
       "      <td>0</td>\n",
       "      <td>0</td>\n",
       "      <td>0</td>\n",
       "      <td>unknown</td>\n",
       "      <td>1</td>\n",
       "    </tr>\n",
       "    <tr>\n",
       "      <th>98</th>\n",
       "      <td>(10:03) (Shotgun) T.Taylor pass incomplete sho...</td>\n",
       "      <td>2</td>\n",
       "      <td>1</td>\n",
       "      <td>10</td>\n",
       "      <td>11</td>\n",
       "      <td>6.0</td>\n",
       "      <td>4.0</td>\n",
       "      <td>1.0</td>\n",
       "      <td>10:03:00</td>\n",
       "      <td>67.0</td>\n",
       "      <td>...</td>\n",
       "      <td>0</td>\n",
       "      <td>0</td>\n",
       "      <td>1</td>\n",
       "      <td>0</td>\n",
       "      <td>20180909011330</td>\n",
       "      <td>0</td>\n",
       "      <td>0</td>\n",
       "      <td>0</td>\n",
       "      <td>unknown</td>\n",
       "      <td>1</td>\n",
       "    </tr>\n",
       "    <tr>\n",
       "      <th>287</th>\n",
       "      <td>(8:12) B.Gabbert pass incomplete short right t...</td>\n",
       "      <td>4</td>\n",
       "      <td>2</td>\n",
       "      <td>3</td>\n",
       "      <td>29</td>\n",
       "      <td>8.0</td>\n",
       "      <td>4.0</td>\n",
       "      <td>1.0</td>\n",
       "      <td>08:12:00</td>\n",
       "      <td>60.0</td>\n",
       "      <td>...</td>\n",
       "      <td>1</td>\n",
       "      <td>0</td>\n",
       "      <td>0</td>\n",
       "      <td>0</td>\n",
       "      <td>20180909033485</td>\n",
       "      <td>0</td>\n",
       "      <td>0</td>\n",
       "      <td>0</td>\n",
       "      <td>unknown</td>\n",
       "      <td>1</td>\n",
       "    </tr>\n",
       "    <tr>\n",
       "      <th>...</th>\n",
       "      <td>...</td>\n",
       "      <td>...</td>\n",
       "      <td>...</td>\n",
       "      <td>...</td>\n",
       "      <td>...</td>\n",
       "      <td>...</td>\n",
       "      <td>...</td>\n",
       "      <td>...</td>\n",
       "      <td>...</td>\n",
       "      <td>...</td>\n",
       "      <td>...</td>\n",
       "      <td>...</td>\n",
       "      <td>...</td>\n",
       "      <td>...</td>\n",
       "      <td>...</td>\n",
       "      <td>...</td>\n",
       "      <td>...</td>\n",
       "      <td>...</td>\n",
       "      <td>...</td>\n",
       "      <td>...</td>\n",
       "      <td>...</td>\n",
       "    </tr>\n",
       "    <tr>\n",
       "      <th>16738</th>\n",
       "      <td>(2:01) M.Mariota pass incomplete short right [...</td>\n",
       "      <td>2</td>\n",
       "      <td>2</td>\n",
       "      <td>4</td>\n",
       "      <td>29</td>\n",
       "      <td>7.0</td>\n",
       "      <td>4.0</td>\n",
       "      <td>0.0</td>\n",
       "      <td>02:01:00</td>\n",
       "      <td>52.0</td>\n",
       "      <td>...</td>\n",
       "      <td>0</td>\n",
       "      <td>0</td>\n",
       "      <td>1</td>\n",
       "      <td>0</td>\n",
       "      <td>20181222001560</td>\n",
       "      <td>0</td>\n",
       "      <td>0</td>\n",
       "      <td>0</td>\n",
       "      <td>unknown</td>\n",
       "      <td>16</td>\n",
       "    </tr>\n",
       "    <tr>\n",
       "      <th>16745</th>\n",
       "      <td>(11:33) B.Gabbert pass incomplete short right.</td>\n",
       "      <td>3</td>\n",
       "      <td>1</td>\n",
       "      <td>10</td>\n",
       "      <td>29</td>\n",
       "      <td>7.0</td>\n",
       "      <td>6.0</td>\n",
       "      <td>1.0</td>\n",
       "      <td>11:33:00</td>\n",
       "      <td>61.0</td>\n",
       "      <td>...</td>\n",
       "      <td>0</td>\n",
       "      <td>0</td>\n",
       "      <td>1</td>\n",
       "      <td>0</td>\n",
       "      <td>20181222002073</td>\n",
       "      <td>0</td>\n",
       "      <td>0</td>\n",
       "      <td>0</td>\n",
       "      <td>unknown</td>\n",
       "      <td>16</td>\n",
       "    </tr>\n",
       "    <tr>\n",
       "      <th>16791</th>\n",
       "      <td>(:55) P.Rivers pass incomplete short left.</td>\n",
       "      <td>2</td>\n",
       "      <td>2</td>\n",
       "      <td>10</td>\n",
       "      <td>19</td>\n",
       "      <td>6.0</td>\n",
       "      <td>4.0</td>\n",
       "      <td>0.0</td>\n",
       "      <td>00:55:00</td>\n",
       "      <td>90.0</td>\n",
       "      <td>...</td>\n",
       "      <td>0</td>\n",
       "      <td>0</td>\n",
       "      <td>0</td>\n",
       "      <td>1</td>\n",
       "      <td>20181222011810</td>\n",
       "      <td>0</td>\n",
       "      <td>0</td>\n",
       "      <td>0</td>\n",
       "      <td>unknown</td>\n",
       "      <td>16</td>\n",
       "    </tr>\n",
       "    <tr>\n",
       "      <th>16813</th>\n",
       "      <td>(10:59) (Shotgun) P.Rivers pass short left to ...</td>\n",
       "      <td>4</td>\n",
       "      <td>3</td>\n",
       "      <td>6</td>\n",
       "      <td>19</td>\n",
       "      <td>5.0</td>\n",
       "      <td>5.0</td>\n",
       "      <td>0.0</td>\n",
       "      <td>10:59:00</td>\n",
       "      <td>80.0</td>\n",
       "      <td>...</td>\n",
       "      <td>0</td>\n",
       "      <td>0</td>\n",
       "      <td>0</td>\n",
       "      <td>1</td>\n",
       "      <td>20181222013351</td>\n",
       "      <td>0</td>\n",
       "      <td>0</td>\n",
       "      <td>0</td>\n",
       "      <td>unknown</td>\n",
       "      <td>16</td>\n",
       "    </tr>\n",
       "    <tr>\n",
       "      <th>16822</th>\n",
       "      <td>(1:41) (Shotgun) P.Rivers pass incomplete shor...</td>\n",
       "      <td>4</td>\n",
       "      <td>1</td>\n",
       "      <td>10</td>\n",
       "      <td>19</td>\n",
       "      <td>5.0</td>\n",
       "      <td>5.0</td>\n",
       "      <td>0.0</td>\n",
       "      <td>01:41:00</td>\n",
       "      <td>53.0</td>\n",
       "      <td>...</td>\n",
       "      <td>0</td>\n",
       "      <td>0</td>\n",
       "      <td>0</td>\n",
       "      <td>1</td>\n",
       "      <td>20181222013909</td>\n",
       "      <td>0</td>\n",
       "      <td>0</td>\n",
       "      <td>0</td>\n",
       "      <td>unknown</td>\n",
       "      <td>16</td>\n",
       "    </tr>\n",
       "  </tbody>\n",
       "</table>\n",
       "<p>811 rows × 36 columns</p>\n",
       "</div>"
      ],
      "text/plain": [
       "                                         playDescription  quarter  down  \\\n",
       "10             (5:38) M.Ryan pass incomplete short left.        1     2   \n",
       "73     (:24) (Shotgun) M.Ryan pass incomplete short r...        4     1   \n",
       "75     (:11) (Shotgun) M.Ryan pass incomplete short r...        4     3   \n",
       "98     (10:03) (Shotgun) T.Taylor pass incomplete sho...        2     1   \n",
       "287    (8:12) B.Gabbert pass incomplete short right t...        4     2   \n",
       "...                                                  ...      ...   ...   \n",
       "16738  (2:01) M.Mariota pass incomplete short right [...        2     2   \n",
       "16745     (11:33) B.Gabbert pass incomplete short right.        3     1   \n",
       "16791         (:55) P.Rivers pass incomplete short left.        2     2   \n",
       "16813  (10:59) (Shotgun) P.Rivers pass short left to ...        4     3   \n",
       "16822  (1:41) (Shotgun) P.Rivers pass incomplete shor...        4     1   \n",
       "\n",
       "       yardsToGo  team_by_comp_yds  defendersInTheBox  numberOfPassRushers  \\\n",
       "10             7                 3                7.0                  4.0   \n",
       "73            10                 3                6.0                  4.0   \n",
       "75            10                 3                6.0                  4.0   \n",
       "98            10                11                6.0                  4.0   \n",
       "287            3                29                8.0                  4.0   \n",
       "...          ...               ...                ...                  ...   \n",
       "16738          4                29                7.0                  4.0   \n",
       "16745         10                29                7.0                  6.0   \n",
       "16791         10                19                6.0                  4.0   \n",
       "16813          6                19                5.0                  5.0   \n",
       "16822         10                19                5.0                  5.0   \n",
       "\n",
       "      QB_under_pressure gameClock  absoluteYardlineNumber  ...  four_three  \\\n",
       "10                  0.0  05:38:00                    17.0  ...           0   \n",
       "73                  1.0  00:24:00                    20.0  ...           0   \n",
       "75                  0.0  00:11:00                    20.0  ...           0   \n",
       "98                  1.0  10:03:00                    67.0  ...           0   \n",
       "287                 1.0  08:12:00                    60.0  ...           1   \n",
       "...                 ...       ...                     ...  ...         ...   \n",
       "16738               0.0  02:01:00                    52.0  ...           0   \n",
       "16745               1.0  11:33:00                    61.0  ...           0   \n",
       "16791               0.0  00:55:00                    90.0  ...           0   \n",
       "16813               0.0  10:59:00                    80.0  ...           0   \n",
       "16822               0.0  01:41:00                    53.0  ...           0   \n",
       "\n",
       "       three_four  nickel dime          playid closest_dist  closest_x  \\\n",
       "10              0       1    0   2018090600545            0          0   \n",
       "73              0       0    1  20180906004366            0          0   \n",
       "75              0       0    1  20180906004417            0          0   \n",
       "98              0       1    0  20180909011330            0          0   \n",
       "287             0       0    0  20180909033485            0          0   \n",
       "...           ...     ...  ...             ...          ...        ...   \n",
       "16738           0       1    0  20181222001560            0          0   \n",
       "16745           0       1    0  20181222002073            0          0   \n",
       "16791           0       0    1  20181222011810            0          0   \n",
       "16813           0       0    1  20181222013351            0          0   \n",
       "16822           0       0    1  20181222013909            0          0   \n",
       "\n",
       "       closest_y  defender_receiver  week  \n",
       "10             0            unknown     1  \n",
       "73             0            unknown     1  \n",
       "75             0            unknown     1  \n",
       "98             0            unknown     1  \n",
       "287            0            unknown     1  \n",
       "...          ...                ...   ...  \n",
       "16738          0            unknown    16  \n",
       "16745          0            unknown    16  \n",
       "16791          0            unknown    16  \n",
       "16813          0            unknown    16  \n",
       "16822          0            unknown    16  \n",
       "\n",
       "[811 rows x 36 columns]"
      ]
     },
     "execution_count": 6,
     "metadata": {},
     "output_type": "execute_result"
    }
   ],
   "source": [
    "# a little over 800 \"null values\"\n",
    "# we can leave them as is or fill them in with the mean/median\n",
    "# this needs to be done after we train, validate and test split\n",
    "df[df.closest_dist == 0]"
   ]
  },
  {
   "cell_type": "markdown",
   "metadata": {
    "heading_collapsed": true
   },
   "source": [
    "## checking null values from combine week_and_plays function"
   ]
  },
  {
   "cell_type": "markdown",
   "metadata": {
    "heading_collapsed": true,
    "hidden": true
   },
   "source": [
    "###checking null values\n",
    "newdf[newdf.closest_x == 0]"
   ]
  },
  {
   "cell_type": "markdown",
   "metadata": {
    "hidden": true
   },
   "source": [
    "**From week 1, these plays have no information on them because of the following**\n",
    "these plays have no intended receiver(15)\n",
    "- 2018090600545\t\n",
    "- 20180906004366\n",
    "- 20180906004417\n",
    "- 20180909011330\n",
    "- 20180909003607\n",
    "- 20180909003702\n",
    "- 20180909073055\n",
    "- 20180909063808\n",
    "- 2018090909249\n",
    "- 2018090910477\n",
    "- 20180909122115\n",
    "- 20180909122519\t\n",
    "- 2018091000175\n",
    "- 20180910012575\t\n",
    "- 20180910013099\n",
    "\n",
    "these plays mislabeled the intended receiver\n",
    "- 20180909033485\n",
    "- 20180909034028\n",
    "- 20180909034072\n",
    "    - J.Smith(3)\n",
    "    - this was changed to J.Smith-Schuster because he gets more reception and is less of a loss\n",
    "\n",
    "- 20180909072787\n",
    "- 20180909073716\n",
    "    - J.O'Shaughnessy(2)\n",
    "    - labeled as None"
   ]
  },
  {
   "cell_type": "markdown",
   "metadata": {
    "heading_collapsed": true,
    "hidden": true
   },
   "source": [
    "###checking plays above\n",
    "xyz = df[df.playid == '20180909073716']"
   ]
  },
  {
   "cell_type": "markdown",
   "metadata": {
    "heading_collapsed": true,
    "hidden": true
   },
   "source": [
    "###obtaining play description\n",
    "#must insert correct quarterback\n",
    "xyz.loc[xyz.displayName == \"Tom Brady\"].T"
   ]
  },
  {
   "cell_type": "markdown",
   "metadata": {
    "heading_collapsed": true,
    "hidden": true
   },
   "source": [
    "###comparing names of last two rows shown\n",
    "xyz.T"
   ]
  },
  {
   "cell_type": "markdown",
   "metadata": {},
   "source": [
    "# Football Field Demo"
   ]
  },
  {
   "cell_type": "markdown",
   "metadata": {
    "heading_collapsed": true
   },
   "source": [
    "## Library and Function for Field"
   ]
  },
  {
   "cell_type": "code",
   "execution_count": null,
   "metadata": {
    "hidden": true
   },
   "outputs": [],
   "source": [
    "import pandas as pd\n",
    "import plotly.express as px\n",
    "import matplotlib.pyplot as plt\n",
    "import plotly.graph_objects as go\n",
    "import plotly"
   ]
  },
  {
   "cell_type": "code",
   "execution_count": null,
   "metadata": {
    "hidden": true
   },
   "outputs": [],
   "source": [
    "def create_animation(week_number,play_id):\n",
    "    df = pd.read_csv('week'+ str(week_number) +'.csv')\n",
    "    dd=df[(df.playId==play_id)]\n",
    "    times = dd.time.unique()\n",
    "    time_slice = times[0:500:5]\n",
    "    df = dd[dd.time.isin(time_slice)]\n",
    "                     \n",
    "    colorsIdx = {'home': 'red', 'away': 'blue', 'football': 'orange'}\n",
    "    fig = px.scatter(df, x='x', y='y', color='team', text='jerseyNumber', animation_frame='time', \n",
    "                     color_discrete_map=colorsIdx,\n",
    "                     range_x=[-10, 110],range_y=[-10, 53.3],\n",
    "                     hover_data=['displayName', 'position', 's', 'a', 'dis', 'o', 'playDirection']\n",
    "                    )\n",
    "    fig.update_traces(marker_size=20)\n",
    "    \n",
    "    fig.update_layout(paper_bgcolor='#29a500', plot_bgcolor='#29a500', font_color='white',\n",
    "        width = 800,\n",
    "        height = 600,\n",
    "        title = \"\",\n",
    "        \n",
    "        xaxis = dict(\n",
    "        nticks = 10,\n",
    "        title = \"\",\n",
    "        visible=False\n",
    "        ),\n",
    "        \n",
    "        yaxis = dict(\n",
    "        scaleanchor = \"x\",\n",
    "        title = \"Temp\",\n",
    "        visible=False\n",
    "        ),\n",
    "        showlegend= True,\n",
    "  \n",
    "        annotations=[\n",
    "       dict(\n",
    "            x=-5,\n",
    "            y=12,\n",
    "            xref=\"x\",\n",
    "            yref=\"y\",\n",
    "            text=\"HOME ENDZONE\",\n",
    "            font=dict(size=16,color=\"#e9ece7\"),\n",
    "            align='center',\n",
    "            showarrow=False,\n",
    "            yanchor='bottom',\n",
    "            textangle=-90\n",
    "        ),\n",
    "        dict(\n",
    "            x=105,\n",
    "            y=10,\n",
    "            xref=\"x\",\n",
    "            yref=\"y\",\n",
    "            text=\"VISITOR ENDZONE\",\n",
    "            font=dict(size=16,color=\"#e9ece7\"),\n",
    "            align='center',\n",
    "            showarrow=False,\n",
    "            yanchor='bottom',\n",
    "            textangle=90\n",
    "        )]  \n",
    "        ,\n",
    "        legend=dict(\n",
    "        traceorder=\"normal\",\n",
    "        font=dict(family=\"sans-serif\",size=12),\n",
    "        title = \"\",\n",
    "        orientation=\"h\",\n",
    "        yanchor=\"bottom\",\n",
    "        y=1.00,\n",
    "        xanchor=\"center\",\n",
    "        x=0.5\n",
    "        ),\n",
    "    )\n",
    "    ####################################################\n",
    "        \n",
    "    fig.add_shape(type=\"rect\", x0=-10, x1=0,  y0=0, y1=53.3,line=dict(color=\"#c8ddc0\",width=3),fillcolor=\"#217b00\" ,layer=\"below\")\n",
    "    fig.add_shape(type=\"rect\", x0=100, x1=110, y0=0, y1=53.3,line=dict(color=\"#c8ddc0\",width=3),fillcolor=\"#217b00\" ,layer=\"below\")\n",
    "    for x in range(0, 100, 10):\n",
    "        fig.add_shape(type=\"rect\", x0=x,   x1=x+10, y0=0, y1=53.3,line=dict(color=\"#c8ddc0\",width=3),fillcolor=\"#29a500\" ,layer=\"below\")\n",
    "    for x in range(0, 100, 1):\n",
    "        fig.add_shape(type=\"line\",x0=x, y0=1, x1=x, y1=2,line=dict(color=\"#c8ddc0\",width=2),layer=\"below\")\n",
    "    for x in range(0, 100, 1):\n",
    "        fig.add_shape(type=\"line\",x0=x, y0=51.3, x1=x, y1=52.3,line=dict(color=\"#c8ddc0\",width=2),layer=\"below\")\n",
    "    \n",
    "    for x in range(0, 100, 1):\n",
    "        fig.add_shape(type=\"line\",x0=x, y0=20.0, x1=x, y1=21,line=dict(color=\"#c8ddc0\",width=2),layer=\"below\")\n",
    "    for x in range(0, 100, 1):\n",
    "        fig.add_shape(type=\"line\",x0=x, y0=32.3, x1=x, y1=33.3,line=dict(color=\"#c8ddc0\",width=2),layer=\"below\")\n",
    "    \n",
    "    \n",
    "    fig.add_trace(go.Scatter(\n",
    "    x=[2,10,20,30,40,50,60,70,80,90,98], y=[5,5,5,5,5,5,5,5,5,5,5],\n",
    "    text=[\"G\",\"1 0\",\"2 0\",\"3 0\",\"4 0\",\"5 0\",\"4 0\",\"3 0\",\"2 0\",\"1 0\",\"G\"],\n",
    "    mode=\"text\",\n",
    "    textfont=dict(size=20,family=\"Arail\"),\n",
    "    showlegend=False,\n",
    "    ))\n",
    "    \n",
    "    fig.add_trace(go.Scatter(\n",
    "    x=[2,10,20,30,40,50,60,70,80,90,98], y=[48.3,48.3,48.3,48.3,48.3,48.3,48.3,48.3,48.3,48.3,48.3],\n",
    "    text=[\"G\",\"1 0\",\"2 0\",\"3 0\",\"4 0\",\"5 0\",\"4 0\",\"3 0\",\"2 0\",\"1 0\",\"G\"],\n",
    "    mode=\"text\",\n",
    "    textfont=dict(size=20,family=\"Arail\"),\n",
    "    showlegend=False,\n",
    "    ))\n",
    "    \n",
    "    return fig"
   ]
  },
  {
   "cell_type": "markdown",
   "metadata": {
    "heading_collapsed": true
   },
   "source": [
    "## Function test"
   ]
  },
  {
   "cell_type": "code",
   "execution_count": null,
   "metadata": {
    "hidden": true
   },
   "outputs": [],
   "source": [
    "week1 = pd.read_csv('week1.csv')"
   ]
  },
  {
   "cell_type": "code",
   "execution_count": null,
   "metadata": {
    "hidden": true
   },
   "outputs": [],
   "source": [
    "[play for play in week1.playId.unique()]"
   ]
  },
  {
   "cell_type": "markdown",
   "metadata": {},
   "source": [
    "## Animation"
   ]
  },
  {
   "cell_type": "code",
   "execution_count": null,
   "metadata": {},
   "outputs": [],
   "source": [
    "create_animation(1,75)"
   ]
  },
  {
   "cell_type": "code",
   "execution_count": null,
   "metadata": {},
   "outputs": [],
   "source": [
    "week1 = pd.read_csv('week1.csv')"
   ]
  },
  {
   "cell_type": "code",
   "execution_count": null,
   "metadata": {},
   "outputs": [],
   "source": [
    "week1"
   ]
  },
  {
   "cell_type": "code",
   "execution_count": null,
   "metadata": {},
   "outputs": [],
   "source": [
    "week1.event.value_counts()"
   ]
  },
  {
   "cell_type": "code",
   "execution_count": null,
   "metadata": {},
   "outputs": [],
   "source": [
    "df = week1[week1.event != 'None']"
   ]
  },
  {
   "cell_type": "code",
   "execution_count": null,
   "metadata": {},
   "outputs": [],
   "source": [
    "df"
   ]
  },
  {
   "cell_type": "markdown",
   "metadata": {},
   "source": [
    "## Scratch Work Past This Point"
   ]
  },
  {
   "cell_type": "markdown",
   "metadata": {
    "heading_collapsed": true
   },
   "source": [
    "# Prep week csv"
   ]
  },
  {
   "cell_type": "markdown",
   "metadata": {
    "heading_collapsed": true,
    "hidden": true
   },
   "source": [
    "## clean nfl weeks(drop noise)"
   ]
  },
  {
   "cell_type": "code",
   "execution_count": null,
   "metadata": {
    "hidden": true
   },
   "outputs": [],
   "source": [
    "def filter_nfl_weeks():\n",
    "    \n",
    "    for i in range(1,18):\n",
    "        #read in csv\n",
    "        df = pd.read_csv('week' + str(i) + '.csv')\n",
    "        #keep only pass_forward events\n",
    "        df = df[(df.event == 'pass_forward')]\n",
    "        #fill in empty positions with football\n",
    "        df.position = df.position.fillna('BALL')\n",
    "        #reset index\n",
    "        df.reset_index(drop=True)\n",
    "        #save as new csv\n",
    "        df.to_csv('week' + str(i) + 'filtered.csv', index=False)\n",
    "        #print week number when done\n",
    "        print(f'{i}')"
   ]
  },
  {
   "cell_type": "code",
   "execution_count": null,
   "metadata": {
    "hidden": true
   },
   "outputs": [],
   "source": [
    "filter_nfl_weeks()"
   ]
  },
  {
   "cell_type": "markdown",
   "metadata": {
    "heading_collapsed": true,
    "hidden": true
   },
   "source": [
    "## plays"
   ]
  },
  {
   "cell_type": "code",
   "execution_count": null,
   "metadata": {
    "hidden": true
   },
   "outputs": [],
   "source": [
    "#read in csv\n",
    "plays = prep_plays.prep_plays_for_weeks()"
   ]
  },
  {
   "cell_type": "code",
   "execution_count": null,
   "metadata": {
    "hidden": true
   },
   "outputs": [],
   "source": [
    "plays.T"
   ]
  },
  {
   "cell_type": "code",
   "execution_count": null,
   "metadata": {
    "hidden": true
   },
   "outputs": [],
   "source": [
    "#since playId is only unique to game id we need to combine to make a unique identifier\n",
    "#first have to change the data types to strings\n",
    "plays.gameId = plays.gameId.astype(str)\n",
    "plays.playId = plays.playId.astype(str)"
   ]
  },
  {
   "cell_type": "code",
   "execution_count": null,
   "metadata": {
    "hidden": true
   },
   "outputs": [],
   "source": [
    "#concat to create a unique identifier\n",
    "plays['playid'] = plays.gameId + plays.playId"
   ]
  },
  {
   "cell_type": "code",
   "execution_count": null,
   "metadata": {
    "hidden": true
   },
   "outputs": [],
   "source": [
    "#drop old columns\n",
    "plays = plays.drop(columns = {'gameId', 'playId'})"
   ]
  },
  {
   "cell_type": "code",
   "execution_count": null,
   "metadata": {
    "hidden": true
   },
   "outputs": [],
   "source": [
    "plays.drop_duplicates(inplace=True)"
   ]
  },
  {
   "cell_type": "markdown",
   "metadata": {
    "heading_collapsed": true,
    "hidden": true
   },
   "source": [
    "## week1"
   ]
  },
  {
   "cell_type": "code",
   "execution_count": null,
   "metadata": {
    "hidden": true
   },
   "outputs": [],
   "source": [
    "#read in csv\n",
    "wk1 = pd.read_csv('week10filtered.csv')"
   ]
  },
  {
   "cell_type": "code",
   "execution_count": null,
   "metadata": {
    "hidden": true,
    "scrolled": true
   },
   "outputs": [],
   "source": [
    "wk1 = wk1.drop_duplicates()"
   ]
  },
  {
   "cell_type": "code",
   "execution_count": null,
   "metadata": {
    "hidden": true
   },
   "outputs": [],
   "source": []
  },
  {
   "cell_type": "code",
   "execution_count": null,
   "metadata": {
    "hidden": true
   },
   "outputs": [],
   "source": [
    "#since playId is only unique to game id we need to combine to make a unique identifier\n",
    "#first have to change the data types to strings\n",
    "wk1.gameId = wk1.gameId.astype(str)\n",
    "\n",
    "wk1.playId = wk1.playId.astype(str)"
   ]
  },
  {
   "cell_type": "code",
   "execution_count": null,
   "metadata": {
    "hidden": true
   },
   "outputs": [],
   "source": [
    "#concat to create a unique identifier\n",
    "wk1['playid'] = wk1.gameId + wk1.playId"
   ]
  },
  {
   "cell_type": "code",
   "execution_count": null,
   "metadata": {
    "hidden": true
   },
   "outputs": [],
   "source": [
    "wk1 = wk1.drop(columns = {'gameId', 'playId'})"
   ]
  },
  {
   "cell_type": "code",
   "execution_count": null,
   "metadata": {
    "hidden": true
   },
   "outputs": [],
   "source": [
    "wk1.drop_duplicates(inplace=True)"
   ]
  },
  {
   "cell_type": "markdown",
   "metadata": {
    "heading_collapsed": true,
    "hidden": true
   },
   "source": [
    "## merge"
   ]
  },
  {
   "cell_type": "code",
   "execution_count": null,
   "metadata": {
    "hidden": true
   },
   "outputs": [],
   "source": [
    "#merge \n",
    "df = pd.merge(plays, wk1, left_on = 'playid', right_on = 'playid', how = 'inner')"
   ]
  },
  {
   "cell_type": "code",
   "execution_count": null,
   "metadata": {
    "hidden": true
   },
   "outputs": [],
   "source": [
    "df.drop_duplicates(inplace=True)"
   ]
  },
  {
   "cell_type": "markdown",
   "metadata": {
    "heading_collapsed": true,
    "hidden": true
   },
   "source": [
    "## Identify reciever"
   ]
  },
  {
   "cell_type": "code",
   "execution_count": null,
   "metadata": {
    "hidden": true
   },
   "outputs": [],
   "source": [
    "import re"
   ]
  },
  {
   "cell_type": "code",
   "execution_count": null,
   "metadata": {
    "hidden": true
   },
   "outputs": [],
   "source": [
    "#extracting names from play description\n",
    "#second name will be the intended reciever\n",
    "desc = df.playDescription.str.findall(r'(\\b[A-Z]+\\.\\b[A-Z]+\\w+)').apply(','.join)"
   ]
  },
  {
   "cell_type": "code",
   "execution_count": null,
   "metadata": {
    "hidden": true
   },
   "outputs": [],
   "source": [
    "desc"
   ]
  },
  {
   "cell_type": "code",
   "execution_count": null,
   "metadata": {
    "hidden": true
   },
   "outputs": [],
   "source": [
    "#split the desc namees by comma\n",
    "temp = desc.str.split(',', expand = True)"
   ]
  },
  {
   "cell_type": "code",
   "execution_count": null,
   "metadata": {
    "hidden": true
   },
   "outputs": [],
   "source": [
    "temp"
   ]
  },
  {
   "cell_type": "code",
   "execution_count": null,
   "metadata": {
    "hidden": true
   },
   "outputs": [],
   "source": [
    "#checking reciever column for nulls\n",
    "#there are some\n",
    "#will have to write a loop that considers nulls and skips them\n",
    "temp[1].isnull().value_counts()"
   ]
  },
  {
   "cell_type": "code",
   "execution_count": null,
   "metadata": {
    "hidden": true
   },
   "outputs": [],
   "source": [
    "# obtaining name from WR column\n",
    "temp[1]"
   ]
  },
  {
   "cell_type": "code",
   "execution_count": null,
   "metadata": {
    "hidden": true
   },
   "outputs": [],
   "source": [
    "#saving name of receiver\n",
    "df['receiver_last_name'] = temp[1]"
   ]
  },
  {
   "cell_type": "code",
   "execution_count": null,
   "metadata": {
    "hidden": true
   },
   "outputs": [],
   "source": [
    "#checking dataframe\n",
    "df"
   ]
  },
  {
   "cell_type": "code",
   "execution_count": null,
   "metadata": {
    "hidden": true
   },
   "outputs": [],
   "source": [
    "#splitting first and last name of player\n",
    "temp = df.displayName.str.split(' ', expand = True)"
   ]
  },
  {
   "cell_type": "code",
   "execution_count": null,
   "metadata": {
    "hidden": true
   },
   "outputs": [],
   "source": [
    "temp"
   ]
  },
  {
   "cell_type": "code",
   "execution_count": null,
   "metadata": {
    "hidden": true
   },
   "outputs": [],
   "source": [
    "initial = temp[0].astype(str).str[0]\n",
    "initial"
   ]
  },
  {
   "cell_type": "code",
   "execution_count": null,
   "metadata": {
    "hidden": true
   },
   "outputs": [],
   "source": [
    "last_name = temp[1]"
   ]
  },
  {
   "cell_type": "code",
   "execution_count": null,
   "metadata": {
    "hidden": true
   },
   "outputs": [],
   "source": [
    "df['player_last_name'] = initial + '.' + last_name"
   ]
  },
  {
   "cell_type": "code",
   "execution_count": null,
   "metadata": {
    "hidden": true
   },
   "outputs": [],
   "source": [
    "df = df[df.displayName != 'Football']"
   ]
  },
  {
   "cell_type": "code",
   "execution_count": null,
   "metadata": {
    "hidden": true
   },
   "outputs": [],
   "source": [
    "#checking dataframe\n",
    "df = df.reset_index(drop=True)"
   ]
  },
  {
   "cell_type": "code",
   "execution_count": null,
   "metadata": {
    "hidden": true
   },
   "outputs": [],
   "source": [
    "df"
   ]
  },
  {
   "cell_type": "code",
   "execution_count": null,
   "metadata": {
    "hidden": true
   },
   "outputs": [],
   "source": [
    "df.loc[(df.receiver_last_name == 'J.Smith'),'receiver_last_name']='J.Smith-Schuster'"
   ]
  },
  {
   "cell_type": "code",
   "execution_count": null,
   "metadata": {
    "hidden": true
   },
   "outputs": [],
   "source": [
    "df.loc[(df.receiver_last_name == 'A.Seferian'),'receiver_last_name']='A.Seferian-Jenkins'"
   ]
  },
  {
   "cell_type": "code",
   "execution_count": null,
   "metadata": {
    "hidden": true
   },
   "outputs": [],
   "source": [
    "df.loc[(df.receiver_last_name == 'R.Seals'),'receiver_last_name']='R.Seals-Jones'"
   ]
  },
  {
   "cell_type": "code",
   "execution_count": null,
   "metadata": {
    "hidden": true
   },
   "outputs": [],
   "source": [
    "df.drop_duplicates(inplace=True)"
   ]
  },
  {
   "cell_type": "markdown",
   "metadata": {
    "heading_collapsed": true,
    "hidden": true
   },
   "source": [
    "## Distance"
   ]
  },
  {
   "cell_type": "code",
   "execution_count": null,
   "metadata": {
    "hidden": true
   },
   "outputs": [],
   "source": [
    "# #passes where no receiver was identified\n",
    "# df = df[~df.receiver_last_name.isnull()]"
   ]
  },
  {
   "cell_type": "code",
   "execution_count": null,
   "metadata": {
    "hidden": true
   },
   "outputs": [],
   "source": [
    "# #no receiver was identified\n",
    "# df = df[df.playid != '20180906004417']"
   ]
  },
  {
   "cell_type": "code",
   "execution_count": null,
   "metadata": {
    "hidden": true
   },
   "outputs": [],
   "source": [
    "df"
   ]
  },
  {
   "cell_type": "code",
   "execution_count": null,
   "metadata": {
    "hidden": true
   },
   "outputs": [],
   "source": [
    "newdf = pd.DataFrame(columns = ['playids', 'closest_dist', 'closest_x', 'closest_y', 'defender_receiver', 'week'])\n",
    "playids = [\n",
    " \n",
    " \n",
    " \n",
    " \n",
    " \n",
    " \n",
    " \n",
    " \n",
    " '20181111062650',\n",
    " \n",
    "]\n",
    "\n",
    "#loop through each playid in playids\n",
    "for play in playids:\n",
    "    #reset shortest distance\n",
    "    closest_distance = 100\n",
    "    #reset shortest x\n",
    "    closest_x = 0\n",
    "    #reset shortest y\n",
    "    closest_y = 0\n",
    "    #filter for all players in current play\n",
    "    current_play = df[df.playid == play]\n",
    "    #create a dataframe of offensive players\n",
    "    offense = current_play[(current_play.position == 'QB') | (current_play.position == 'RB') | (current_play.position == 'WR') | (current_play.position == 'FB') | (current_play.position == 'HB') | (current_play.position == 'TE')]\n",
    "    #create a dataframe of defensive players\n",
    "    defense = current_play[(current_play.position == 'CB') | (current_play.position == 'OLB') | (current_play.position == 'FS') | (current_play.position == 'SS') | (current_play.position == 'ILB') | (current_play.position == 'MLB') | (current_play.position == 'LB') | (current_play.position == 'DB') | (current_play.position == 'S') | (current_play.position == 'DL') | (current_play.position == 'DE') | (current_play.position == 'NT')]\n",
    "    #for x in coordinates of players\n",
    "    for name in defense.displayName:\n",
    "        if (offense.receiver_last_name == offense.player_last_name).any():\n",
    "            #retrieve y coordinate of this player\n",
    "            x = defense.loc[defense.displayName == name].x.item()\n",
    "            #retrieve y coordinate of this player\n",
    "            y = defense.loc[defense.displayName == name].y.item()\n",
    "            #retrive x coordinate of reciever\n",
    "            x1= offense.loc[offense.receiver_last_name == offense.player_last_name].x.item()\n",
    "            # retrieve y coordinate of reciever\n",
    "            y1= offense.loc[offense.receiver_last_name == offense.player_last_name].y.item()\n",
    "            #solve for distance\n",
    "            distance = ((x-x1)**2+(y-y1)**2)**(1/2)\n",
    "            #if the distance is the shortest distance\n",
    "            if distance < closest_distance:\n",
    "                #save the distance\n",
    "                closest_distance = distance\n",
    "                #save the x coordinate\n",
    "                closest_x = x\n",
    "                #save the y coordinate\n",
    "                closest_y = y\n",
    "                #save the defender name\n",
    "                def_name = name\n",
    "        else:\n",
    "            #fill with unrealistic values \n",
    "            closest_distance = 0\n",
    "            closest_x = 0\n",
    "            closest_y = 0\n",
    "            def_name = \"unknown\"\n",
    "    newdf = newdf.append({'playids': play, 'closest_dist': closest_distance, 'closest_x': closest_x, 'closest_y': closest_y, 'defender_receiver': def_name, 'week':1}, ignore_index=True)"
   ]
  },
  {
   "cell_type": "code",
   "execution_count": null,
   "metadata": {
    "hidden": true,
    "scrolled": false
   },
   "outputs": [],
   "source": [
    "newdf"
   ]
  },
  {
   "cell_type": "code",
   "execution_count": null,
   "metadata": {
    "hidden": true
   },
   "outputs": [],
   "source": []
  },
  {
   "cell_type": "code",
   "execution_count": null,
   "metadata": {
    "hidden": true
   },
   "outputs": [],
   "source": [
    "[play for play in df.playid.unique()]"
   ]
  },
  {
   "cell_type": "code",
   "execution_count": null,
   "metadata": {
    "hidden": true
   },
   "outputs": [],
   "source": []
  },
  {
   "cell_type": "code",
   "execution_count": null,
   "metadata": {
    "hidden": true
   },
   "outputs": [],
   "source": []
  },
  {
   "cell_type": "code",
   "execution_count": null,
   "metadata": {
    "hidden": true
   },
   "outputs": [],
   "source": []
  },
  {
   "cell_type": "code",
   "execution_count": null,
   "metadata": {
    "hidden": true
   },
   "outputs": [],
   "source": []
  },
  {
   "cell_type": "code",
   "execution_count": null,
   "metadata": {
    "hidden": true
   },
   "outputs": [],
   "source": []
  },
  {
   "cell_type": "markdown",
   "metadata": {},
   "source": [
    "# End"
   ]
  },
  {
   "cell_type": "code",
   "execution_count": null,
   "metadata": {},
   "outputs": [],
   "source": []
  }
 ],
 "metadata": {
  "kernelspec": {
   "display_name": "Python 3",
   "language": "python",
   "name": "python3"
  },
  "language_info": {
   "codemirror_mode": {
    "name": "ipython",
    "version": 3
   },
   "file_extension": ".py",
   "mimetype": "text/x-python",
   "name": "python",
   "nbconvert_exporter": "python",
   "pygments_lexer": "ipython3",
   "version": "3.7.9"
  },
  "toc": {
   "base_numbering": 1,
   "nav_menu": {},
   "number_sections": true,
   "sideBar": true,
   "skip_h1_title": false,
   "title_cell": "Table of Contents",
   "title_sidebar": "Contents",
   "toc_cell": false,
   "toc_position": {},
   "toc_section_display": true,
   "toc_window_display": false
  }
 },
 "nbformat": 4,
 "nbformat_minor": 4
}
