{
 "cells": [
  {
   "cell_type": "code",
   "execution_count": 1,
   "metadata": {},
   "outputs": [
    {
     "name": "stdout",
     "output_type": "stream",
     "text": [
      "Acquire.py Loaded Successfully\n",
      "Prep.py Loaded Successfully\n",
      "Wrangle.py Loaded Successfully\n"
     ]
    }
   ],
   "source": [
    "import numpy as np \n",
    "import pandas as pd\n",
    "import seaborn as sns\n",
    "import matplotlib.pyplot as plt\n",
    "import math\n",
    "import acquire_plays_data\n",
    "import prep_plays\n",
    "import wrangle_plays_data\n",
    "import re\n",
    "plt.rc(\"figure\", figsize=(12, 7))\n",
    "plt.rc(\"font\", size=14)"
   ]
  },
  {
   "cell_type": "code",
   "execution_count": null,
   "metadata": {},
   "outputs": [],
   "source": [
    "df = pd.read_csv('players.csv')"
   ]
  },
  {
   "cell_type": "code",
   "execution_count": null,
   "metadata": {},
   "outputs": [],
   "source": [
    "df.head()"
   ]
  },
  {
   "cell_type": "code",
   "execution_count": null,
   "metadata": {},
   "outputs": [],
   "source": [
    "df.describe()"
   ]
  },
  {
   "cell_type": "code",
   "execution_count": null,
   "metadata": {},
   "outputs": [],
   "source": [
    "df.info()"
   ]
  },
  {
   "cell_type": "code",
   "execution_count": null,
   "metadata": {},
   "outputs": [],
   "source": [
    "df.height.value_counts()"
   ]
  },
  {
   "cell_type": "code",
   "execution_count": null,
   "metadata": {},
   "outputs": [],
   "source": [
    "example = '5-10'"
   ]
  },
  {
   "cell_type": "code",
   "execution_count": null,
   "metadata": {},
   "outputs": [],
   "source": [
    "feet = int(re.findall(r'(\\d+)-(\\d+)', example)[0][0])\n",
    "feet"
   ]
  },
  {
   "cell_type": "code",
   "execution_count": null,
   "metadata": {},
   "outputs": [],
   "source": [
    "inches = int(re.findall(r'(\\d+)-(\\d+)', example)[0][1])\n",
    "inches"
   ]
  },
  {
   "cell_type": "markdown",
   "metadata": {},
   "source": [
    "### Converts the heights from feet-inches into inches"
   ]
  },
  {
   "cell_type": "code",
   "execution_count": null,
   "metadata": {},
   "outputs": [],
   "source": [
    "def conv_height(value):\n",
    "    if len(re.findall(r'(\\d+)-(\\d+)', value)) > 0:\n",
    "        feet = int(re.findall(r'(\\d+)-(\\d+)', value)[0][0])\n",
    "        inches = int(re.findall(r'(\\d+)-(\\d+)', value)[0][1])\n",
    "        return (feet * 12) + inches\n",
    "    else:\n",
    "        return value"
   ]
  },
  {
   "cell_type": "code",
   "execution_count": null,
   "metadata": {},
   "outputs": [],
   "source": [
    "df['height'] = df.height.apply(conv_height)"
   ]
  },
  {
   "cell_type": "code",
   "execution_count": null,
   "metadata": {},
   "outputs": [],
   "source": [
    "df.head()"
   ]
  },
  {
   "cell_type": "code",
   "execution_count": null,
   "metadata": {},
   "outputs": [],
   "source": [
    "df.birthDate.value_counts()"
   ]
  },
  {
   "cell_type": "markdown",
   "metadata": {},
   "source": [
    "### Converting birthdate to datetime"
   ]
  },
  {
   "cell_type": "code",
   "execution_count": null,
   "metadata": {},
   "outputs": [],
   "source": [
    "df.birthDate = pd.to_datetime(df.birthDate)"
   ]
  },
  {
   "cell_type": "code",
   "execution_count": null,
   "metadata": {},
   "outputs": [],
   "source": [
    "# Creating a age column that takes the first date and subtracts the birthdate as a\n",
    "df['age'] = (pd.to_datetime('09/06/2018') - df.birthDate).astype('<m8[Y]')"
   ]
  },
  {
   "cell_type": "code",
   "execution_count": null,
   "metadata": {},
   "outputs": [],
   "source": [
    "df.head()"
   ]
  },
  {
   "cell_type": "code",
   "execution_count": null,
   "metadata": {},
   "outputs": [],
   "source": [
    "def prep_players():\n",
    "    '''\n",
    "    This function acquires the players csv and prepares\n",
    "    it to merge with other csv's\n",
    "    '''\n",
    "    # Acquire the players csv\n",
    "    df= pd.read_csv('players.csv')\n",
    "    # Convert the birthdate to datetime to get rid of different date formats\n",
    "    df.birthDate = pd.to_datetime(df.birthDate)\n",
    "    # Creating a age column that takes the start date of the 2018 season and subtracts the birthdate\n",
    "    df['age'] = (pd.to_datetime('09/06/2018') - df.birthDate).astype('<m8[Y]')\n",
    "    # Function that converts heights\n",
    "    def conv_height(value):\n",
    "        if len(re.findall(r'(\\d+)-(\\d+)', value)) > 0:\n",
    "            feet = int(re.findall(r'(\\d+)-(\\d+)', value)[0][0])\n",
    "            inches = int(re.findall(r'(\\d+)-(\\d+)', value)[0][1])\n",
    "            return (feet * 12) + inches\n",
    "        else:\n",
    "            return value\n",
    "    # Changing height column to equal just inches\n",
    "    df['height'] = df.height.apply(conv_height)\n",
    "    return df"
   ]
  },
  {
   "cell_type": "code",
   "execution_count": null,
   "metadata": {},
   "outputs": [],
   "source": [
    "df= prep_players()"
   ]
  },
  {
   "cell_type": "code",
   "execution_count": null,
   "metadata": {},
   "outputs": [],
   "source": [
    "df.head()"
   ]
  },
  {
   "cell_type": "code",
   "execution_count": 2,
   "metadata": {},
   "outputs": [],
   "source": [
    "import prep_season"
   ]
  },
  {
   "cell_type": "code",
   "execution_count": 3,
   "metadata": {},
   "outputs": [],
   "source": [
    "df2 = prep_season.prep_players()"
   ]
  },
  {
   "cell_type": "code",
   "execution_count": 4,
   "metadata": {},
   "outputs": [
    {
     "data": {
      "text/html": [
       "<div>\n",
       "<style scoped>\n",
       "    .dataframe tbody tr th:only-of-type {\n",
       "        vertical-align: middle;\n",
       "    }\n",
       "\n",
       "    .dataframe tbody tr th {\n",
       "        vertical-align: top;\n",
       "    }\n",
       "\n",
       "    .dataframe thead th {\n",
       "        text-align: right;\n",
       "    }\n",
       "</style>\n",
       "<table border=\"1\" class=\"dataframe\">\n",
       "  <thead>\n",
       "    <tr style=\"text-align: right;\">\n",
       "      <th></th>\n",
       "      <th>nflId</th>\n",
       "      <th>height</th>\n",
       "      <th>weight</th>\n",
       "      <th>birthDate</th>\n",
       "      <th>collegeName</th>\n",
       "      <th>position</th>\n",
       "      <th>displayName</th>\n",
       "      <th>age</th>\n",
       "    </tr>\n",
       "  </thead>\n",
       "  <tbody>\n",
       "    <tr>\n",
       "      <th>0</th>\n",
       "      <td>2539334</td>\n",
       "      <td>72</td>\n",
       "      <td>190</td>\n",
       "      <td>1990-09-10</td>\n",
       "      <td>Washington</td>\n",
       "      <td>CB</td>\n",
       "      <td>Desmond Trufant</td>\n",
       "      <td>27.0</td>\n",
       "    </tr>\n",
       "    <tr>\n",
       "      <th>1</th>\n",
       "      <td>2539653</td>\n",
       "      <td>70</td>\n",
       "      <td>186</td>\n",
       "      <td>1988-11-01</td>\n",
       "      <td>Southeastern Louisiana</td>\n",
       "      <td>CB</td>\n",
       "      <td>Robert Alford</td>\n",
       "      <td>29.0</td>\n",
       "    </tr>\n",
       "    <tr>\n",
       "      <th>2</th>\n",
       "      <td>2543850</td>\n",
       "      <td>69</td>\n",
       "      <td>186</td>\n",
       "      <td>1991-12-18</td>\n",
       "      <td>Purdue</td>\n",
       "      <td>SS</td>\n",
       "      <td>Ricardo Allen</td>\n",
       "      <td>26.0</td>\n",
       "    </tr>\n",
       "    <tr>\n",
       "      <th>3</th>\n",
       "      <td>2555162</td>\n",
       "      <td>73</td>\n",
       "      <td>227</td>\n",
       "      <td>1994-11-04</td>\n",
       "      <td>Louisiana State</td>\n",
       "      <td>MLB</td>\n",
       "      <td>Deion Jones</td>\n",
       "      <td>23.0</td>\n",
       "    </tr>\n",
       "    <tr>\n",
       "      <th>4</th>\n",
       "      <td>2555255</td>\n",
       "      <td>75</td>\n",
       "      <td>232</td>\n",
       "      <td>1993-07-01</td>\n",
       "      <td>Minnesota</td>\n",
       "      <td>OLB</td>\n",
       "      <td>De'Vondre Campbell</td>\n",
       "      <td>25.0</td>\n",
       "    </tr>\n",
       "  </tbody>\n",
       "</table>\n",
       "</div>"
      ],
      "text/plain": [
       "     nflId height  weight  birthDate             collegeName position  \\\n",
       "0  2539334     72     190 1990-09-10              Washington       CB   \n",
       "1  2539653     70     186 1988-11-01  Southeastern Louisiana       CB   \n",
       "2  2543850     69     186 1991-12-18                  Purdue       SS   \n",
       "3  2555162     73     227 1994-11-04         Louisiana State      MLB   \n",
       "4  2555255     75     232 1993-07-01               Minnesota      OLB   \n",
       "\n",
       "          displayName   age  \n",
       "0     Desmond Trufant  27.0  \n",
       "1       Robert Alford  29.0  \n",
       "2       Ricardo Allen  26.0  \n",
       "3         Deion Jones  23.0  \n",
       "4  De'Vondre Campbell  25.0  "
      ]
     },
     "execution_count": 4,
     "metadata": {},
     "output_type": "execute_result"
    }
   ],
   "source": [
    "df2.head()"
   ]
  },
  {
   "cell_type": "code",
   "execution_count": null,
   "metadata": {},
   "outputs": [],
   "source": []
  }
 ],
 "metadata": {
  "kernelspec": {
   "display_name": "Python 3",
   "language": "python",
   "name": "python3"
  },
  "language_info": {
   "codemirror_mode": {
    "name": "ipython",
    "version": 3
   },
   "file_extension": ".py",
   "mimetype": "text/x-python",
   "name": "python",
   "nbconvert_exporter": "python",
   "pygments_lexer": "ipython3",
   "version": "3.7.9"
  }
 },
 "nbformat": 4,
 "nbformat_minor": 4
}
