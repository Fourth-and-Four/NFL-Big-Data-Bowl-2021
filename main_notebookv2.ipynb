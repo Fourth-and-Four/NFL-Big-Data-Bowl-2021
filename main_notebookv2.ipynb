{
 "cells": [
  {
   "cell_type": "markdown",
   "metadata": {},
   "source": [
    "# NFL 2018 Defense Analyzer"
   ]
  },
  {
   "cell_type": "markdown",
   "metadata": {},
   "source": [
    "# Importing Libraries"
   ]
  },
  {
   "cell_type": "code",
   "execution_count": 2,
   "metadata": {},
   "outputs": [
    {
     "name": "stdout",
     "output_type": "stream",
     "text": [
      "Acquire.py Loaded Successfully\n",
      "Prep.py Loaded Successfully\n",
      "Prep_Season.py Loaded Successfully\n",
      "Wrangle.py Loaded Successfully\n"
     ]
    }
   ],
   "source": [
    "# acquire libraries\n",
    "import pandas as pd\n",
    "import matplotlib.pyplot as plt\n",
    "\n",
    "#explore libraries\n",
    "from scipy import stats\n",
    "import seaborn as sns\n",
    "import prep_plays\n",
    "import prep_season\n",
    "plt.rc(\"figure\", figsize=(12, 7))\n",
    "plt.rc(\"font\", size=14)\n",
    "from sklearn.model_selection import train_test_split\n",
    "\n",
    "# model libraries\n",
    "import wrangle_plays_data\n",
    "from sklearn.metrics import classification_report, accuracy_score, confusion_matrix\n",
    "from sklearn.model_selection import GridSearchCV\n",
    "from sklearn.ensemble import GradientBoostingClassifier\n",
    "from sklearn.linear_model import LogisticRegression\n",
    "from sklearn.neighbors import KNeighborsClassifier\n",
    "from sklearn.svm import SVC\n",
    "\n",
    "pd.set_option('display.max_columns', None)"
   ]
  },
  {
   "cell_type": "markdown",
   "metadata": {
    "heading_collapsed": true
   },
   "source": [
    "# Acquire "
   ]
  },
  {
   "cell_type": "markdown",
   "metadata": {
    "hidden": true
   },
   "source": [
    "- We acquired the data from kaggle.com as several .csv's but the data itself is provided by nextgenstats.nfl.com"
   ]
  },
  {
   "cell_type": "code",
   "execution_count": null,
   "metadata": {
    "hidden": true
   },
   "outputs": [],
   "source": [
    "nfl = pd.read_csv('plays.csv')"
   ]
  },
  {
   "cell_type": "code",
   "execution_count": null,
   "metadata": {
    "hidden": true,
    "scrolled": true
   },
   "outputs": [],
   "source": [
    "nfl.head()"
   ]
  },
  {
   "cell_type": "code",
   "execution_count": null,
   "metadata": {
    "hidden": true
   },
   "outputs": [],
   "source": [
    "nfl.shape"
   ]
  },
  {
   "cell_type": "code",
   "execution_count": null,
   "metadata": {
    "hidden": true,
    "scrolled": true
   },
   "outputs": [],
   "source": [
    "nfl.info()"
   ]
  },
  {
   "cell_type": "code",
   "execution_count": null,
   "metadata": {
    "hidden": true,
    "scrolled": true
   },
   "outputs": [],
   "source": [
    "nfl.describe().T"
   ]
  },
  {
   "cell_type": "code",
   "execution_count": null,
   "metadata": {
    "hidden": true,
    "scrolled": false
   },
   "outputs": [],
   "source": [
    "num_cols = nfl.columns[[(nfl[col].dtype == 'int64') | (nfl[col].dtype == 'float64') for col in nfl.columns]]\n",
    "for col in num_cols:\n",
    "    plt.hist(nfl[col])\n",
    "    plt.title(col)\n",
    "    plt.show()"
   ]
  },
  {
   "cell_type": "markdown",
   "metadata": {
    "hidden": true
   },
   "source": [
    "**Takeaways:**\n",
    "- There are some null values listed that will need some investigation\n",
    "- More plays are being ran in the second and fourth quarter\n",
    "- Less plays are being ran as the down gets greater\n",
    "- Yards to go is skewed right(makes sense)\n",
    "    - Less likely to lose yards than gain\n",
    "- Most plays begin between home 20 and away 20\n",
    "    - Hard to pin your opponent inside 20 for kickoff or punt\n",
    "- Defenders in the box is a normal distribution\n",
    "- Number of pass  rushers is a normal distribution\n",
    "- Scores are skewed right\n",
    "- Play result is skewed right slightly\n",
    "- epa is fairly normal distribution"
   ]
  },
  {
   "cell_type": "markdown",
   "metadata": {
    "heading_collapsed": true
   },
   "source": [
    "# Prepare"
   ]
  },
  {
   "cell_type": "markdown",
   "metadata": {
    "hidden": true
   },
   "source": [
    "- Create a function that will acquire the plays.csv\n",
    "- Keep only the useful columns that can help us determine the success of a defense(whether a pass was completed or not)\n",
    "    - `playDescription`, `quarter`, `down`, `yardsToGo`, `possessionTeam`, `offenseFormation`, `personnelO`, `defendersInTheBox`, `numberOfPassRushers`, `personnelD`, `typeDropback`, `gameClock`, `absoluteYardlineNumber`, `epa`, `playType`, `passResult`, `playResult`\n",
    "- Create a new column called `pass_stopped` \n",
    "    - Will change completion into 0\n",
    "    - Will change incomplete and interception into 1\n",
    "- Filter out data that is not a pass play(no fake punts, fake field goals, etc)\n",
    "- Create new columns that extract positions from offensive personnel\n",
    "    - RB, TE, WR\n",
    "- Create new columns that extract positions from defensive personnel\n",
    "    - DL, LB, DB\n",
    "- Rename `typeDropback` to `QB_under_pressure` and change values into normal or scramble\n",
    "- Rename `passResult` into `pass_stopped`\n",
    "- Create formations out of personnel on the field"
   ]
  },
  {
   "cell_type": "markdown",
   "metadata": {},
   "source": [
    "# Explore"
   ]
  },
  {
   "cell_type": "code",
   "execution_count": null,
   "metadata": {},
   "outputs": [],
   "source": [
    "train, validate, test = prep_plays.explore_plays_data()"
   ]
  },
  {
   "cell_type": "code",
   "execution_count": null,
   "metadata": {},
   "outputs": [],
   "source": [
    "train.T"
   ]
  },
  {
   "cell_type": "code",
   "execution_count": null,
   "metadata": {},
   "outputs": [],
   "source": [
    "alpha = .05"
   ]
  },
  {
   "cell_type": "markdown",
   "metadata": {
    "heading_collapsed": true
   },
   "source": [
    "## Does the offense formation matter? i.e. (is a certain offensive formation harder to defend?)"
   ]
  },
  {
   "cell_type": "markdown",
   "metadata": {
    "hidden": true
   },
   "source": [
    "- $H_0$: There is no dependence between offensive formation and pass stopped\n",
    "- $H_a$: There is a dependence between offensive formation and pass stopped"
   ]
  },
  {
   "cell_type": "code",
   "execution_count": null,
   "metadata": {
    "hidden": true
   },
   "outputs": [],
   "source": [
    "observed = pd.crosstab(train.offenseFormation, train.pass_stopped)"
   ]
  },
  {
   "cell_type": "code",
   "execution_count": null,
   "metadata": {
    "hidden": true
   },
   "outputs": [],
   "source": [
    "chi2, p, degf, expected = stats.chi2_contingency(observed)"
   ]
  },
  {
   "cell_type": "code",
   "execution_count": null,
   "metadata": {
    "hidden": true
   },
   "outputs": [],
   "source": [
    "if p < alpha:\n",
    "    print(\"We reject the null hypothesis\")\n",
    "else:\n",
    "    print(\"We fail to reject the null hypothesis\")\n",
    "p"
   ]
  },
  {
   "cell_type": "code",
   "execution_count": null,
   "metadata": {
    "hidden": true
   },
   "outputs": [],
   "source": [
    "sns.catplot(x=\"offenseFormation\", hue=\"pass_stopped\", kind=\"count\", data=train, height=8, aspect=2)._legend.remove()\n",
    "plt.title('Do certain offensive formations have more more passes stopped than others?', size = 30)\n",
    "plt.xlabel('Offensive Formation', size = 16)\n",
    "plt.ylabel('Count', size = 20)\n",
    "plt.legend(labels = ('Pass Completed', 'Pass Stopped'), loc='center right', frameon=False, fontsize='x-large')\n",
    "plt.xticks([0, 1, 2, 3, 4, 5, 6], ['Shotgun', 'Empty', 'Singleback', 'I Formation', 'Pistol', 'Jumbo', 'Wildcat'], size = 20)\n",
    "plt.show()"
   ]
  },
  {
   "cell_type": "markdown",
   "metadata": {
    "hidden": true
   },
   "source": [
    "**Takeaways:**\n",
    "- There does not seem to be a certain formation that will have there pass stopped more than others\n",
    "- After a statistical test, we can safely say that there is not dependence on stopping the play and the formation the offense is lined up in."
   ]
  },
  {
   "cell_type": "code",
   "execution_count": null,
   "metadata": {
    "hidden": true
   },
   "outputs": [],
   "source": [
    "train.groupby('offenseFormation').pass_stopped.count()"
   ]
  },
  {
   "cell_type": "code",
   "execution_count": null,
   "metadata": {
    "hidden": true
   },
   "outputs": [],
   "source": [
    "train[train.pass_stopped ==1].groupby('offenseFormation').pass_stopped.count()"
   ]
  },
  {
   "cell_type": "markdown",
   "metadata": {
    "heading_collapsed": true
   },
   "source": [
    "## Are passes stoped dependent on Down?"
   ]
  },
  {
   "cell_type": "markdown",
   "metadata": {
    "hidden": true
   },
   "source": [
    "- $H_0$: There is no dependence between down and pass stopped\n",
    "- $H_a$: There is a dependence between down and pass stopped"
   ]
  },
  {
   "cell_type": "code",
   "execution_count": null,
   "metadata": {
    "hidden": true
   },
   "outputs": [],
   "source": [
    "observed = pd.crosstab(train.down, train.pass_stopped)\n",
    "\n",
    "chi2, p, degf, expected = stats.chi2_contingency(observed)\n",
    "\n",
    "if p < alpha:\n",
    "    print(\"We reject the null hypothesis\")\n",
    "else:\n",
    "    print(\"We fail to reject the null hypothesis\")\n",
    "p"
   ]
  },
  {
   "cell_type": "code",
   "execution_count": null,
   "metadata": {
    "hidden": true
   },
   "outputs": [],
   "source": [
    "sns.barplot(data=train,x='down', y='pass_stopped').set(ylim=(0, .55))\n",
    "plt.xlabel('Down')\n",
    "plt.ylabel('Pass Stopped %')\n",
    "plt.title(\"Are Passes Stopped dependent on Down?\")\n",
    "plt.show()"
   ]
  },
  {
   "cell_type": "markdown",
   "metadata": {
    "hidden": true
   },
   "source": [
    "**Takeaway:**\n",
    "- There is a dependence between a pass being stopped and what down it is.\n",
    "- more passes are stopped on 3rd down with 4th down right behind it\n"
   ]
  },
  {
   "cell_type": "code",
   "execution_count": null,
   "metadata": {
    "hidden": true
   },
   "outputs": [],
   "source": [
    "train.groupby('down').pass_stopped.count()"
   ]
  },
  {
   "cell_type": "code",
   "execution_count": null,
   "metadata": {
    "hidden": true
   },
   "outputs": [],
   "source": [
    "train[train.pass_stopped ==1].groupby('down').pass_stopped.count()"
   ]
  },
  {
   "cell_type": "markdown",
   "metadata": {
    "heading_collapsed": true
   },
   "source": [
    "## Are EPA values dramatically different for passes stopped vs. passes completed?"
   ]
  },
  {
   "cell_type": "markdown",
   "metadata": {
    "hidden": true
   },
   "source": [
    "- $H_0$: The EPA value is the same for passes completed and passes stopped\n",
    "- $H_a$: The EPA value is different for passes completed and passes stopped"
   ]
  },
  {
   "cell_type": "code",
   "execution_count": null,
   "metadata": {
    "hidden": true
   },
   "outputs": [],
   "source": [
    "pass_completed = train[train.pass_stopped == 0]\n",
    "pass_not_completed = train[train.pass_stopped == 1]\n",
    "\n",
    "t, p = stats.ttest_ind(pass_completed.epa, pass_not_completed.epa)"
   ]
  },
  {
   "cell_type": "code",
   "execution_count": null,
   "metadata": {
    "hidden": true
   },
   "outputs": [],
   "source": [
    "if p < alpha:\n",
    "    print(\"We reject the null hypothesis\")\n",
    "else:\n",
    "    print(\"We fail to reject the null hypothesis\")\n",
    "p"
   ]
  },
  {
   "cell_type": "code",
   "execution_count": null,
   "metadata": {
    "hidden": true
   },
   "outputs": [],
   "source": [
    "plt.rc(\"figure\", figsize=(10, 6))\n",
    "sns.violinplot(train.pass_stopped, train.epa)\n",
    "plt.xlabel('')\n",
    "plt.xticks([0,1], ['Pass Completed', 'Pass Stopped'])\n",
    "plt.yticks(size = 24)\n",
    "plt.ylabel('EPA')\n",
    "plt.title(\"Are Passes Stopped dependent on EPA?\")\n",
    "plt.show()"
   ]
  },
  {
   "cell_type": "code",
   "execution_count": null,
   "metadata": {
    "hidden": true
   },
   "outputs": [],
   "source": [
    "print(f\"The EPA mean for passes completed is {pass_completed.epa.mean()}.\")\n",
    "print(f\"The EPA minimum for passes completed is {pass_completed.epa.min()}.\")\n",
    "print(f\"The EPA max for passes completed is {pass_completed.epa.max()}.\")"
   ]
  },
  {
   "cell_type": "code",
   "execution_count": null,
   "metadata": {
    "hidden": true
   },
   "outputs": [],
   "source": [
    "print(f\"The EPA mean for passes stopped is {pass_not_completed.epa.mean()}.\")\n",
    "print(f\"The EPA minimum for passes stopped is {pass_not_completed.epa.min()}.\")\n",
    "print(f\"The EPA max for passes stopped is {pass_not_completed.epa.max()}.\")"
   ]
  },
  {
   "cell_type": "markdown",
   "metadata": {
    "hidden": true
   },
   "source": [
    "**Takeaways:**\n",
    "- On average the EPA is negative for passes stopped and the EPA is positive for passes completed\n",
    "- The pass is usually stopped when the EPA is negative but not always.\n",
    "- If the EPA is above 2.5 then it almost guarantees that the pass will be completed"
   ]
  },
  {
   "cell_type": "markdown",
   "metadata": {
    "heading_collapsed": true
   },
   "source": [
    "## Are passes stopped dependent on QB pressure?"
   ]
  },
  {
   "cell_type": "markdown",
   "metadata": {
    "hidden": true
   },
   "source": [
    "- $H_0$: There is no dependence between QB pressure and pass stopped\n",
    "- $H_a$: There is a dependence between QB pressure and pass stopped"
   ]
  },
  {
   "cell_type": "code",
   "execution_count": null,
   "metadata": {
    "hidden": true
   },
   "outputs": [],
   "source": [
    "observed = pd.crosstab(train.QB_under_pressure, train.pass_stopped)\n",
    "\n",
    "chi2, p, degf, expected = stats.chi2_contingency(observed)\n",
    "\n",
    "if p < alpha:\n",
    "    print(\"We reject the null hypothesis\")\n",
    "else:\n",
    "    print(\"We fail to reject the null hypothesis\")\n",
    "p"
   ]
  },
  {
   "cell_type": "code",
   "execution_count": null,
   "metadata": {
    "hidden": true
   },
   "outputs": [],
   "source": [
    "sns.barplot(data=train,x='QB_under_pressure', y='pass_stopped').set(ylim=(0, .55))\n",
    "plt.xlabel('')\n",
    "plt.ylabel('Pass Stopped %')\n",
    "plt.xticks([0,1], ['No Pressure', 'Pressure Applied'])\n",
    "plt.title(\"Are Passes Stopped dependent on Pressure Applied to QB?\")\n",
    "plt.show()"
   ]
  },
  {
   "cell_type": "code",
   "execution_count": null,
   "metadata": {
    "hidden": true
   },
   "outputs": [],
   "source": [
    "train.groupby('QB_under_pressure').pass_stopped.count()"
   ]
  },
  {
   "cell_type": "code",
   "execution_count": null,
   "metadata": {
    "hidden": true
   },
   "outputs": [],
   "source": [
    "train[train.pass_stopped ==1].groupby('QB_under_pressure').pass_stopped.count()"
   ]
  },
  {
   "cell_type": "markdown",
   "metadata": {
    "heading_collapsed": true
   },
   "source": [
    "## Are passes stopped dependent on how many Defenders are in the Box?"
   ]
  },
  {
   "cell_type": "markdown",
   "metadata": {
    "hidden": true
   },
   "source": [
    "- $H_0$: There is no dependence between defenders in the box and pass stopped\n",
    "- $H_a$: There is a dependence between defenders in the box and pass stopped"
   ]
  },
  {
   "cell_type": "code",
   "execution_count": null,
   "metadata": {
    "hidden": true
   },
   "outputs": [],
   "source": [
    "observed = pd.crosstab(train.defendersInTheBox, train.pass_stopped)\n",
    "\n",
    "chi2, p, degf, expected = stats.chi2_contingency(observed)\n",
    "\n",
    "if p < alpha:\n",
    "    print(\"We reject the null hypothesis\")\n",
    "else:\n",
    "    print(\"We fail to reject the null hypothesis\")\n",
    "p"
   ]
  },
  {
   "cell_type": "code",
   "execution_count": null,
   "metadata": {
    "hidden": true
   },
   "outputs": [],
   "source": [
    "sns.barplot(data=train,x='defendersInTheBox', y='pass_stopped').set(ylim=(0, .55))\n",
    "plt.xlabel('Defenders in the Box')\n",
    "plt.ylabel('Pass Stopped %')\n",
    "plt.xticks([0,1,2,3,4,5,6,7,8,9], [1,2,3,4,5,6,7,8,9,10])\n",
    "plt.title(\"Are Passes Stopped dependent on the number of Defenders in the Box?\")\n",
    "plt.show()"
   ]
  },
  {
   "cell_type": "code",
   "execution_count": null,
   "metadata": {
    "hidden": true
   },
   "outputs": [],
   "source": [
    "train.groupby('defendersInTheBox').pass_stopped.count()"
   ]
  },
  {
   "cell_type": "code",
   "execution_count": null,
   "metadata": {
    "hidden": true
   },
   "outputs": [],
   "source": [
    "train[train.pass_stopped ==1].groupby('defendersInTheBox').pass_stopped.count()"
   ]
  },
  {
   "cell_type": "markdown",
   "metadata": {
    "heading_collapsed": true
   },
   "source": [
    "## Are passes stopped dependent on how many DL?"
   ]
  },
  {
   "cell_type": "markdown",
   "metadata": {
    "hidden": true
   },
   "source": [
    "- $H_0$: There is no dependence between DL and pass stopped\n",
    "- $H_a$: There is a dependence between DL and pass stopped"
   ]
  },
  {
   "cell_type": "code",
   "execution_count": null,
   "metadata": {
    "hidden": true
   },
   "outputs": [],
   "source": [
    "observed = pd.crosstab(train.DL, train.pass_stopped)\n",
    "\n",
    "chi2, p, degf, expected = stats.chi2_contingency(observed)\n",
    "\n",
    "if p < alpha:\n",
    "    print(\"We reject the null hypothesis\")\n",
    "else:\n",
    "    print(\"We fail to reject the null hypothesis\")\n",
    "p"
   ]
  },
  {
   "cell_type": "code",
   "execution_count": null,
   "metadata": {
    "hidden": true
   },
   "outputs": [],
   "source": [
    "sns.barplot(data=train,x='DL', y='pass_stopped').set(ylim=(0, .55))\n",
    "plt.xlabel('Number of DL')\n",
    "plt.ylabel('Pass Stopped %')\n",
    "# plt.xticks([0,1,2,3,4,5,6,7,8,9], [1,2,3,4,5,6,7,8,9,10])\n",
    "plt.title(\"Are Passes Stopped dependent on DL count?\")\n",
    "plt.show()"
   ]
  },
  {
   "cell_type": "code",
   "execution_count": null,
   "metadata": {
    "hidden": true
   },
   "outputs": [],
   "source": [
    "train.groupby('DL').pass_stopped.count()"
   ]
  },
  {
   "cell_type": "code",
   "execution_count": null,
   "metadata": {
    "hidden": true
   },
   "outputs": [],
   "source": [
    "train[train.pass_stopped ==1].groupby('DL').pass_stopped.count()"
   ]
  },
  {
   "cell_type": "markdown",
   "metadata": {
    "heading_collapsed": true
   },
   "source": [
    "## Are passes stopped dependent on how many LB?"
   ]
  },
  {
   "cell_type": "markdown",
   "metadata": {
    "hidden": true
   },
   "source": [
    "- $H_0$: There is no dependence between LB and pass stopped\n",
    "- $H_a$: There is a dependence between LB and pass stopped"
   ]
  },
  {
   "cell_type": "code",
   "execution_count": null,
   "metadata": {
    "hidden": true
   },
   "outputs": [],
   "source": [
    "observed = pd.crosstab(train.LB, train.pass_stopped)\n",
    "\n",
    "chi2, p, degf, expected = stats.chi2_contingency(observed)\n",
    "\n",
    "if p < alpha:\n",
    "    print(\"We reject the null hypothesis\")\n",
    "else:\n",
    "    print(\"We fail to reject the null hypothesis\")\n",
    "p"
   ]
  },
  {
   "cell_type": "code",
   "execution_count": null,
   "metadata": {
    "hidden": true
   },
   "outputs": [],
   "source": [
    "sns.barplot(data=train,x='LB', y='pass_stopped').set(ylim=(0, .55))\n",
    "plt.xlabel('Number of LB')\n",
    "plt.ylabel('Pass Stopped %')\n",
    "# plt.xticks([0,1,2,3,4,5,6,7,8,9], [1,2,3,4,5,6,7,8,9,10])\n",
    "plt.title(\"Are Passes Stopped dependent on LB count?\")\n",
    "plt.show()"
   ]
  },
  {
   "cell_type": "markdown",
   "metadata": {
    "heading_collapsed": true
   },
   "source": [
    "## Are passes stopped dependent on how many DB?"
   ]
  },
  {
   "cell_type": "markdown",
   "metadata": {
    "hidden": true
   },
   "source": [
    "- $H_0$: There is no dependence between DB and pass stopped\n",
    "- $H_a$: There is a dependence between DB and pass stopped"
   ]
  },
  {
   "cell_type": "code",
   "execution_count": null,
   "metadata": {
    "hidden": true
   },
   "outputs": [],
   "source": [
    "observed = pd.crosstab(train.DB, train.pass_stopped)\n",
    "\n",
    "chi2, p, degf, expected = stats.chi2_contingency(observed)\n",
    "\n",
    "if p < alpha:\n",
    "    print(\"We reject the null hypothesis\")\n",
    "else:\n",
    "    print(\"We fail to reject the null hypothesis\")\n",
    "p"
   ]
  },
  {
   "cell_type": "code",
   "execution_count": null,
   "metadata": {
    "hidden": true
   },
   "outputs": [],
   "source": [
    "sns.barplot(data=train,x='DB', y='pass_stopped').set(ylim=(0, .55))\n",
    "plt.xlabel('Number of DB')\n",
    "plt.ylabel('Pass Stopped %')\n",
    "# plt.xticks([0,1,2,3,4,5,6,7,8,9], [1,2,3,4,5,6,7,8,9,10])\n",
    "plt.title(\"Are Passes Stopped Dependent on DB count?\")\n",
    "plt.show()"
   ]
  },
  {
   "cell_type": "code",
   "execution_count": null,
   "metadata": {
    "hidden": true
   },
   "outputs": [],
   "source": [
    "train.groupby('DB').pass_stopped.count()"
   ]
  },
  {
   "cell_type": "code",
   "execution_count": null,
   "metadata": {
    "hidden": true
   },
   "outputs": [],
   "source": [
    "train[train.pass_stopped ==1].groupby('DB').pass_stopped.count()"
   ]
  },
  {
   "cell_type": "markdown",
   "metadata": {
    "heading_collapsed": true
   },
   "source": [
    "## Are passes stopped dependent on how defensive formation(Nickel)?"
   ]
  },
  {
   "cell_type": "markdown",
   "metadata": {
    "hidden": true
   },
   "source": [
    "- $H_0$: There is no dependence between Nickel formation and pass stopped\n",
    "- $H_a$: There is a dependence between Nickel formation and pass stopped"
   ]
  },
  {
   "cell_type": "code",
   "execution_count": null,
   "metadata": {
    "hidden": true
   },
   "outputs": [],
   "source": [
    "observed = pd.crosstab(train.nickel, train.pass_stopped)\n",
    "\n",
    "chi2, p, degf, expected = stats.chi2_contingency(observed)\n",
    "\n",
    "if p < alpha:\n",
    "    print(\"We reject the null hypothesis\")\n",
    "else:\n",
    "    print(\"We fail to reject the null hypothesis\")\n",
    "p"
   ]
  },
  {
   "cell_type": "code",
   "execution_count": null,
   "metadata": {
    "hidden": true
   },
   "outputs": [],
   "source": [
    "sns.barplot(data=train,x='nickel', y='pass_stopped').set(ylim=(0, .40))\n",
    "plt.xlabel('')\n",
    "plt.ylabel('Pass Stopped %')\n",
    "plt.title(\"Is the Nickle Formation better at stopping the pass than other formations?\")\n",
    "plt.xticks([0,1], ['Other Formation', 'Nickle Formation'])\n",
    "plt.show()"
   ]
  },
  {
   "cell_type": "markdown",
   "metadata": {
    "heading_collapsed": true
   },
   "source": [
    "## Are passes stopped dependent on how defensive formation(Dime)?"
   ]
  },
  {
   "cell_type": "markdown",
   "metadata": {
    "hidden": true
   },
   "source": [
    "\n",
    "- $H_0$: There is no dependence between Dime formation and pass stopped\n",
    "- $H_a$: There is a dependence between Dime formation and pass stopped"
   ]
  },
  {
   "cell_type": "code",
   "execution_count": null,
   "metadata": {
    "hidden": true
   },
   "outputs": [],
   "source": [
    "observed = pd.crosstab(train.dime, train.pass_stopped)\n",
    "\n",
    "chi2, p, degf, expected = stats.chi2_contingency(observed)\n",
    "\n",
    "if p < alpha:\n",
    "    print(\"We reject the null hypothesis\")\n",
    "else:\n",
    "    print(\"We fail to reject the null hypothesis\")\n",
    "p"
   ]
  },
  {
   "cell_type": "code",
   "execution_count": null,
   "metadata": {
    "hidden": true
   },
   "outputs": [],
   "source": [
    "sns.barplot(data=train,x='dime', y='pass_stopped').set(ylim=(0, .40))\n",
    "plt.xlabel('')\n",
    "plt.ylabel('Pass Stopped %')\n",
    "plt.title(\"Is the Dime Formation better at stopping the pass than other formations?\")\n",
    "plt.xticks([0,1], ['Other Formation', 'Dime Formation'])\n",
    "plt.show()"
   ]
  },
  {
   "cell_type": "markdown",
   "metadata": {
    "heading_collapsed": true
   },
   "source": [
    "## Are passes stopped dependent on how defensive formation(4-3)?"
   ]
  },
  {
   "cell_type": "markdown",
   "metadata": {
    "hidden": true
   },
   "source": [
    "- $H_0$: There is no dependence between 4-3 formation and pass stopped\n",
    "- $H_a$: There is a dependence between 4-3 formation and pass stopped"
   ]
  },
  {
   "cell_type": "code",
   "execution_count": null,
   "metadata": {
    "hidden": true
   },
   "outputs": [],
   "source": [
    "observed = pd.crosstab(train.four_three, train.pass_stopped)\n",
    "\n",
    "chi2, p, degf, expected = stats.chi2_contingency(observed)\n",
    "\n",
    "if p < alpha:\n",
    "    print(\"We reject the null hypothesis\")\n",
    "else:\n",
    "    print(\"We fail to reject the null hypothesis\")\n",
    "p"
   ]
  },
  {
   "cell_type": "code",
   "execution_count": null,
   "metadata": {
    "hidden": true
   },
   "outputs": [],
   "source": [
    "sns.barplot(data=train,x='four_three', y='pass_stopped').set(ylim=(0, .40))\n",
    "plt.xlabel('')\n",
    "plt.ylabel('Pass Stopped %')\n",
    "plt.title(\"Is the 4-3 Formation better at stopping the pass than other formations?\")\n",
    "plt.xticks([0,1], ['Other Formation', '4-3 Formation'])\n",
    "plt.show()"
   ]
  },
  {
   "cell_type": "markdown",
   "metadata": {
    "heading_collapsed": true
   },
   "source": [
    "## Are passes stopped dependent on how defensive formation(3-4)?"
   ]
  },
  {
   "cell_type": "markdown",
   "metadata": {
    "hidden": true
   },
   "source": [
    "- $H_0$: There is no dependence between 3-4 formation and pass stopped\n",
    "- $H_a$: There is a dependence between 3-4 formation and pass stopped"
   ]
  },
  {
   "cell_type": "code",
   "execution_count": null,
   "metadata": {
    "hidden": true
   },
   "outputs": [],
   "source": [
    "observed = pd.crosstab(train.three_four, train.pass_stopped)\n",
    "\n",
    "chi2, p, degf, expected = stats.chi2_contingency(observed)\n",
    "\n",
    "if p < alpha:\n",
    "    print(\"We reject the null hypothesis\")\n",
    "else:\n",
    "    print(\"We fail to reject the null hypothesis\")\n",
    "p"
   ]
  },
  {
   "cell_type": "code",
   "execution_count": null,
   "metadata": {
    "hidden": true,
    "scrolled": true
   },
   "outputs": [],
   "source": [
    "sns.barplot(data=train,x='three_four', y='pass_stopped').set(ylim=(0, .40))\n",
    "plt.xlabel('')\n",
    "plt.ylabel('Pass Stopped %')\n",
    "plt.title(\"Is the 3-4 Formation better at stopping the pass than other formations?\")\n",
    "plt.xticks([0,1], ['Other Formation', '3-4 Formation'])\n",
    "plt.show()"
   ]
  },
  {
   "cell_type": "markdown",
   "metadata": {
    "heading_collapsed": true
   },
   "source": [
    "## What makes a defense good?"
   ]
  },
  {
   "cell_type": "code",
   "execution_count": null,
   "metadata": {
    "hidden": true
   },
   "outputs": [],
   "source": [
    "df = pd.read_csv('season.csv')\n",
    "defensedf = df[df[\"position\"].isin([\"CB\", \"OLB\", \"SS\",\"FS\",\"ILB\",\"DE\",\"LB\",\"MLB\",\"S\",\"DT\",\"DL\",\"DB\"])]"
   ]
  },
  {
   "cell_type": "code",
   "execution_count": null,
   "metadata": {
    "hidden": true
   },
   "outputs": [],
   "source": [
    "plt.rcParams['figure.figsize']=(13,7)\n",
    "posdf = defensedf.groupby('position')['event'].sum().reset_index()\n",
    "#pos20 = posdf.sort_values(by='event', ascending=False)\n",
    "posdf = posdf.sort_values(by=['event'], ascending =False)\n",
    "#plt.grid()\n",
    "sns.set_style(\"darkgrid\")\n",
    "sns.barplot(data=posdf, x='position', y= 'event', palette='mako')\n",
    "sns.color_palette('Blues')\n",
    "plt.title('Position and Incompletions', fontsize=13)\n",
    "plt.xlabel('Defensive Position',fontsize=13)\n",
    "plt.ylabel('Incomplete Passes',fontsize=13)\n",
    "posdf"
   ]
  },
  {
   "cell_type": "code",
   "execution_count": null,
   "metadata": {
    "hidden": true
   },
   "outputs": [],
   "source": [
    "cbdf = defensedf[defensedf['position'] == 'CB']\n",
    "olbdf = defensedf[defensedf['position'] == 'OLB']\n",
    "ssdf = defensedf[defensedf['position'] == 'SS']\n",
    "fsdf = defensedf[defensedf['position'] == 'FS']\n",
    "ilbdf = defensedf[defensedf['position'] == 'ILB']"
   ]
  },
  {
   "cell_type": "markdown",
   "metadata": {
    "hidden": true
   },
   "source": [
    "### Cornerback"
   ]
  },
  {
   "cell_type": "code",
   "execution_count": null,
   "metadata": {
    "hidden": true
   },
   "outputs": [],
   "source": [
    "prep_season.get_viz(cbdf)"
   ]
  },
  {
   "cell_type": "markdown",
   "metadata": {
    "hidden": true
   },
   "source": [
    "### Outside Linebacker"
   ]
  },
  {
   "cell_type": "code",
   "execution_count": null,
   "metadata": {
    "hidden": true
   },
   "outputs": [],
   "source": [
    "prep_season.get_viz(olbdf)"
   ]
  },
  {
   "cell_type": "markdown",
   "metadata": {
    "hidden": true
   },
   "source": [
    "### Strong Safety"
   ]
  },
  {
   "cell_type": "code",
   "execution_count": null,
   "metadata": {
    "hidden": true
   },
   "outputs": [],
   "source": [
    "prep_season.get_viz(ssdf)"
   ]
  },
  {
   "cell_type": "markdown",
   "metadata": {
    "hidden": true
   },
   "source": [
    "### Free Safety"
   ]
  },
  {
   "cell_type": "code",
   "execution_count": null,
   "metadata": {
    "hidden": true
   },
   "outputs": [],
   "source": [
    "prep_season.get_viz(fsdf)"
   ]
  },
  {
   "cell_type": "markdown",
   "metadata": {
    "heading_collapsed": true,
    "hidden": true
   },
   "source": [
    "### Inside Linebacker"
   ]
  },
  {
   "cell_type": "markdown",
   "metadata": {
    "heading_collapsed": true
   },
   "source": [
    "## Defensive Position Takeaways - Top 5 Attributes"
   ]
  },
  {
   "cell_type": "code",
   "execution_count": null,
   "metadata": {
    "hidden": true,
    "scrolled": true
   },
   "outputs": [],
   "source": [
    "prep_season.get_viz(ilbdf)"
   ]
  },
  {
   "cell_type": "markdown",
   "metadata": {
    "heading_collapsed": true,
    "hidden": true
   },
   "source": [
    "### CORNERBACK"
   ]
  },
  {
   "cell_type": "markdown",
   "metadata": {
    "hidden": true
   },
   "source": [
    "**Ages:**\n",
    "-    23, 25, 27, 26, 28\n",
    "\n",
    "**Colleges:**\n",
    "-    Ohio state, Florida state, lsu, Alabama, Florida\n",
    "\n",
    "**Height:**\n",
    "-    71\", 72\", 73\", 70\", 69\"\n",
    "\n",
    "**Weight:**\n",
    "-    190lbs, 196lbs, 195lbs, 192lbs, 185lbs"
   ]
  },
  {
   "cell_type": "markdown",
   "metadata": {
    "heading_collapsed": true,
    "hidden": true
   },
   "source": [
    "### OUTSIDE LINEBACKER"
   ]
  },
  {
   "cell_type": "markdown",
   "metadata": {
    "hidden": true
   },
   "source": [
    "**Ages:**\n",
    "- 25, 27, 23, 28, 26\n",
    "\n",
    "**College:**\n",
    "- Georgia, Florida state, Southern California, Kentucky\n",
    "\n",
    "**Height:**\n",
    "- 75\", 73\", 76\", 74\", 77\"\n",
    "\n",
    "**Weight:**\n",
    "- 250lbs, 255lbs, 265lbs, 240lbs, 235lbs"
   ]
  },
  {
   "cell_type": "markdown",
   "metadata": {
    "heading_collapsed": true,
    "hidden": true
   },
   "source": [
    "### STRONG SAFETY"
   ]
  },
  {
   "cell_type": "markdown",
   "metadata": {
    "hidden": true
   },
   "source": [
    "**Ages:**\n",
    "- 27, 24, 26, 30, 25\n",
    "\n",
    "**College:**\n",
    "- Ohio state, boston college, lsu, Georgia, Texas \n",
    "\n",
    "**Height:**\n",
    "- 72\",71\",73\",74\",70\"\n",
    "\n",
    "**Weight:**\n",
    "- 215lbs, 210lbs, 202lbs, 195lbs, 212lbs"
   ]
  },
  {
   "cell_type": "markdown",
   "metadata": {
    "heading_collapsed": true,
    "hidden": true
   },
   "source": [
    "### FREE SAFETY"
   ]
  },
  {
   "cell_type": "markdown",
   "metadata": {
    "hidden": true
   },
   "source": [
    "**Ages:**\n",
    "- 27, 25, 26, 22, 24\n",
    "\n",
    "**College:**\n",
    "- Utah, Rutgers, Alabama, South Carolina, ohio state\n",
    "\n",
    "**Height:**\n",
    "- 73\", 71\", 72\", 70\", 74\"\n",
    "\n",
    "**Weight:**\n",
    "- 205lbs, 195lbs, 212lbs, 202lbs, 14lbs"
   ]
  },
  {
   "cell_type": "markdown",
   "metadata": {
    "hidden": true
   },
   "source": [
    "### INSIDE LINEBACKER"
   ]
  },
  {
   "cell_type": "markdown",
   "metadata": {
    "hidden": true
   },
   "source": [
    "**Ages:**\n",
    "- 23, 28, 26, 24, 29\n",
    "\n",
    "**College:**\n",
    "- Kentucky, Alabama, Washington, Florida state,stanford\n",
    "\n",
    "**Height:**\n",
    "- 73\", 72\", 74\", 75\", 76\"\n",
    "\n",
    "**Weight:**\n",
    "- 250lbs, 232lbs, 230lbs, 245lbs, 235lbs"
   ]
  },
  {
   "cell_type": "markdown",
   "metadata": {
    "heading_collapsed": true
   },
   "source": [
    "## Who are the top defenders?"
   ]
  },
  {
   "cell_type": "code",
   "execution_count": 3,
   "metadata": {
    "hidden": true
   },
   "outputs": [
    {
     "name": "stdout",
     "output_type": "stream",
     "text": [
      "Dataframe Ready For Use\n"
     ]
    },
    {
     "data": {
      "text/html": [
       "<div>\n",
       "<style scoped>\n",
       "    .dataframe tbody tr th:only-of-type {\n",
       "        vertical-align: middle;\n",
       "    }\n",
       "\n",
       "    .dataframe tbody tr th {\n",
       "        vertical-align: top;\n",
       "    }\n",
       "\n",
       "    .dataframe thead th {\n",
       "        text-align: right;\n",
       "    }\n",
       "</style>\n",
       "<table border=\"1\" class=\"dataframe\">\n",
       "  <thead>\n",
       "    <tr style=\"text-align: right;\">\n",
       "      <th></th>\n",
       "      <th>defender</th>\n",
       "      <th>stopped_passes</th>\n",
       "      <th>total_plays</th>\n",
       "      <th>stopped_pass_perc</th>\n",
       "    </tr>\n",
       "  </thead>\n",
       "  <tbody>\n",
       "    <tr>\n",
       "      <th>6</th>\n",
       "      <td>Marlon Humphrey</td>\n",
       "      <td>42</td>\n",
       "      <td>75</td>\n",
       "      <td>0.56</td>\n",
       "    </tr>\n",
       "    <tr>\n",
       "      <th>5</th>\n",
       "      <td>Stephon Gilmore</td>\n",
       "      <td>44</td>\n",
       "      <td>87</td>\n",
       "      <td>0.51</td>\n",
       "    </tr>\n",
       "    <tr>\n",
       "      <th>4</th>\n",
       "      <td>Steven Nelson</td>\n",
       "      <td>44</td>\n",
       "      <td>88</td>\n",
       "      <td>0.50</td>\n",
       "    </tr>\n",
       "    <tr>\n",
       "      <th>0</th>\n",
       "      <td>James Bradberry</td>\n",
       "      <td>49</td>\n",
       "      <td>99</td>\n",
       "      <td>0.49</td>\n",
       "    </tr>\n",
       "    <tr>\n",
       "      <th>7</th>\n",
       "      <td>Denzel Ward</td>\n",
       "      <td>42</td>\n",
       "      <td>85</td>\n",
       "      <td>0.49</td>\n",
       "    </tr>\n",
       "    <tr>\n",
       "      <th>1</th>\n",
       "      <td>Kyle Fuller</td>\n",
       "      <td>47</td>\n",
       "      <td>101</td>\n",
       "      <td>0.47</td>\n",
       "    </tr>\n",
       "    <tr>\n",
       "      <th>2</th>\n",
       "      <td>Jalen Ramsey</td>\n",
       "      <td>45</td>\n",
       "      <td>98</td>\n",
       "      <td>0.46</td>\n",
       "    </tr>\n",
       "    <tr>\n",
       "      <th>3</th>\n",
       "      <td>Eli Apple</td>\n",
       "      <td>45</td>\n",
       "      <td>101</td>\n",
       "      <td>0.45</td>\n",
       "    </tr>\n",
       "    <tr>\n",
       "      <th>8</th>\n",
       "      <td>Adoree' Jackson</td>\n",
       "      <td>41</td>\n",
       "      <td>97</td>\n",
       "      <td>0.42</td>\n",
       "    </tr>\n",
       "    <tr>\n",
       "      <th>9</th>\n",
       "      <td>Joe Haden</td>\n",
       "      <td>38</td>\n",
       "      <td>92</td>\n",
       "      <td>0.41</td>\n",
       "    </tr>\n",
       "  </tbody>\n",
       "</table>\n",
       "</div>"
      ],
      "text/plain": [
       "          defender  stopped_passes  total_plays  stopped_pass_perc\n",
       "6  Marlon Humphrey              42           75               0.56\n",
       "5  Stephon Gilmore              44           87               0.51\n",
       "4    Steven Nelson              44           88               0.50\n",
       "0  James Bradberry              49           99               0.49\n",
       "7      Denzel Ward              42           85               0.49\n",
       "1      Kyle Fuller              47          101               0.47\n",
       "2     Jalen Ramsey              45           98               0.46\n",
       "3        Eli Apple              45          101               0.45\n",
       "8  Adoree' Jackson              41           97               0.42\n",
       "9        Joe Haden              38           92               0.41"
      ]
     },
     "execution_count": 3,
     "metadata": {},
     "output_type": "execute_result"
    }
   ],
   "source": [
    "prep_season.top_defenders()"
   ]
  },
  {
   "cell_type": "markdown",
   "metadata": {},
   "source": [
    "# Model"
   ]
  },
  {
   "cell_type": "code",
   "execution_count": 4,
   "metadata": {},
   "outputs": [],
   "source": [
    "df = prep_plays.prep_plays_data()"
   ]
  },
  {
   "cell_type": "code",
   "execution_count": 5,
   "metadata": {},
   "outputs": [],
   "source": [
    "X_train, y_train, X_validate, y_validate, X_test, y_test = wrangle_plays_data.train_validate_test(df)"
   ]
  },
  {
   "cell_type": "code",
   "execution_count": 6,
   "metadata": {},
   "outputs": [],
   "source": [
    "X_train_scaled, X_validate_scaled, X_test_scaled = wrangle_plays_data.min_max_scale(X_train, X_validate, X_test)"
   ]
  },
  {
   "cell_type": "markdown",
   "metadata": {},
   "source": [
    "## Train"
   ]
  },
  {
   "cell_type": "markdown",
   "metadata": {},
   "source": [
    "### Gradient Boost"
   ]
  },
  {
   "cell_type": "code",
   "execution_count": 7,
   "metadata": {},
   "outputs": [],
   "source": [
    "boost_params = {'learning_rate': [0.0001, 0.001, 0.01, 0.1, 1, 10, 100]}"
   ]
  },
  {
   "cell_type": "code",
   "execution_count": 8,
   "metadata": {},
   "outputs": [
    {
     "name": "stdout",
     "output_type": "stream",
     "text": [
      "0.8733893557422969\n"
     ]
    }
   ],
   "source": [
    "ml = GridSearchCV(GradientBoostingClassifier(), boost_params, cv=5)\n",
    "ml.fit(X_train_scaled, y_train)\n",
    "print(ml.score(X_train_scaled, y_train))"
   ]
  },
  {
   "cell_type": "code",
   "execution_count": 9,
   "metadata": {},
   "outputs": [],
   "source": [
    "y_pred = ml.predict(X_train_scaled)"
   ]
  },
  {
   "cell_type": "code",
   "execution_count": 10,
   "metadata": {},
   "outputs": [
    {
     "data": {
      "text/html": [
       "<div>\n",
       "<style scoped>\n",
       "    .dataframe tbody tr th:only-of-type {\n",
       "        vertical-align: middle;\n",
       "    }\n",
       "\n",
       "    .dataframe tbody tr th {\n",
       "        vertical-align: top;\n",
       "    }\n",
       "\n",
       "    .dataframe thead th {\n",
       "        text-align: right;\n",
       "    }\n",
       "</style>\n",
       "<table border=\"1\" class=\"dataframe\">\n",
       "  <thead>\n",
       "    <tr style=\"text-align: right;\">\n",
       "      <th></th>\n",
       "      <th>0</th>\n",
       "      <th>1</th>\n",
       "    </tr>\n",
       "  </thead>\n",
       "  <tbody>\n",
       "    <tr>\n",
       "      <th>0</th>\n",
       "      <td>3953</td>\n",
       "      <td>689</td>\n",
       "    </tr>\n",
       "    <tr>\n",
       "      <th>1</th>\n",
       "      <td>215</td>\n",
       "      <td>2283</td>\n",
       "    </tr>\n",
       "  </tbody>\n",
       "</table>\n",
       "</div>"
      ],
      "text/plain": [
       "      0     1\n",
       "0  3953   689\n",
       "1   215  2283"
      ]
     },
     "execution_count": 10,
     "metadata": {},
     "output_type": "execute_result"
    }
   ],
   "source": [
    "cm = pd.DataFrame(confusion_matrix(y_train, y_pred))\n",
    "cm"
   ]
  },
  {
   "cell_type": "code",
   "execution_count": 11,
   "metadata": {},
   "outputs": [
    {
     "data": {
      "text/html": [
       "<div>\n",
       "<style scoped>\n",
       "    .dataframe tbody tr th:only-of-type {\n",
       "        vertical-align: middle;\n",
       "    }\n",
       "\n",
       "    .dataframe tbody tr th {\n",
       "        vertical-align: top;\n",
       "    }\n",
       "\n",
       "    .dataframe thead th {\n",
       "        text-align: right;\n",
       "    }\n",
       "</style>\n",
       "<table border=\"1\" class=\"dataframe\">\n",
       "  <thead>\n",
       "    <tr style=\"text-align: right;\">\n",
       "      <th></th>\n",
       "      <th>0</th>\n",
       "      <th>1</th>\n",
       "      <th>accuracy</th>\n",
       "      <th>macro avg</th>\n",
       "      <th>weighted avg</th>\n",
       "    </tr>\n",
       "  </thead>\n",
       "  <tbody>\n",
       "    <tr>\n",
       "      <th>precision</th>\n",
       "      <td>0.948417</td>\n",
       "      <td>0.768170</td>\n",
       "      <td>0.873389</td>\n",
       "      <td>0.858293</td>\n",
       "      <td>0.885355</td>\n",
       "    </tr>\n",
       "    <tr>\n",
       "      <th>recall</th>\n",
       "      <td>0.851573</td>\n",
       "      <td>0.913931</td>\n",
       "      <td>0.873389</td>\n",
       "      <td>0.882752</td>\n",
       "      <td>0.873389</td>\n",
       "    </tr>\n",
       "    <tr>\n",
       "      <th>f1-score</th>\n",
       "      <td>0.897389</td>\n",
       "      <td>0.834735</td>\n",
       "      <td>0.873389</td>\n",
       "      <td>0.866062</td>\n",
       "      <td>0.875469</td>\n",
       "    </tr>\n",
       "    <tr>\n",
       "      <th>support</th>\n",
       "      <td>4642.000000</td>\n",
       "      <td>2498.000000</td>\n",
       "      <td>0.873389</td>\n",
       "      <td>7140.000000</td>\n",
       "      <td>7140.000000</td>\n",
       "    </tr>\n",
       "  </tbody>\n",
       "</table>\n",
       "</div>"
      ],
      "text/plain": [
       "                     0            1  accuracy    macro avg  weighted avg\n",
       "precision     0.948417     0.768170  0.873389     0.858293      0.885355\n",
       "recall        0.851573     0.913931  0.873389     0.882752      0.873389\n",
       "f1-score      0.897389     0.834735  0.873389     0.866062      0.875469\n",
       "support    4642.000000  2498.000000  0.873389  7140.000000   7140.000000"
      ]
     },
     "execution_count": 11,
     "metadata": {},
     "output_type": "execute_result"
    }
   ],
   "source": [
    "class_report = pd.DataFrame(classification_report(y_train, y_pred, output_dict=True))\n",
    "class_report"
   ]
  },
  {
   "cell_type": "markdown",
   "metadata": {},
   "source": [
    "### KNN"
   ]
  },
  {
   "cell_type": "code",
   "execution_count": 12,
   "metadata": {},
   "outputs": [
    {
     "name": "stdout",
     "output_type": "stream",
     "text": [
      ">>>>>>>>>> Accuracy of KNN classifier on TRAIN set: 0.87\n"
     ]
    },
    {
     "data": {
      "text/html": [
       "<div>\n",
       "<style scoped>\n",
       "    .dataframe tbody tr th:only-of-type {\n",
       "        vertical-align: middle;\n",
       "    }\n",
       "\n",
       "    .dataframe tbody tr th {\n",
       "        vertical-align: top;\n",
       "    }\n",
       "\n",
       "    .dataframe thead th {\n",
       "        text-align: right;\n",
       "    }\n",
       "</style>\n",
       "<table border=\"1\" class=\"dataframe\">\n",
       "  <thead>\n",
       "    <tr style=\"text-align: right;\">\n",
       "      <th></th>\n",
       "      <th>0</th>\n",
       "      <th>1</th>\n",
       "    </tr>\n",
       "  </thead>\n",
       "  <tbody>\n",
       "    <tr>\n",
       "      <th>0</th>\n",
       "      <td>4109</td>\n",
       "      <td>533</td>\n",
       "    </tr>\n",
       "    <tr>\n",
       "      <th>1</th>\n",
       "      <td>398</td>\n",
       "      <td>2100</td>\n",
       "    </tr>\n",
       "  </tbody>\n",
       "</table>\n",
       "</div>"
      ],
      "text/plain": [
       "      0     1\n",
       "0  4109   533\n",
       "1   398  2100"
      ]
     },
     "execution_count": 12,
     "metadata": {},
     "output_type": "execute_result"
    }
   ],
   "source": [
    "# TRAIN creating object\n",
    "knn = KNeighborsClassifier(n_neighbors=5, weights='uniform')\n",
    "\n",
    "knn.fit(X_train_scaled, y_train)\n",
    "\n",
    "KNeighborsClassifier(algorithm='auto', leaf_size=30, metric='minkowski',\n",
    "                     metric_params=None, n_jobs=None, n_neighbors=5, p=2,\n",
    "                     weights='uniform')\n",
    "\n",
    "y_pred = knn.predict(X_train_scaled)\n",
    "\n",
    "y_pred_proba = knn.predict_proba(X_train_scaled)\n",
    "\n",
    "print('>>>>>>>>>> Accuracy of KNN classifier on TRAIN set: {:.2f}'\n",
    "     .format(knn.score(X_train_scaled, y_train)))\n",
    "\n",
    "cm = pd.DataFrame(confusion_matrix(y_train, y_pred))\n",
    "\n",
    "report = pd.DataFrame(classification_report(y_train, y_pred, output_dict=True))\n",
    "cm"
   ]
  },
  {
   "cell_type": "code",
   "execution_count": 13,
   "metadata": {},
   "outputs": [
    {
     "data": {
      "text/html": [
       "<div>\n",
       "<style scoped>\n",
       "    .dataframe tbody tr th:only-of-type {\n",
       "        vertical-align: middle;\n",
       "    }\n",
       "\n",
       "    .dataframe tbody tr th {\n",
       "        vertical-align: top;\n",
       "    }\n",
       "\n",
       "    .dataframe thead th {\n",
       "        text-align: right;\n",
       "    }\n",
       "</style>\n",
       "<table border=\"1\" class=\"dataframe\">\n",
       "  <thead>\n",
       "    <tr style=\"text-align: right;\">\n",
       "      <th></th>\n",
       "      <th>0</th>\n",
       "      <th>1</th>\n",
       "      <th>accuracy</th>\n",
       "      <th>macro avg</th>\n",
       "      <th>weighted avg</th>\n",
       "    </tr>\n",
       "  </thead>\n",
       "  <tbody>\n",
       "    <tr>\n",
       "      <th>precision</th>\n",
       "      <td>0.911693</td>\n",
       "      <td>0.797569</td>\n",
       "      <td>0.869608</td>\n",
       "      <td>0.854631</td>\n",
       "      <td>0.871766</td>\n",
       "    </tr>\n",
       "    <tr>\n",
       "      <th>recall</th>\n",
       "      <td>0.885179</td>\n",
       "      <td>0.840673</td>\n",
       "      <td>0.869608</td>\n",
       "      <td>0.862926</td>\n",
       "      <td>0.869608</td>\n",
       "    </tr>\n",
       "    <tr>\n",
       "      <th>f1-score</th>\n",
       "      <td>0.898240</td>\n",
       "      <td>0.818554</td>\n",
       "      <td>0.869608</td>\n",
       "      <td>0.858397</td>\n",
       "      <td>0.870361</td>\n",
       "    </tr>\n",
       "    <tr>\n",
       "      <th>support</th>\n",
       "      <td>4642.000000</td>\n",
       "      <td>2498.000000</td>\n",
       "      <td>0.869608</td>\n",
       "      <td>7140.000000</td>\n",
       "      <td>7140.000000</td>\n",
       "    </tr>\n",
       "  </tbody>\n",
       "</table>\n",
       "</div>"
      ],
      "text/plain": [
       "                     0            1  accuracy    macro avg  weighted avg\n",
       "precision     0.911693     0.797569  0.869608     0.854631      0.871766\n",
       "recall        0.885179     0.840673  0.869608     0.862926      0.869608\n",
       "f1-score      0.898240     0.818554  0.869608     0.858397      0.870361\n",
       "support    4642.000000  2498.000000  0.869608  7140.000000   7140.000000"
      ]
     },
     "execution_count": 13,
     "metadata": {},
     "output_type": "execute_result"
    }
   ],
   "source": [
    "report"
   ]
  },
  {
   "cell_type": "markdown",
   "metadata": {},
   "source": [
    "### Logistic Regression"
   ]
  },
  {
   "cell_type": "code",
   "execution_count": 14,
   "metadata": {},
   "outputs": [
    {
     "name": "stdout",
     "output_type": "stream",
     "text": [
      "Coefficient: \n",
      " [[-2.44483839e-02 -8.01801840e-01  6.28262443e-01  5.57418310e-01\n",
      "  -4.17226644e+01  2.91782250e-01  1.29781562e+00]]\n",
      "Intercept: \n",
      " [24.15648898]\n",
      ">>>>>>>>>> Accuracy of Logistic Regression classifier on TRAIN set: 0.54\n"
     ]
    },
    {
     "data": {
      "text/html": [
       "<div>\n",
       "<style scoped>\n",
       "    .dataframe tbody tr th:only-of-type {\n",
       "        vertical-align: middle;\n",
       "    }\n",
       "\n",
       "    .dataframe tbody tr th {\n",
       "        vertical-align: top;\n",
       "    }\n",
       "\n",
       "    .dataframe thead th {\n",
       "        text-align: right;\n",
       "    }\n",
       "</style>\n",
       "<table border=\"1\" class=\"dataframe\">\n",
       "  <thead>\n",
       "    <tr style=\"text-align: right;\">\n",
       "      <th></th>\n",
       "      <th>0</th>\n",
       "      <th>1</th>\n",
       "    </tr>\n",
       "  </thead>\n",
       "  <tbody>\n",
       "    <tr>\n",
       "      <th>0</th>\n",
       "      <td>1359</td>\n",
       "      <td>3283</td>\n",
       "    </tr>\n",
       "    <tr>\n",
       "      <th>1</th>\n",
       "      <td>5</td>\n",
       "      <td>2493</td>\n",
       "    </tr>\n",
       "  </tbody>\n",
       "</table>\n",
       "</div>"
      ],
      "text/plain": [
       "      0     1\n",
       "0  1359  3283\n",
       "1     5  2493"
      ]
     },
     "execution_count": 14,
     "metadata": {},
     "output_type": "execute_result"
    }
   ],
   "source": [
    "# SCALED creating the object\n",
    "logit = LogisticRegression(C=1, class_weight={0:1, 1:99}, random_state=123, intercept_scaling=1, solver='lbfgs')\n",
    "\n",
    "# fit the model\n",
    "logit.fit(X_train_scaled, y_train)\n",
    "\n",
    "LogisticRegression(C=1, class_weight={0: 1, 1: 99}, dual=False,\n",
    "                   fit_intercept=True, intercept_scaling=1, l1_ratio=None,\n",
    "                   max_iter=100, multi_class='auto', n_jobs=None, penalty='l2',\n",
    "                   random_state=123, solver='lbfgs', tol=0.0001, verbose=0,\n",
    "                   warm_start=False)\n",
    "\n",
    "print('Coefficient: \\n', logit.coef_)\n",
    "print('Intercept: \\n', logit.intercept_)\n",
    "\n",
    "y_pred = logit.predict(X_train_scaled)\n",
    "\n",
    "y_pred_proba = logit.predict_proba(X_train_scaled)\n",
    "\n",
    "print('>>>>>>>>>> Accuracy of Logistic Regression classifier on TRAIN set: {:.2f}'\n",
    "     .format(logit.score(X_train_scaled, y_train)))\n",
    "cm = pd.DataFrame(confusion_matrix(y_train, y_pred))\n",
    "\n",
    "report = pd.DataFrame(classification_report(y_train, y_pred, output_dict=True))\n",
    "cm"
   ]
  },
  {
   "cell_type": "code",
   "execution_count": 15,
   "metadata": {
    "scrolled": true
   },
   "outputs": [
    {
     "data": {
      "text/html": [
       "<div>\n",
       "<style scoped>\n",
       "    .dataframe tbody tr th:only-of-type {\n",
       "        vertical-align: middle;\n",
       "    }\n",
       "\n",
       "    .dataframe tbody tr th {\n",
       "        vertical-align: top;\n",
       "    }\n",
       "\n",
       "    .dataframe thead th {\n",
       "        text-align: right;\n",
       "    }\n",
       "</style>\n",
       "<table border=\"1\" class=\"dataframe\">\n",
       "  <thead>\n",
       "    <tr style=\"text-align: right;\">\n",
       "      <th></th>\n",
       "      <th>0</th>\n",
       "      <th>1</th>\n",
       "      <th>accuracy</th>\n",
       "      <th>macro avg</th>\n",
       "      <th>weighted avg</th>\n",
       "    </tr>\n",
       "  </thead>\n",
       "  <tbody>\n",
       "    <tr>\n",
       "      <th>precision</th>\n",
       "      <td>0.996334</td>\n",
       "      <td>0.431614</td>\n",
       "      <td>0.539496</td>\n",
       "      <td>0.713974</td>\n",
       "      <td>0.798761</td>\n",
       "    </tr>\n",
       "    <tr>\n",
       "      <th>recall</th>\n",
       "      <td>0.292762</td>\n",
       "      <td>0.997998</td>\n",
       "      <td>0.539496</td>\n",
       "      <td>0.645380</td>\n",
       "      <td>0.539496</td>\n",
       "    </tr>\n",
       "    <tr>\n",
       "      <th>f1-score</th>\n",
       "      <td>0.452547</td>\n",
       "      <td>0.602611</td>\n",
       "      <td>0.539496</td>\n",
       "      <td>0.527579</td>\n",
       "      <td>0.505049</td>\n",
       "    </tr>\n",
       "    <tr>\n",
       "      <th>support</th>\n",
       "      <td>4642.000000</td>\n",
       "      <td>2498.000000</td>\n",
       "      <td>0.539496</td>\n",
       "      <td>7140.000000</td>\n",
       "      <td>7140.000000</td>\n",
       "    </tr>\n",
       "  </tbody>\n",
       "</table>\n",
       "</div>"
      ],
      "text/plain": [
       "                     0            1  accuracy    macro avg  weighted avg\n",
       "precision     0.996334     0.431614  0.539496     0.713974      0.798761\n",
       "recall        0.292762     0.997998  0.539496     0.645380      0.539496\n",
       "f1-score      0.452547     0.602611  0.539496     0.527579      0.505049\n",
       "support    4642.000000  2498.000000  0.539496  7140.000000   7140.000000"
      ]
     },
     "execution_count": 15,
     "metadata": {},
     "output_type": "execute_result"
    }
   ],
   "source": [
    "report"
   ]
  },
  {
   "cell_type": "markdown",
   "metadata": {},
   "source": [
    "### SVM Modeling"
   ]
  },
  {
   "cell_type": "code",
   "execution_count": 16,
   "metadata": {},
   "outputs": [
    {
     "data": {
      "text/plain": [
       "array([[0.64769658, 0.35230342],\n",
       "       [0.64777807, 0.35222193],\n",
       "       [0.64768894, 0.35231106],\n",
       "       [0.64767822, 0.35232178],\n",
       "       [0.64786787, 0.35213213],\n",
       "       [0.64778453, 0.35221547],\n",
       "       [0.6478598 , 0.3521402 ],\n",
       "       [0.64776627, 0.35223373],\n",
       "       [0.64793948, 0.35206052],\n",
       "       [0.6478709 , 0.3521291 ]])"
      ]
     },
     "execution_count": 16,
     "metadata": {},
     "output_type": "execute_result"
    }
   ],
   "source": [
    "svm = SVC(probability = True, random_state = 123)\n",
    "svm.fit(X_train, y_train)\n",
    "y_pred = svm.predict(X_train)\n",
    "y_pred_proba = svm.predict_proba(X_train)\n",
    "y_pred_proba[0:10]"
   ]
  },
  {
   "cell_type": "code",
   "execution_count": 17,
   "metadata": {},
   "outputs": [
    {
     "name": "stdout",
     "output_type": "stream",
     "text": [
      "Accuracy of SVM classifier on training set: 0.65\n"
     ]
    }
   ],
   "source": [
    "print('Accuracy of SVM classifier on training set: {:.2f}'\n",
    "      .format(svm.score(X_train, y_train)))"
   ]
  },
  {
   "cell_type": "markdown",
   "metadata": {},
   "source": [
    "### Random Forest"
   ]
  },
  {
   "cell_type": "code",
   "execution_count": null,
   "metadata": {},
   "outputs": [],
   "source": []
  },
  {
   "cell_type": "code",
   "execution_count": null,
   "metadata": {},
   "outputs": [],
   "source": []
  },
  {
   "cell_type": "markdown",
   "metadata": {},
   "source": [
    "## Validate"
   ]
  },
  {
   "cell_type": "markdown",
   "metadata": {
    "heading_collapsed": true
   },
   "source": [
    "### Gradient Boost"
   ]
  },
  {
   "cell_type": "code",
   "execution_count": null,
   "metadata": {
    "hidden": true
   },
   "outputs": [],
   "source": [
    "print(ml.score(X_validate_scaled, y_validate))"
   ]
  },
  {
   "cell_type": "code",
   "execution_count": null,
   "metadata": {
    "hidden": true
   },
   "outputs": [],
   "source": [
    "y_pred_val = ml.predict(X_validate_scaled)"
   ]
  },
  {
   "cell_type": "code",
   "execution_count": null,
   "metadata": {
    "hidden": true
   },
   "outputs": [],
   "source": [
    "cm = pd.DataFrame(confusion_matrix(y_pred_val, y_validate))\n",
    "cm"
   ]
  },
  {
   "cell_type": "code",
   "execution_count": null,
   "metadata": {
    "hidden": true
   },
   "outputs": [],
   "source": [
    "class_report = pd.DataFrame(classification_report(y_validate, y_pred_val, output_dict=True))\n",
    "class_report"
   ]
  },
  {
   "cell_type": "markdown",
   "metadata": {
    "heading_collapsed": true
   },
   "source": [
    "### KNN"
   ]
  },
  {
   "cell_type": "code",
   "execution_count": null,
   "metadata": {
    "hidden": true
   },
   "outputs": [],
   "source": [
    "y_pred = knn.predict(X_validate_scaled)\n",
    "\n",
    "y_pred_proba = knn.predict_proba(X_validate_scaled)\n",
    "\n",
    "print('>>>>>>>>>> Accuracy of KNN classifier on VALIDATE set: {:.2f}'\n",
    "      .format(knn.score(X_validate_scaled, y_validate)))\n",
    "\n",
    "cm = pd.DataFrame(confusion_matrix(y_validate, y_pred))\n",
    "\n",
    "report = pd.DataFrame(classification_report(y_validate, y_pred, output_dict=True))\n",
    "cm"
   ]
  },
  {
   "cell_type": "code",
   "execution_count": null,
   "metadata": {
    "hidden": true
   },
   "outputs": [],
   "source": [
    "report"
   ]
  },
  {
   "cell_type": "markdown",
   "metadata": {
    "heading_collapsed": true
   },
   "source": [
    "### SVM"
   ]
  },
  {
   "cell_type": "code",
   "execution_count": null,
   "metadata": {
    "hidden": true
   },
   "outputs": [],
   "source": [
    "print('>>>>>>>>>> Accuracy of SVM classifier on test set: {:.2f}'\n",
    "     .format(svm.score(X_validate, y_validate)))"
   ]
  },
  {
   "cell_type": "markdown",
   "metadata": {
    "heading_collapsed": true
   },
   "source": [
    "### Random Forest"
   ]
  },
  {
   "cell_type": "code",
   "execution_count": null,
   "metadata": {
    "hidden": true
   },
   "outputs": [],
   "source": []
  },
  {
   "cell_type": "code",
   "execution_count": null,
   "metadata": {
    "hidden": true
   },
   "outputs": [],
   "source": []
  },
  {
   "cell_type": "markdown",
   "metadata": {
    "heading_collapsed": true
   },
   "source": [
    "## Test"
   ]
  },
  {
   "cell_type": "code",
   "execution_count": null,
   "metadata": {
    "hidden": true
   },
   "outputs": [],
   "source": [
    "d"
   ]
  },
  {
   "cell_type": "code",
   "execution_count": null,
   "metadata": {
    "hidden": true
   },
   "outputs": [],
   "source": []
  },
  {
   "cell_type": "code",
   "execution_count": null,
   "metadata": {
    "hidden": true
   },
   "outputs": [],
   "source": []
  },
  {
   "cell_type": "markdown",
   "metadata": {},
   "source": [
    "# Conclusions"
   ]
  },
  {
   "cell_type": "markdown",
   "metadata": {},
   "source": [
    "- Our Random Forest Model was 93% accurate at predicting a pass being stopped.\n",
    "- EPA & closest_dist turned out to be significant features in our model.\n",
    "- Success in defending the pass truly depends on the defenders' ability to prevent separation from receiver and their reaction time.\n",
    "- When pressure is applied to the quarter back, the completion percentage significantly decreases.\n",
    "- Dime formation (6 defensive backs) had the best success in stopping the pass."
   ]
  },
  {
   "cell_type": "markdown",
   "metadata": {},
   "source": [
    "# Next Steps"
   ]
  },
  {
   "cell_type": "markdown",
   "metadata": {},
   "source": [
    "- Look into creating new features in our model \n",
    "    - Incorporating the best defensive defenders against the pass\n",
    "- Answer new questions \n",
    "    - Does the pass distance increase or decrease the ability for a defender to stop a pass? \n",
    "    - Does a shorter or longer play influence a pass incompletion?\n",
    "- work out mislabels and small bugs for closest_dist feature\n",
    "- use similar algorithm to find the distance of all cornerbacks to their defensive assignments i.e. WR, RB, TE, etc\n",
    "- further analyze the components of EPA to understand their influence on the model\n",
    "- explore trick plays to see if the same features carry over from the traditional offensive setup"
   ]
  },
  {
   "cell_type": "code",
   "execution_count": null,
   "metadata": {},
   "outputs": [],
   "source": []
  },
  {
   "cell_type": "code",
   "execution_count": null,
   "metadata": {},
   "outputs": [],
   "source": []
  },
  {
   "cell_type": "code",
   "execution_count": null,
   "metadata": {},
   "outputs": [],
   "source": []
  },
  {
   "cell_type": "code",
   "execution_count": null,
   "metadata": {},
   "outputs": [],
   "source": []
  }
 ],
 "metadata": {
  "kernelspec": {
   "display_name": "Python 3",
   "language": "python",
   "name": "python3"
  },
  "language_info": {
   "codemirror_mode": {
    "name": "ipython",
    "version": 3
   },
   "file_extension": ".py",
   "mimetype": "text/x-python",
   "name": "python",
   "nbconvert_exporter": "python",
   "pygments_lexer": "ipython3",
   "version": "3.7.9"
  },
  "toc": {
   "base_numbering": 1,
   "nav_menu": {},
   "number_sections": true,
   "sideBar": true,
   "skip_h1_title": false,
   "title_cell": "Table of Contents",
   "title_sidebar": "Contents",
   "toc_cell": false,
   "toc_position": {},
   "toc_section_display": true,
   "toc_window_display": false
  }
 },
 "nbformat": 4,
 "nbformat_minor": 4
}
